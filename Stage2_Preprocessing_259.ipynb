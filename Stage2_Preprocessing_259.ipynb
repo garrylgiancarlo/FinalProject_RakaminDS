{
 "cells": [
  {
   "cell_type": "markdown",
   "id": "e926cbf4-6526-4721-92c2-bfb84469f514",
   "metadata": {},
   "source": [
    "# Data Preprocessing"
   ]
  },
  {
   "cell_type": "code",
   "execution_count": 27,
   "id": "ce752a97-369f-4f0e-b607-40d794402511",
   "metadata": {},
   "outputs": [],
   "source": [
    "import numpy as np\n",
    "import pandas as pd\n",
    "import matplotlib.pyplot as plt\n",
    "import seaborn as sns\n",
    "from matplotlib import rcParams\n",
    "from sklearn.impute import SimpleImputer\n",
    "from scipy import stats"
   ]
  },
  {
   "cell_type": "code",
   "execution_count": 2,
   "id": "8baa157a-b4a3-4f33-b6e7-3bc60ecd3980",
   "metadata": {},
   "outputs": [],
   "source": [
    "df = pd.read_excel('E Commerce Dataset.xlsx', sheet_name='E Comm')"
   ]
  },
  {
   "cell_type": "code",
   "execution_count": 3,
   "id": "0fc4dc15-e0b4-4881-a000-c20ef9f72482",
   "metadata": {},
   "outputs": [],
   "source": [
    "df.drop('CustomerID', axis = 1, inplace = True)"
   ]
  },
  {
   "cell_type": "code",
   "execution_count": 5,
   "id": "19d13c68-febf-49fd-a3ad-c961748369e0",
   "metadata": {},
   "outputs": [
    {
     "data": {
      "text/html": [
       "<div>\n",
       "<style scoped>\n",
       "    .dataframe tbody tr th:only-of-type {\n",
       "        vertical-align: middle;\n",
       "    }\n",
       "\n",
       "    .dataframe tbody tr th {\n",
       "        vertical-align: top;\n",
       "    }\n",
       "\n",
       "    .dataframe thead th {\n",
       "        text-align: right;\n",
       "    }\n",
       "</style>\n",
       "<table border=\"1\" class=\"dataframe\">\n",
       "  <thead>\n",
       "    <tr style=\"text-align: right;\">\n",
       "      <th></th>\n",
       "      <th>Churn</th>\n",
       "      <th>Tenure</th>\n",
       "      <th>PreferredLoginDevice</th>\n",
       "      <th>CityTier</th>\n",
       "      <th>WarehouseToHome</th>\n",
       "      <th>PreferredPaymentMode</th>\n",
       "      <th>Gender</th>\n",
       "      <th>HourSpendOnApp</th>\n",
       "      <th>NumberOfDeviceRegistered</th>\n",
       "      <th>PreferedOrderCat</th>\n",
       "      <th>SatisfactionScore</th>\n",
       "      <th>MaritalStatus</th>\n",
       "      <th>NumberOfAddress</th>\n",
       "      <th>Complain</th>\n",
       "      <th>OrderAmountHikeFromlastYear</th>\n",
       "      <th>CouponUsed</th>\n",
       "      <th>OrderCount</th>\n",
       "      <th>DaySinceLastOrder</th>\n",
       "      <th>CashbackAmount</th>\n",
       "    </tr>\n",
       "  </thead>\n",
       "  <tbody>\n",
       "    <tr>\n",
       "      <th>4517</th>\n",
       "      <td>1</td>\n",
       "      <td>1.0</td>\n",
       "      <td>Computer</td>\n",
       "      <td>3</td>\n",
       "      <td>7.0</td>\n",
       "      <td>COD</td>\n",
       "      <td>Female</td>\n",
       "      <td>4.0</td>\n",
       "      <td>5</td>\n",
       "      <td>Mobile Phone</td>\n",
       "      <td>4</td>\n",
       "      <td>Single</td>\n",
       "      <td>3</td>\n",
       "      <td>1</td>\n",
       "      <td>12.0</td>\n",
       "      <td>2.0</td>\n",
       "      <td>2.0</td>\n",
       "      <td>3.0</td>\n",
       "      <td>146.74</td>\n",
       "    </tr>\n",
       "    <tr>\n",
       "      <th>2289</th>\n",
       "      <td>0</td>\n",
       "      <td>1.0</td>\n",
       "      <td>Computer</td>\n",
       "      <td>1</td>\n",
       "      <td>7.0</td>\n",
       "      <td>Debit Card</td>\n",
       "      <td>Female</td>\n",
       "      <td>2.0</td>\n",
       "      <td>5</td>\n",
       "      <td>Laptop &amp; Accessory</td>\n",
       "      <td>1</td>\n",
       "      <td>Married</td>\n",
       "      <td>1</td>\n",
       "      <td>0</td>\n",
       "      <td>11.0</td>\n",
       "      <td>7.0</td>\n",
       "      <td>7.0</td>\n",
       "      <td>5.0</td>\n",
       "      <td>166.74</td>\n",
       "    </tr>\n",
       "    <tr>\n",
       "      <th>1525</th>\n",
       "      <td>0</td>\n",
       "      <td>4.0</td>\n",
       "      <td>Phone</td>\n",
       "      <td>1</td>\n",
       "      <td>18.0</td>\n",
       "      <td>Credit Card</td>\n",
       "      <td>Female</td>\n",
       "      <td>3.0</td>\n",
       "      <td>3</td>\n",
       "      <td>Mobile Phone</td>\n",
       "      <td>1</td>\n",
       "      <td>Married</td>\n",
       "      <td>9</td>\n",
       "      <td>1</td>\n",
       "      <td>23.0</td>\n",
       "      <td>1.0</td>\n",
       "      <td>1.0</td>\n",
       "      <td>2.0</td>\n",
       "      <td>139.29</td>\n",
       "    </tr>\n",
       "    <tr>\n",
       "      <th>682</th>\n",
       "      <td>0</td>\n",
       "      <td>11.0</td>\n",
       "      <td>Mobile Phone</td>\n",
       "      <td>3</td>\n",
       "      <td>16.0</td>\n",
       "      <td>E wallet</td>\n",
       "      <td>Male</td>\n",
       "      <td>3.0</td>\n",
       "      <td>4</td>\n",
       "      <td>Fashion</td>\n",
       "      <td>3</td>\n",
       "      <td>Married</td>\n",
       "      <td>1</td>\n",
       "      <td>1</td>\n",
       "      <td>14.0</td>\n",
       "      <td>2.0</td>\n",
       "      <td>2.0</td>\n",
       "      <td>7.0</td>\n",
       "      <td>187.40</td>\n",
       "    </tr>\n",
       "    <tr>\n",
       "      <th>3400</th>\n",
       "      <td>0</td>\n",
       "      <td>7.0</td>\n",
       "      <td>Computer</td>\n",
       "      <td>3</td>\n",
       "      <td>24.0</td>\n",
       "      <td>Debit Card</td>\n",
       "      <td>Male</td>\n",
       "      <td>3.0</td>\n",
       "      <td>4</td>\n",
       "      <td>Grocery</td>\n",
       "      <td>3</td>\n",
       "      <td>Single</td>\n",
       "      <td>3</td>\n",
       "      <td>0</td>\n",
       "      <td>NaN</td>\n",
       "      <td>6.0</td>\n",
       "      <td>7.0</td>\n",
       "      <td>1.0</td>\n",
       "      <td>299.44</td>\n",
       "    </tr>\n",
       "  </tbody>\n",
       "</table>\n",
       "</div>"
      ],
      "text/plain": [
       "      Churn  Tenure PreferredLoginDevice  CityTier  WarehouseToHome  \\\n",
       "4517      1     1.0             Computer         3              7.0   \n",
       "2289      0     1.0             Computer         1              7.0   \n",
       "1525      0     4.0                Phone         1             18.0   \n",
       "682       0    11.0         Mobile Phone         3             16.0   \n",
       "3400      0     7.0             Computer         3             24.0   \n",
       "\n",
       "     PreferredPaymentMode  Gender  HourSpendOnApp  NumberOfDeviceRegistered  \\\n",
       "4517                  COD  Female             4.0                         5   \n",
       "2289           Debit Card  Female             2.0                         5   \n",
       "1525          Credit Card  Female             3.0                         3   \n",
       "682              E wallet    Male             3.0                         4   \n",
       "3400           Debit Card    Male             3.0                         4   \n",
       "\n",
       "        PreferedOrderCat  SatisfactionScore MaritalStatus  NumberOfAddress  \\\n",
       "4517        Mobile Phone                  4        Single                3   \n",
       "2289  Laptop & Accessory                  1       Married                1   \n",
       "1525        Mobile Phone                  1       Married                9   \n",
       "682              Fashion                  3       Married                1   \n",
       "3400             Grocery                  3        Single                3   \n",
       "\n",
       "      Complain  OrderAmountHikeFromlastYear  CouponUsed  OrderCount  \\\n",
       "4517         1                         12.0         2.0         2.0   \n",
       "2289         0                         11.0         7.0         7.0   \n",
       "1525         1                         23.0         1.0         1.0   \n",
       "682          1                         14.0         2.0         2.0   \n",
       "3400         0                          NaN         6.0         7.0   \n",
       "\n",
       "      DaySinceLastOrder  CashbackAmount  \n",
       "4517                3.0          146.74  \n",
       "2289                5.0          166.74  \n",
       "1525                2.0          139.29  \n",
       "682                 7.0          187.40  \n",
       "3400                1.0          299.44  "
      ]
     },
     "execution_count": 5,
     "metadata": {},
     "output_type": "execute_result"
    }
   ],
   "source": [
    "df.sample(5)"
   ]
  },
  {
   "cell_type": "code",
   "execution_count": 12,
   "id": "7fee7f49-46bc-41c2-a7c2-76aabbb45ead",
   "metadata": {},
   "outputs": [],
   "source": [
    "#pengelompokan\n",
    "cats = ['Churn','CityTier','PreferredLoginDevice','PreferredPaymentMode','Gender','PreferedOrderCat','MaritalStatus']\n",
    "nums = ['Tenure','WarehouseToHome','HourSpendOnApp','NumberOfDeviceRegistered','SatisfactionScore','NumberOfAddress'\n",
    "            ,'Complain','OrderAmountHikeFromlastYear','CouponUsed','OrderCount','DaySinceLastOrder','CashbackAmount']"
   ]
  },
  {
   "cell_type": "code",
   "execution_count": 18,
   "id": "2560667b-114c-4894-80b5-aba1a9291aac",
   "metadata": {},
   "outputs": [],
   "source": [
    "df['Churn'] = df['Churn'].astype(str)\n",
    "df['CityTier'] = df['CityTier'].astype(str)"
   ]
  },
  {
   "cell_type": "code",
   "execution_count": 19,
   "id": "2a33bef8-7bc6-4292-9118-8a90a5336860",
   "metadata": {},
   "outputs": [
    {
     "name": "stdout",
     "output_type": "stream",
     "text": [
      "<class 'pandas.core.frame.DataFrame'>\n",
      "RangeIndex: 5630 entries, 0 to 5629\n",
      "Data columns (total 19 columns):\n",
      " #   Column                       Non-Null Count  Dtype  \n",
      "---  ------                       --------------  -----  \n",
      " 0   Churn                        5630 non-null   object \n",
      " 1   Tenure                       5366 non-null   float64\n",
      " 2   PreferredLoginDevice         5630 non-null   object \n",
      " 3   CityTier                     5630 non-null   object \n",
      " 4   WarehouseToHome              5379 non-null   float64\n",
      " 5   PreferredPaymentMode         5630 non-null   object \n",
      " 6   Gender                       5630 non-null   object \n",
      " 7   HourSpendOnApp               5375 non-null   float64\n",
      " 8   NumberOfDeviceRegistered     5630 non-null   int64  \n",
      " 9   PreferedOrderCat             5630 non-null   object \n",
      " 10  SatisfactionScore            5630 non-null   int64  \n",
      " 11  MaritalStatus                5630 non-null   object \n",
      " 12  NumberOfAddress              5630 non-null   int64  \n",
      " 13  Complain                     5630 non-null   int64  \n",
      " 14  OrderAmountHikeFromlastYear  5365 non-null   float64\n",
      " 15  CouponUsed                   5374 non-null   float64\n",
      " 16  OrderCount                   5372 non-null   float64\n",
      " 17  DaySinceLastOrder            5323 non-null   float64\n",
      " 18  CashbackAmount               5630 non-null   float64\n",
      "dtypes: float64(8), int64(4), object(7)\n",
      "memory usage: 835.8+ KB\n"
     ]
    }
   ],
   "source": [
    "df.info()"
   ]
  },
  {
   "cell_type": "markdown",
   "id": "77b7e69b-7108-44cc-a788-e844af6e32cc",
   "metadata": {},
   "source": [
    "## Merge Value Ganda"
   ]
  },
  {
   "cell_type": "code",
   "execution_count": 8,
   "id": "57a41cc1-ed5e-4ea5-86c9-64fb490d552a",
   "metadata": {},
   "outputs": [
    {
     "name": "stdout",
     "output_type": "stream",
     "text": [
      "Value count kolom PreferredLoginDevice:\n",
      "Mobile Phone    2765\n",
      "Computer        1634\n",
      "Phone           1231\n",
      "Name: PreferredLoginDevice, dtype: int64\n",
      "\n",
      "Value count kolom PreferredPaymentMode:\n",
      "Debit Card          2314\n",
      "Credit Card         1501\n",
      "E wallet             614\n",
      "UPI                  414\n",
      "COD                  365\n",
      "CC                   273\n",
      "Cash on Delivery     149\n",
      "Name: PreferredPaymentMode, dtype: int64\n",
      "\n",
      "Value count kolom Gender:\n",
      "Male      3384\n",
      "Female    2246\n",
      "Name: Gender, dtype: int64\n",
      "\n",
      "Value count kolom PreferedOrderCat:\n",
      "Laptop & Accessory    2050\n",
      "Mobile Phone          1271\n",
      "Fashion                826\n",
      "Mobile                 809\n",
      "Grocery                410\n",
      "Others                 264\n",
      "Name: PreferedOrderCat, dtype: int64\n",
      "\n",
      "Value count kolom MaritalStatus:\n",
      "Married     2986\n",
      "Single      1796\n",
      "Divorced     848\n",
      "Name: MaritalStatus, dtype: int64\n",
      "\n"
     ]
    }
   ],
   "source": [
    "#Sebelum Merge\n",
    "for col in cats:\n",
    "    print(f'''Value count kolom {col}:''')\n",
    "    print(df[col].value_counts())\n",
    "    print()"
   ]
  },
  {
   "cell_type": "code",
   "execution_count": 9,
   "id": "2929ac71-e45e-4a49-a8b1-d724a79fc49a",
   "metadata": {},
   "outputs": [],
   "source": [
    "df.loc[df['PreferredLoginDevice'] == 'Phone', 'PreferredLoginDevice' ] = 'Mobile Phone'\n",
    "df.loc[df['PreferredPaymentMode'] == 'COD', 'PreferredPaymentMode' ] = 'Cash on Delivery'\n",
    "df.loc[df['PreferredPaymentMode'] == 'CC', 'PreferredPaymentMode' ] = 'Credit Card'\n",
    "df.loc[df['PreferedOrderCat'] == 'Mobile', 'PreferedOrderCat' ] = 'Mobile Phone'"
   ]
  },
  {
   "cell_type": "code",
   "execution_count": 20,
   "id": "0b1aafa2-7833-4cd1-98be-5dbd8da531f3",
   "metadata": {},
   "outputs": [
    {
     "name": "stdout",
     "output_type": "stream",
     "text": [
      "Value count kolom Churn:\n",
      "0    4682\n",
      "1     948\n",
      "Name: Churn, dtype: int64\n",
      "\n",
      "Value count kolom CityTier:\n",
      "1    3666\n",
      "3    1722\n",
      "2     242\n",
      "Name: CityTier, dtype: int64\n",
      "\n",
      "Value count kolom PreferredLoginDevice:\n",
      "Mobile Phone    3996\n",
      "Computer        1634\n",
      "Name: PreferredLoginDevice, dtype: int64\n",
      "\n",
      "Value count kolom PreferredPaymentMode:\n",
      "Debit Card          2314\n",
      "Credit Card         1774\n",
      "E wallet             614\n",
      "Cash on Delivery     514\n",
      "UPI                  414\n",
      "Name: PreferredPaymentMode, dtype: int64\n",
      "\n",
      "Value count kolom Gender:\n",
      "Male      3384\n",
      "Female    2246\n",
      "Name: Gender, dtype: int64\n",
      "\n",
      "Value count kolom PreferedOrderCat:\n",
      "Mobile Phone          2080\n",
      "Laptop & Accessory    2050\n",
      "Fashion                826\n",
      "Grocery                410\n",
      "Others                 264\n",
      "Name: PreferedOrderCat, dtype: int64\n",
      "\n",
      "Value count kolom MaritalStatus:\n",
      "Married     2986\n",
      "Single      1796\n",
      "Divorced     848\n",
      "Name: MaritalStatus, dtype: int64\n",
      "\n"
     ]
    }
   ],
   "source": [
    "#Sesudah Merge\n",
    "for col in cats:\n",
    "    print(f'''Value count kolom {col}:''')\n",
    "    print(df[col].value_counts())\n",
    "    print()"
   ]
  },
  {
   "cell_type": "markdown",
   "id": "b4924033-fd7c-42cc-bcec-64d3d3b9c235",
   "metadata": {
    "tags": []
   },
   "source": [
    "## Missing Value Treatment"
   ]
  },
  {
   "cell_type": "code",
   "execution_count": 5,
   "id": "ffeee2d9-02d0-4952-8a0e-8535e5b13032",
   "metadata": {},
   "outputs": [
    {
     "data": {
      "text/plain": [
       "CustomerID                       0\n",
       "Churn                            0\n",
       "Tenure                         264\n",
       "PreferredLoginDevice             0\n",
       "CityTier                         0\n",
       "WarehouseToHome                251\n",
       "PreferredPaymentMode             0\n",
       "Gender                           0\n",
       "HourSpendOnApp                 255\n",
       "NumberOfDeviceRegistered         0\n",
       "PreferedOrderCat                 0\n",
       "SatisfactionScore                0\n",
       "MaritalStatus                    0\n",
       "NumberOfAddress                  0\n",
       "Complain                         0\n",
       "OrderAmountHikeFromlastYear    265\n",
       "CouponUsed                     256\n",
       "OrderCount                     258\n",
       "DaySinceLastOrder              307\n",
       "CashbackAmount                   0\n",
       "dtype: int64"
      ]
     },
     "execution_count": 5,
     "metadata": {},
     "output_type": "execute_result"
    }
   ],
   "source": [
    "df.isna().sum()"
   ]
  },
  {
   "cell_type": "code",
   "execution_count": 6,
   "id": "8f9da259-23e3-4940-b52f-4b7ed51df114",
   "metadata": {},
   "outputs": [
    {
     "data": {
      "text/html": [
       "<div>\n",
       "<style scoped>\n",
       "    .dataframe tbody tr th:only-of-type {\n",
       "        vertical-align: middle;\n",
       "    }\n",
       "\n",
       "    .dataframe tbody tr th {\n",
       "        vertical-align: top;\n",
       "    }\n",
       "\n",
       "    .dataframe thead th {\n",
       "        text-align: right;\n",
       "    }\n",
       "</style>\n",
       "<table border=\"1\" class=\"dataframe\">\n",
       "  <thead>\n",
       "    <tr style=\"text-align: right;\">\n",
       "      <th></th>\n",
       "      <th>column_name</th>\n",
       "      <th>sum_missing</th>\n",
       "      <th>percent_missing</th>\n",
       "    </tr>\n",
       "  </thead>\n",
       "  <tbody>\n",
       "    <tr>\n",
       "      <th>0</th>\n",
       "      <td>CustomerID</td>\n",
       "      <td>0</td>\n",
       "      <td>0.00</td>\n",
       "    </tr>\n",
       "    <tr>\n",
       "      <th>1</th>\n",
       "      <td>Churn</td>\n",
       "      <td>0</td>\n",
       "      <td>0.00</td>\n",
       "    </tr>\n",
       "    <tr>\n",
       "      <th>2</th>\n",
       "      <td>Tenure</td>\n",
       "      <td>264</td>\n",
       "      <td>4.69</td>\n",
       "    </tr>\n",
       "    <tr>\n",
       "      <th>3</th>\n",
       "      <td>PreferredLoginDevice</td>\n",
       "      <td>0</td>\n",
       "      <td>0.00</td>\n",
       "    </tr>\n",
       "    <tr>\n",
       "      <th>4</th>\n",
       "      <td>CityTier</td>\n",
       "      <td>0</td>\n",
       "      <td>0.00</td>\n",
       "    </tr>\n",
       "    <tr>\n",
       "      <th>5</th>\n",
       "      <td>WarehouseToHome</td>\n",
       "      <td>251</td>\n",
       "      <td>4.46</td>\n",
       "    </tr>\n",
       "    <tr>\n",
       "      <th>6</th>\n",
       "      <td>PreferredPaymentMode</td>\n",
       "      <td>0</td>\n",
       "      <td>0.00</td>\n",
       "    </tr>\n",
       "    <tr>\n",
       "      <th>7</th>\n",
       "      <td>Gender</td>\n",
       "      <td>0</td>\n",
       "      <td>0.00</td>\n",
       "    </tr>\n",
       "    <tr>\n",
       "      <th>8</th>\n",
       "      <td>HourSpendOnApp</td>\n",
       "      <td>255</td>\n",
       "      <td>4.53</td>\n",
       "    </tr>\n",
       "    <tr>\n",
       "      <th>9</th>\n",
       "      <td>NumberOfDeviceRegistered</td>\n",
       "      <td>0</td>\n",
       "      <td>0.00</td>\n",
       "    </tr>\n",
       "    <tr>\n",
       "      <th>10</th>\n",
       "      <td>PreferedOrderCat</td>\n",
       "      <td>0</td>\n",
       "      <td>0.00</td>\n",
       "    </tr>\n",
       "    <tr>\n",
       "      <th>11</th>\n",
       "      <td>SatisfactionScore</td>\n",
       "      <td>0</td>\n",
       "      <td>0.00</td>\n",
       "    </tr>\n",
       "    <tr>\n",
       "      <th>12</th>\n",
       "      <td>MaritalStatus</td>\n",
       "      <td>0</td>\n",
       "      <td>0.00</td>\n",
       "    </tr>\n",
       "    <tr>\n",
       "      <th>13</th>\n",
       "      <td>NumberOfAddress</td>\n",
       "      <td>0</td>\n",
       "      <td>0.00</td>\n",
       "    </tr>\n",
       "    <tr>\n",
       "      <th>14</th>\n",
       "      <td>Complain</td>\n",
       "      <td>0</td>\n",
       "      <td>0.00</td>\n",
       "    </tr>\n",
       "    <tr>\n",
       "      <th>15</th>\n",
       "      <td>OrderAmountHikeFromlastYear</td>\n",
       "      <td>265</td>\n",
       "      <td>4.71</td>\n",
       "    </tr>\n",
       "    <tr>\n",
       "      <th>16</th>\n",
       "      <td>CouponUsed</td>\n",
       "      <td>256</td>\n",
       "      <td>4.55</td>\n",
       "    </tr>\n",
       "    <tr>\n",
       "      <th>17</th>\n",
       "      <td>OrderCount</td>\n",
       "      <td>258</td>\n",
       "      <td>4.58</td>\n",
       "    </tr>\n",
       "    <tr>\n",
       "      <th>18</th>\n",
       "      <td>DaySinceLastOrder</td>\n",
       "      <td>307</td>\n",
       "      <td>5.45</td>\n",
       "    </tr>\n",
       "    <tr>\n",
       "      <th>19</th>\n",
       "      <td>CashbackAmount</td>\n",
       "      <td>0</td>\n",
       "      <td>0.00</td>\n",
       "    </tr>\n",
       "  </tbody>\n",
       "</table>\n",
       "</div>"
      ],
      "text/plain": [
       "                    column_name  sum_missing  percent_missing\n",
       "0                    CustomerID            0             0.00\n",
       "1                         Churn            0             0.00\n",
       "2                        Tenure          264             4.69\n",
       "3          PreferredLoginDevice            0             0.00\n",
       "4                      CityTier            0             0.00\n",
       "5               WarehouseToHome          251             4.46\n",
       "6          PreferredPaymentMode            0             0.00\n",
       "7                        Gender            0             0.00\n",
       "8                HourSpendOnApp          255             4.53\n",
       "9      NumberOfDeviceRegistered            0             0.00\n",
       "10             PreferedOrderCat            0             0.00\n",
       "11            SatisfactionScore            0             0.00\n",
       "12                MaritalStatus            0             0.00\n",
       "13              NumberOfAddress            0             0.00\n",
       "14                     Complain            0             0.00\n",
       "15  OrderAmountHikeFromlastYear          265             4.71\n",
       "16                   CouponUsed          256             4.55\n",
       "17                   OrderCount          258             4.58\n",
       "18            DaySinceLastOrder          307             5.45\n",
       "19               CashbackAmount            0             0.00"
      ]
     },
     "execution_count": 6,
     "metadata": {},
     "output_type": "execute_result"
    }
   ],
   "source": [
    "sum_missing = df.isna().sum()\n",
    "percent_missing = round(df.isnull().sum() * 100 / len(df),2)\n",
    "missing_value_df = pd.DataFrame({'column_name': df.columns,\n",
    "                                 'sum_missing': sum_missing,\n",
    "                                 'percent_missing': percent_missing}).reset_index(drop=True)\n",
    "missing_value_df"
   ]
  },
  {
   "cell_type": "code",
   "execution_count": 22,
   "id": "b5adee06-0134-44b7-8541-9f9f371e28cc",
   "metadata": {},
   "outputs": [
    {
     "name": "stdout",
     "output_type": "stream",
     "text": [
      "The number of missing values: 1856\n",
      "The number of rows with missing values: 1856\n"
     ]
    }
   ],
   "source": [
    "print(f'The number of missing values: {df.isnull().sum().sum()}')\n",
    "print(f'The number of rows with missing values: {df[df.isnull().any(axis=1)].shape[0]}')"
   ]
  },
  {
   "cell_type": "markdown",
   "id": "fd7113fe-89d2-493e-a6c0-4ad3d9dd3d66",
   "metadata": {},
   "source": [
    "### Treatment apa yang tepat untuk missing Values\n",
    "Total ada 1.856 missing values, dan juga ada 1.856 rows dengan missing values, artinya setiap missing values berada pada row yang berbeda, dan tidak ada rows yang memiliki lebih dari satu missing values.\n",
    "<br>\n",
    "Jadi jika kita drop semua rows dengan missing values, kita akan membuang 1856 rows atau 32,97 persen dari dataset dan akan menyebabkan data loss, sehingga treatment yang paling tepat adalah dengan imputation"
   ]
  },
  {
   "cell_type": "code",
   "execution_count": 28,
   "id": "d16daa4d-4684-4f7a-b7ce-be4a6815855c",
   "metadata": {},
   "outputs": [],
   "source": [
    "imputer = SimpleImputer(strategy= 'median')      \n",
    "imputer.fit(df[nums])\n",
    "df[nums] = imputer.transform(df[nums])"
   ]
  },
  {
   "cell_type": "code",
   "execution_count": 29,
   "id": "ef392885-4d61-43c6-b14a-105669d93d42",
   "metadata": {},
   "outputs": [
    {
     "data": {
      "text/plain": [
       "Churn                          0\n",
       "Tenure                         0\n",
       "PreferredLoginDevice           0\n",
       "CityTier                       0\n",
       "WarehouseToHome                0\n",
       "PreferredPaymentMode           0\n",
       "Gender                         0\n",
       "HourSpendOnApp                 0\n",
       "NumberOfDeviceRegistered       0\n",
       "PreferedOrderCat               0\n",
       "SatisfactionScore              0\n",
       "MaritalStatus                  0\n",
       "NumberOfAddress                0\n",
       "Complain                       0\n",
       "OrderAmountHikeFromlastYear    0\n",
       "CouponUsed                     0\n",
       "OrderCount                     0\n",
       "DaySinceLastOrder              0\n",
       "CashbackAmount                 0\n",
       "dtype: int64"
      ]
     },
     "execution_count": 29,
     "metadata": {},
     "output_type": "execute_result"
    }
   ],
   "source": [
    "df.isna().sum()"
   ]
  },
  {
   "cell_type": "markdown",
   "id": "28c46f92-e87f-4f1b-a16b-a9993e1810b7",
   "metadata": {},
   "source": [
    "## Outliers Treatment"
   ]
  },
  {
   "cell_type": "code",
   "execution_count": 30,
   "id": "aeebc891-277d-4262-9a92-b40a5450351e",
   "metadata": {},
   "outputs": [
    {
     "name": "stdout",
     "output_type": "stream",
     "text": [
      "Jumlah baris sebelum memfilter outlier: 5630\n",
      "Jumlah baris setelah memfilter outlier: 5350\n"
     ]
    }
   ],
   "source": [
    "print(f'Jumlah baris sebelum memfilter outlier: {len(df)}')\n",
    "\n",
    "filtered_entries = np.array([True] * len(df))\n",
    "\n",
    "for col in nums:\n",
    "    zscore = abs(stats.zscore(df[col])) # hitung absolute z-scorenya\n",
    "    filtered_entries = (zscore < 3) & filtered_entries # keep yang kurang dari 3 absolute z-scorenya\n",
    "    \n",
    "df = df[filtered_entries] # filter, cuma ambil yang z-scorenya dibawah 3\n",
    "\n",
    "print(f'Jumlah baris setelah memfilter outlier: {len(df)}')"
   ]
  },
  {
   "cell_type": "markdown",
   "id": "52b28998-8323-4297-8304-8ad696a1ed16",
   "metadata": {},
   "source": [
    "## Feature Transformation"
   ]
  },
  {
   "cell_type": "code",
   "execution_count": null,
   "id": "31be69bf-d9fa-4076-acd8-045b1172afce",
   "metadata": {},
   "outputs": [],
   "source": []
  },
  {
   "cell_type": "markdown",
   "id": "76497468-9cb3-4cbb-80c0-bc1cd9e9d5e1",
   "metadata": {},
   "source": [
    "## Feature Encoding"
   ]
  },
  {
   "cell_type": "code",
   "execution_count": null,
   "id": "f363181b-b606-4b96-a284-07d440330501",
   "metadata": {},
   "outputs": [],
   "source": []
  },
  {
   "cell_type": "markdown",
   "id": "46f33536-fead-44ff-874e-f18eb468a3b9",
   "metadata": {},
   "source": [
    "## Class Imbalance"
   ]
  },
  {
   "cell_type": "code",
   "execution_count": null,
   "id": "1dc3f847-da2f-4042-86ca-bf30236cb53d",
   "metadata": {},
   "outputs": [],
   "source": []
  }
 ],
 "metadata": {
  "kernelspec": {
   "display_name": "Python 3 (ipykernel)",
   "language": "python",
   "name": "python3"
  },
  "language_info": {
   "codemirror_mode": {
    "name": "ipython",
    "version": 3
   },
   "file_extension": ".py",
   "mimetype": "text/x-python",
   "name": "python",
   "nbconvert_exporter": "python",
   "pygments_lexer": "ipython3",
   "version": "3.9.12"
  }
 },
 "nbformat": 4,
 "nbformat_minor": 5
}
