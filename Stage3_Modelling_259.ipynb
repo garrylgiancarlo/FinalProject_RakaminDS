{
 "cells": [
  {
   "cell_type": "code",
   "execution_count": 2,
   "id": "d0ac1946-66dc-43ec-a921-bbb33ef0ca0e",
   "metadata": {},
   "outputs": [
    {
     "name": "stdout",
     "output_type": "stream",
     "text": [
      "Requirement already satisfied: xgboost in c:\\users\\abdus\\anaconda3\\lib\\site-packages (1.6.2)\n",
      "Requirement already satisfied: scipy in c:\\users\\abdus\\anaconda3\\lib\\site-packages (from xgboost) (1.7.3)\n",
      "Requirement already satisfied: numpy in c:\\users\\abdus\\anaconda3\\lib\\site-packages (from xgboost) (1.21.5)\n",
      "Note: you may need to restart the kernel to use updated packages.\n"
     ]
    }
   ],
   "source": [
    "pip install xgboost"
   ]
  },
  {
   "cell_type": "code",
   "execution_count": 3,
   "id": "055f830a-0ca8-4dd8-8471-bf6eeec58449",
   "metadata": {},
   "outputs": [
    {
     "name": "stdout",
     "output_type": "stream",
     "text": [
      "Collecting catboostNote: you may need to restart the kernel to use updated packages.\n",
      "  Downloading catboost-1.1-cp39-none-win_amd64.whl (74.0 MB)\n",
      "Requirement already satisfied: pandas>=0.24.0 in c:\\users\\abdus\\anaconda3\\lib\\site-packages (from catboost) (1.4.2)\n",
      "Requirement already satisfied: six in c:\\users\\abdus\\anaconda3\\lib\\site-packages (from catboost) (1.16.0)\n",
      "Requirement already satisfied: matplotlib in c:\\users\\abdus\\anaconda3\\lib\\site-packages (from catboost) (3.5.1)\n",
      "Requirement already satisfied: plotly in c:\\users\\abdus\\anaconda3\\lib\\site-packages (from catboost) (5.6.0)\n",
      "Requirement already satisfied: numpy>=1.16.0 in c:\\users\\abdus\\anaconda3\\lib\\site-packages (from catboost) (1.21.5)\n",
      "Collecting graphviz\n",
      "  Downloading graphviz-0.20.1-py3-none-any.whl (47 kB)\n",
      "Requirement already satisfied: scipy in c:\\users\\abdus\\anaconda3\\lib\\site-packages (from catboost) (1.7.3)\n",
      "Requirement already satisfied: python-dateutil>=2.8.1 in c:\\users\\abdus\\anaconda3\\lib\\site-packages (from pandas>=0.24.0->catboost) (2.8.2)\n",
      "Requirement already satisfied: pytz>=2020.1 in c:\\users\\abdus\\anaconda3\\lib\\site-packages (from pandas>=0.24.0->catboost) (2021.3)\n",
      "Requirement already satisfied: cycler>=0.10 in c:\\users\\abdus\\anaconda3\\lib\\site-packages (from matplotlib->catboost) (0.11.0)\n",
      "Requirement already satisfied: pillow>=6.2.0 in c:\\users\\abdus\\anaconda3\\lib\\site-packages (from matplotlib->catboost) (9.0.1)\n",
      "Requirement already satisfied: pyparsing>=2.2.1 in c:\\users\\abdus\\anaconda3\\lib\\site-packages (from matplotlib->catboost) (3.0.4)\n",
      "Requirement already satisfied: fonttools>=4.22.0 in c:\\users\\abdus\\anaconda3\\lib\\site-packages (from matplotlib->catboost) (4.25.0)\n",
      "Requirement already satisfied: packaging>=20.0 in c:\\users\\abdus\\anaconda3\\lib\\site-packages (from matplotlib->catboost) (21.3)\n",
      "Requirement already satisfied: kiwisolver>=1.0.1 in c:\\users\\abdus\\anaconda3\\lib\\site-packages (from matplotlib->catboost) (1.3.2)\n",
      "Requirement already satisfied: tenacity>=6.2.0 in c:\\users\\abdus\\anaconda3\\lib\\site-packages (from plotly->catboost) (8.0.1)\n",
      "Installing collected packages: graphviz, catboost\n",
      "Successfully installed catboost-1.1 graphviz-0.20.1\n",
      "\n"
     ]
    }
   ],
   "source": [
    "pip install catboost"
   ]
  },
  {
   "cell_type": "code",
   "execution_count": 340,
   "id": "b4875bdb-74fb-4377-ae0b-79b2efd7ac57",
   "metadata": {},
   "outputs": [],
   "source": [
    "import numpy as np\n",
    "import pandas as pd\n",
    "import matplotlib.pyplot as plt\n",
    "import seaborn as sns\n",
    "from matplotlib import rcParams\n",
    "from sklearn.impute import SimpleImputer\n",
    "from scipy import stats\n",
    "from sklearn.metrics import f1_score, accuracy_score, confusion_matrix"
   ]
  },
  {
   "cell_type": "code",
   "execution_count": 341,
   "id": "4fb0e6f7-0b41-4f7f-b171-4e26c89c82f2",
   "metadata": {},
   "outputs": [],
   "source": [
    "import warnings\n",
    "warnings.filterwarnings('ignore')"
   ]
  },
  {
   "cell_type": "code",
   "execution_count": 342,
   "id": "2c1928f0-5314-4409-b1ea-f715aba7c866",
   "metadata": {},
   "outputs": [],
   "source": [
    "from sklearn.metrics import accuracy_score, precision_score, recall_score, f1_score, roc_auc_score, balanced_accuracy_score\n",
    "from sklearn.model_selection import cross_validate\n",
    "from sklearn import tree\n",
    "from sklearn.metrics import classification_report\n",
    "\n",
    "def eval_classification(model):\n",
    "    y_pred = model.predict(X_test)\n",
    "    y_pred_train = model.predict(X_train)\n",
    "    y_pred_proba = model.predict_proba(X_test)\n",
    "    y_pred_proba_train = model.predict_proba(X_train)\n",
    "    \n",
    "    print(\"Accuracy (Test Set): %.2f\" % accuracy_score(y_test, y_pred))\n",
    "    print(\"Precision (Test Set): %.2f\" % precision_score(y_test, y_pred))\n",
    "    print(\"Recall (Test Set): %.2f\" % recall_score(y_test, y_pred))\n",
    "    print(\"F1-Score (Test Set): %.2f\" % f1_score(y_test, y_pred))\n",
    "    \n",
    "    print(\"roc_auc (test-proba): %.2f\" % roc_auc_score(y_test, y_pred_proba[:, 1]))\n",
    "    print(\"roc_auc (train-proba): %.2f\" % roc_auc_score(y_train, y_pred_proba_train[:, 1]))\n",
    "\n",
    "    score = cross_validate(model, X, y, cv=5, scoring='roc_auc', return_train_score=True)\n",
    "    print('roc_auc (crossval train): '+ str(score['train_score'].mean()))\n",
    "    print('roc_auc (crossval test): '+ str(score['test_score'].mean()))\n",
    "\n",
    "def show_feature_importance(model):\n",
    "    feat_importances = pd.Series(model.feature_importances_, index=X.columns)\n",
    "    ax = feat_importances.nlargest(25).plot(kind='barh', figsize=(10, 8))\n",
    "    ax.invert_yaxis()\n",
    "\n",
    "    plt.xlabel('score')\n",
    "    plt.ylabel('feature')\n",
    "    plt.title('feature importance score')\n",
    "\n",
    "def show_best_hyperparameter(model):\n",
    "    print(model.best_estimator_.get_params())"
   ]
  },
  {
   "cell_type": "code",
   "execution_count": 343,
   "id": "5dfb47ce-e855-4e83-9e6d-6cc9bd922c5c",
   "metadata": {},
   "outputs": [],
   "source": [
    "from sklearn.linear_model import LogisticRegression\n",
    "from sklearn.ensemble import RandomForestClassifier\n",
    "from sklearn.neighbors import KNeighborsClassifier\n",
    "from sklearn.ensemble import AdaBoostClassifier\n",
    "import xgboost as xgb\n",
    "import catboost as cb\n",
    "\n",
    "def draw_learning_curve(param_values):\n",
    "    train_scores = []\n",
    "    test_scores = []\n",
    "\n",
    "    for c in param_values:\n",
    "        model = LogisticRegression(penalty='l2', C=c)\n",
    "        model.fit(X_train, y_train)\n",
    "\n",
    "        # eval on train\n",
    "        y_pred_train_proba = model.predict_proba(X_train)\n",
    "        train_auc = roc_auc_score(y_train, y_pred_train_proba[:,1])\n",
    "        train_scores.append(train_auc)\n",
    "\n",
    "        # eval on test\n",
    "        y_pred_proba = model.predict_proba(X_test)\n",
    "        test_auc = roc_auc_score(y_test, y_pred_proba[:,1])\n",
    "        test_scores.append(test_auc)\n",
    "\n",
    "        print('param value: ' + str(c) + '; train: ' + str(train_auc) + '; test: '+ str(test_auc))\n",
    "\n",
    "    plt.plot(param_values, train_scores, label='Train')\n",
    "    plt.plot(param_values, test_scores, label='Test')\n",
    "    plt.xlabel('C')\n",
    "    plt.ylabel('AUC')\n",
    "    plt.title('Learning Curve - Hyperparameter C - Logistic Regression')\n",
    "    plt.legend()\n",
    "    plt.show()"
   ]
  },
  {
   "cell_type": "code",
   "execution_count": 344,
   "id": "1e831ad9-7762-41d0-9072-0e0b1e8c8105",
   "metadata": {},
   "outputs": [
    {
     "data": {
      "text/html": [
       "<div>\n",
       "<style scoped>\n",
       "    .dataframe tbody tr th:only-of-type {\n",
       "        vertical-align: middle;\n",
       "    }\n",
       "\n",
       "    .dataframe tbody tr th {\n",
       "        vertical-align: top;\n",
       "    }\n",
       "\n",
       "    .dataframe thead th {\n",
       "        text-align: right;\n",
       "    }\n",
       "</style>\n",
       "<table border=\"1\" class=\"dataframe\">\n",
       "  <thead>\n",
       "    <tr style=\"text-align: right;\">\n",
       "      <th></th>\n",
       "      <th>CustomerID</th>\n",
       "      <th>Churn</th>\n",
       "      <th>Tenure</th>\n",
       "      <th>PreferredLoginDevice</th>\n",
       "      <th>CityTier</th>\n",
       "      <th>WarehouseToHome</th>\n",
       "      <th>Gender</th>\n",
       "      <th>HourSpendOnApp</th>\n",
       "      <th>NumberOfDeviceRegistered</th>\n",
       "      <th>SatisfactionScore</th>\n",
       "      <th>...</th>\n",
       "      <th>PreferredPaymentMode_E wallet</th>\n",
       "      <th>PreferredPaymentMode_UPI</th>\n",
       "      <th>PreferedOrderCat_Fashion</th>\n",
       "      <th>PreferedOrderCat_Grocery</th>\n",
       "      <th>PreferedOrderCat_Laptop &amp; Accessory</th>\n",
       "      <th>PreferedOrderCat_Mobile Phone</th>\n",
       "      <th>PreferedOrderCat_Others</th>\n",
       "      <th>MaritalStatus_Divorced</th>\n",
       "      <th>MaritalStatus_Married</th>\n",
       "      <th>MaritalStatus_Single</th>\n",
       "    </tr>\n",
       "  </thead>\n",
       "  <tbody>\n",
       "    <tr>\n",
       "      <th>5199</th>\n",
       "      <td>55200</td>\n",
       "      <td>1</td>\n",
       "      <td>1</td>\n",
       "      <td>1</td>\n",
       "      <td>2</td>\n",
       "      <td>16</td>\n",
       "      <td>0</td>\n",
       "      <td>3</td>\n",
       "      <td>4</td>\n",
       "      <td>3</td>\n",
       "      <td>...</td>\n",
       "      <td>0</td>\n",
       "      <td>0</td>\n",
       "      <td>0</td>\n",
       "      <td>0</td>\n",
       "      <td>0</td>\n",
       "      <td>1</td>\n",
       "      <td>0</td>\n",
       "      <td>0</td>\n",
       "      <td>1</td>\n",
       "      <td>0</td>\n",
       "    </tr>\n",
       "    <tr>\n",
       "      <th>2171</th>\n",
       "      <td>52172</td>\n",
       "      <td>0</td>\n",
       "      <td>11</td>\n",
       "      <td>1</td>\n",
       "      <td>2</td>\n",
       "      <td>6</td>\n",
       "      <td>1</td>\n",
       "      <td>3</td>\n",
       "      <td>1</td>\n",
       "      <td>3</td>\n",
       "      <td>...</td>\n",
       "      <td>0</td>\n",
       "      <td>1</td>\n",
       "      <td>0</td>\n",
       "      <td>0</td>\n",
       "      <td>0</td>\n",
       "      <td>1</td>\n",
       "      <td>0</td>\n",
       "      <td>0</td>\n",
       "      <td>1</td>\n",
       "      <td>0</td>\n",
       "    </tr>\n",
       "    <tr>\n",
       "      <th>3915</th>\n",
       "      <td>53916</td>\n",
       "      <td>0</td>\n",
       "      <td>19</td>\n",
       "      <td>1</td>\n",
       "      <td>1</td>\n",
       "      <td>35</td>\n",
       "      <td>0</td>\n",
       "      <td>3</td>\n",
       "      <td>5</td>\n",
       "      <td>4</td>\n",
       "      <td>...</td>\n",
       "      <td>0</td>\n",
       "      <td>0</td>\n",
       "      <td>0</td>\n",
       "      <td>1</td>\n",
       "      <td>0</td>\n",
       "      <td>0</td>\n",
       "      <td>0</td>\n",
       "      <td>0</td>\n",
       "      <td>0</td>\n",
       "      <td>1</td>\n",
       "    </tr>\n",
       "    <tr>\n",
       "      <th>923</th>\n",
       "      <td>50924</td>\n",
       "      <td>0</td>\n",
       "      <td>7</td>\n",
       "      <td>1</td>\n",
       "      <td>3</td>\n",
       "      <td>9</td>\n",
       "      <td>1</td>\n",
       "      <td>2</td>\n",
       "      <td>5</td>\n",
       "      <td>5</td>\n",
       "      <td>...</td>\n",
       "      <td>0</td>\n",
       "      <td>1</td>\n",
       "      <td>0</td>\n",
       "      <td>0</td>\n",
       "      <td>1</td>\n",
       "      <td>0</td>\n",
       "      <td>0</td>\n",
       "      <td>0</td>\n",
       "      <td>0</td>\n",
       "      <td>1</td>\n",
       "    </tr>\n",
       "    <tr>\n",
       "      <th>1406</th>\n",
       "      <td>51407</td>\n",
       "      <td>0</td>\n",
       "      <td>11</td>\n",
       "      <td>0</td>\n",
       "      <td>1</td>\n",
       "      <td>14</td>\n",
       "      <td>0</td>\n",
       "      <td>2</td>\n",
       "      <td>3</td>\n",
       "      <td>1</td>\n",
       "      <td>...</td>\n",
       "      <td>0</td>\n",
       "      <td>0</td>\n",
       "      <td>0</td>\n",
       "      <td>0</td>\n",
       "      <td>1</td>\n",
       "      <td>0</td>\n",
       "      <td>0</td>\n",
       "      <td>0</td>\n",
       "      <td>0</td>\n",
       "      <td>1</td>\n",
       "    </tr>\n",
       "  </tbody>\n",
       "</table>\n",
       "<p>5 rows × 30 columns</p>\n",
       "</div>"
      ],
      "text/plain": [
       "      CustomerID  Churn  Tenure  PreferredLoginDevice  CityTier  \\\n",
       "5199       55200      1       1                     1         2   \n",
       "2171       52172      0      11                     1         2   \n",
       "3915       53916      0      19                     1         1   \n",
       "923        50924      0       7                     1         3   \n",
       "1406       51407      0      11                     0         1   \n",
       "\n",
       "      WarehouseToHome  Gender  HourSpendOnApp  NumberOfDeviceRegistered  \\\n",
       "5199               16       0               3                         4   \n",
       "2171                6       1               3                         1   \n",
       "3915               35       0               3                         5   \n",
       "923                 9       1               2                         5   \n",
       "1406               14       0               2                         3   \n",
       "\n",
       "      SatisfactionScore  ...  PreferredPaymentMode_E wallet  \\\n",
       "5199                  3  ...                              0   \n",
       "2171                  3  ...                              0   \n",
       "3915                  4  ...                              0   \n",
       "923                   5  ...                              0   \n",
       "1406                  1  ...                              0   \n",
       "\n",
       "      PreferredPaymentMode_UPI  PreferedOrderCat_Fashion  \\\n",
       "5199                         0                         0   \n",
       "2171                         1                         0   \n",
       "3915                         0                         0   \n",
       "923                          1                         0   \n",
       "1406                         0                         0   \n",
       "\n",
       "      PreferedOrderCat_Grocery  PreferedOrderCat_Laptop & Accessory  \\\n",
       "5199                         0                                    0   \n",
       "2171                         0                                    0   \n",
       "3915                         1                                    0   \n",
       "923                          0                                    1   \n",
       "1406                         0                                    1   \n",
       "\n",
       "      PreferedOrderCat_Mobile Phone  PreferedOrderCat_Others  \\\n",
       "5199                              1                        0   \n",
       "2171                              1                        0   \n",
       "3915                              0                        0   \n",
       "923                               0                        0   \n",
       "1406                              0                        0   \n",
       "\n",
       "      MaritalStatus_Divorced  MaritalStatus_Married  MaritalStatus_Single  \n",
       "5199                       0                      1                     0  \n",
       "2171                       0                      1                     0  \n",
       "3915                       0                      0                     1  \n",
       "923                        0                      0                     1  \n",
       "1406                       0                      0                     1  \n",
       "\n",
       "[5 rows x 30 columns]"
      ]
     },
     "execution_count": 344,
     "metadata": {},
     "output_type": "execute_result"
    }
   ],
   "source": [
    "df = pd.read_excel('E Commerce Dataset.xlsx', sheet_name='outlier, tanpa transformasi', index_col=0)\n",
    "df.sample(5)"
   ]
  },
  {
   "cell_type": "code",
   "execution_count": 345,
   "id": "6ddb5c27-de8c-4023-823f-201283f91d6a",
   "metadata": {},
   "outputs": [],
   "source": [
    "X = df.drop(columns=['OrderCount','MaritalStatus_Married','CustomerID', 'Churn'])\n",
    "y = df['Churn']\n",
    "\n",
    "from sklearn.model_selection import train_test_split\n",
    "X_train, X_test, y_train, y_test = train_test_split(X, y, test_size=0.2, random_state=42)"
   ]
  },
  {
   "cell_type": "code",
   "execution_count": 346,
   "id": "4dadbedb-154e-4478-ba13-fdae628ab16b",
   "metadata": {},
   "outputs": [],
   "source": [
    "from sklearn.metrics import accuracy_score, precision_score, recall_score, f1_score\n",
    "from sklearn.metrics import roc_curve, auc\n",
    "def get_metrics(y_pred, y_act, model_name):\n",
    "    recall =  recall_score(y_act, y_pred)\n",
    "    precision = precision_score(y_act, y_pred)\n",
    "    roc_auc = roc_auc_score(y_act, y_pred)\n",
    "    f1 = f1_score(y_act, y_pred)\n",
    "    accuracy = balanced_accuracy_score(y_act, y_pred)\n",
    "\n",
    "    metrics_result = dict(model_name=model_name, \n",
    "                        recall=recall, \n",
    "                        precision=precision, \n",
    "                        roc_auc=roc_auc, \n",
    "                        f1=f1,\n",
    "                        accuracy=accuracy)\n",
    "    return metrics_result\n",
    "\n",
    "\n",
    "def prediction(X_train, y_train, X_test, y_test, clf, model_name='decision tree'):\n",
    "  \n",
    "    clf = clf\n",
    "    clf.fit(X_train, y_train)\n",
    "    y_test_pred = clf.predict(X_test)\n",
    "    y_train_pred = clf.predict(X_train)\n",
    "\n",
    "\n",
    "    result = dict()\n",
    "    test_result = get_metrics(y_pred=y_test_pred, y_act=y_test, model_name=model_name)\n",
    "    train_result = get_metrics(y_pred=y_train_pred, y_act=y_train, model_name=model_name)\n",
    "\n",
    "    result['test'] = test_result\n",
    "    result['train'] = train_result\n",
    "    result['y_test'] = y_test\n",
    "    result['y_test_pred'] = y_test_pred\n",
    "    result['y_train'] = y_train\n",
    "    result['y_train_pred'] = y_train_pred\n",
    "    result['clf'] = clf\n",
    "    result['x_train'] = X_train\n",
    "    result['x_test'] = X_test\n",
    "\n",
    "    del clf\n",
    "\n",
    "    return result\n",
    "  \n",
    "def show_best_hyperparameter(model, hyperparameters):\n",
    "    for key, value in hyperparameters.items() :\n",
    "        print('Best '+key+':', model.get_params()[key])\n",
    "\n",
    "def show_feature_importance(model):\n",
    "    feat_importances = pd.Series(model.feature_importances_, index=x.columns)\n",
    "    ax = feat_importances.nlargest(25).plot(kind='barh', figsize=(10, 8))\n",
    "    ax.invert_yaxis()\n",
    "\n",
    "    plt.xlabel('score')\n",
    "    plt.ylabel('feature')\n",
    "    plt.title('feature importance score')"
   ]
  },
  {
   "cell_type": "code",
   "execution_count": 347,
   "id": "8434bf97-7f29-497e-88d7-44448f9a1691",
   "metadata": {},
   "outputs": [],
   "source": [
    "model_1_result = prediction(X_train, y_train, X_test, y_test, LogisticRegression(), model_name='logistic regression')\n",
    "model_2_result = prediction(X_train, y_train, X_test, y_test, RandomForestClassifier(random_state=42), model_name='random forest')\n",
    "model_3_result = prediction(X_train, y_train, X_test, y_test, KNeighborsClassifier(), model_name='kNN')\n",
    "model_4_result = prediction(X_train, y_train, X_test, y_test, tree.DecisionTreeClassifier(), model_name='decision tree')\n",
    "model_5_result = prediction(X_train, y_train, X_test, y_test, AdaBoostClassifier(random_state=42), model_name='adaboost')\n",
    "model_6_result = prediction(X_train, y_train, X_test, y_test, xgb.XGBClassifier(random_state=42), model_name='xgboost')\n",
    "model_7_result = prediction(X_train, y_train, X_test, y_test, cb.CatBoostClassifier(random_state=42, logging_level='Silent'), model_name='catboost')"
   ]
  },
  {
   "cell_type": "markdown",
   "id": "7dcd1a92-7927-4c40-8a6e-b88a890427fb",
   "metadata": {},
   "source": [
    "### TRAIN"
   ]
  },
  {
   "cell_type": "code",
   "execution_count": 348,
   "id": "feeec500-cac2-4bd9-a507-fb5c8a4cf990",
   "metadata": {},
   "outputs": [
    {
     "data": {
      "text/html": [
       "<div>\n",
       "<style scoped>\n",
       "    .dataframe tbody tr th:only-of-type {\n",
       "        vertical-align: middle;\n",
       "    }\n",
       "\n",
       "    .dataframe tbody tr th {\n",
       "        vertical-align: top;\n",
       "    }\n",
       "\n",
       "    .dataframe thead th {\n",
       "        text-align: right;\n",
       "    }\n",
       "</style>\n",
       "<table border=\"1\" class=\"dataframe\">\n",
       "  <thead>\n",
       "    <tr style=\"text-align: right;\">\n",
       "      <th></th>\n",
       "      <th>model_name</th>\n",
       "      <th>recall</th>\n",
       "      <th>precision</th>\n",
       "      <th>roc_auc</th>\n",
       "      <th>f1</th>\n",
       "      <th>accuracy</th>\n",
       "    </tr>\n",
       "  </thead>\n",
       "  <tbody>\n",
       "    <tr>\n",
       "      <th>0</th>\n",
       "      <td>logistic regression</td>\n",
       "      <td>0.496723</td>\n",
       "      <td>0.749012</td>\n",
       "      <td>0.731388</td>\n",
       "      <td>0.597321</td>\n",
       "      <td>0.731388</td>\n",
       "    </tr>\n",
       "    <tr>\n",
       "      <th>1</th>\n",
       "      <td>random forest</td>\n",
       "      <td>1.000000</td>\n",
       "      <td>1.000000</td>\n",
       "      <td>1.000000</td>\n",
       "      <td>1.000000</td>\n",
       "      <td>1.000000</td>\n",
       "    </tr>\n",
       "    <tr>\n",
       "      <th>2</th>\n",
       "      <td>kNN</td>\n",
       "      <td>0.553080</td>\n",
       "      <td>0.791745</td>\n",
       "      <td>0.761704</td>\n",
       "      <td>0.651235</td>\n",
       "      <td>0.761704</td>\n",
       "    </tr>\n",
       "    <tr>\n",
       "      <th>3</th>\n",
       "      <td>decision tree</td>\n",
       "      <td>1.000000</td>\n",
       "      <td>1.000000</td>\n",
       "      <td>1.000000</td>\n",
       "      <td>1.000000</td>\n",
       "      <td>1.000000</td>\n",
       "    </tr>\n",
       "    <tr>\n",
       "      <th>4</th>\n",
       "      <td>adaboost</td>\n",
       "      <td>0.579292</td>\n",
       "      <td>0.772727</td>\n",
       "      <td>0.772271</td>\n",
       "      <td>0.662172</td>\n",
       "      <td>0.772271</td>\n",
       "    </tr>\n",
       "    <tr>\n",
       "      <th>5</th>\n",
       "      <td>xgboost</td>\n",
       "      <td>1.000000</td>\n",
       "      <td>1.000000</td>\n",
       "      <td>1.000000</td>\n",
       "      <td>1.000000</td>\n",
       "      <td>1.000000</td>\n",
       "    </tr>\n",
       "    <tr>\n",
       "      <th>6</th>\n",
       "      <td>catboost</td>\n",
       "      <td>0.956750</td>\n",
       "      <td>0.997268</td>\n",
       "      <td>0.978108</td>\n",
       "      <td>0.976589</td>\n",
       "      <td>0.978108</td>\n",
       "    </tr>\n",
       "  </tbody>\n",
       "</table>\n",
       "</div>"
      ],
      "text/plain": [
       "            model_name    recall  precision   roc_auc        f1  accuracy\n",
       "0  logistic regression  0.496723   0.749012  0.731388  0.597321  0.731388\n",
       "1        random forest  1.000000   1.000000  1.000000  1.000000  1.000000\n",
       "2                  kNN  0.553080   0.791745  0.761704  0.651235  0.761704\n",
       "3        decision tree  1.000000   1.000000  1.000000  1.000000  1.000000\n",
       "4             adaboost  0.579292   0.772727  0.772271  0.662172  0.772271\n",
       "5              xgboost  1.000000   1.000000  1.000000  1.000000  1.000000\n",
       "6             catboost  0.956750   0.997268  0.978108  0.976589  0.978108"
      ]
     },
     "execution_count": 348,
     "metadata": {},
     "output_type": "execute_result"
    }
   ],
   "source": [
    "pd.DataFrame([model_1_result['train'], \n",
    "              model_2_result['train'], \n",
    "              model_3_result['train'], \n",
    "              model_4_result['train'], \n",
    "              model_5_result['train'],\n",
    "              model_6_result['train'],\n",
    "              model_7_result['train']])"
   ]
  },
  {
   "cell_type": "markdown",
   "id": "44aff231-09ac-4310-be7f-e576eb3d0c66",
   "metadata": {},
   "source": [
    "### TEST"
   ]
  },
  {
   "cell_type": "code",
   "execution_count": 349,
   "id": "7e2d1424-3964-44ad-87bd-3415644d01a5",
   "metadata": {},
   "outputs": [
    {
     "data": {
      "text/html": [
       "<div>\n",
       "<style scoped>\n",
       "    .dataframe tbody tr th:only-of-type {\n",
       "        vertical-align: middle;\n",
       "    }\n",
       "\n",
       "    .dataframe tbody tr th {\n",
       "        vertical-align: top;\n",
       "    }\n",
       "\n",
       "    .dataframe thead th {\n",
       "        text-align: right;\n",
       "    }\n",
       "</style>\n",
       "<table border=\"1\" class=\"dataframe\">\n",
       "  <thead>\n",
       "    <tr style=\"text-align: right;\">\n",
       "      <th></th>\n",
       "      <th>model_name</th>\n",
       "      <th>recall</th>\n",
       "      <th>precision</th>\n",
       "      <th>roc_auc</th>\n",
       "      <th>f1</th>\n",
       "      <th>accuracy</th>\n",
       "    </tr>\n",
       "  </thead>\n",
       "  <tbody>\n",
       "    <tr>\n",
       "      <th>0</th>\n",
       "      <td>logistic regression</td>\n",
       "      <td>0.524324</td>\n",
       "      <td>0.815126</td>\n",
       "      <td>0.750472</td>\n",
       "      <td>0.638158</td>\n",
       "      <td>0.750472</td>\n",
       "    </tr>\n",
       "    <tr>\n",
       "      <th>1</th>\n",
       "      <td>random forest</td>\n",
       "      <td>0.859459</td>\n",
       "      <td>1.000000</td>\n",
       "      <td>0.929730</td>\n",
       "      <td>0.924419</td>\n",
       "      <td>0.929730</td>\n",
       "    </tr>\n",
       "    <tr>\n",
       "      <th>2</th>\n",
       "      <td>kNN</td>\n",
       "      <td>0.421622</td>\n",
       "      <td>0.634146</td>\n",
       "      <td>0.686900</td>\n",
       "      <td>0.506494</td>\n",
       "      <td>0.686900</td>\n",
       "    </tr>\n",
       "    <tr>\n",
       "      <th>3</th>\n",
       "      <td>decision tree</td>\n",
       "      <td>0.924324</td>\n",
       "      <td>0.904762</td>\n",
       "      <td>0.952598</td>\n",
       "      <td>0.914439</td>\n",
       "      <td>0.952598</td>\n",
       "    </tr>\n",
       "    <tr>\n",
       "      <th>4</th>\n",
       "      <td>adaboost</td>\n",
       "      <td>0.567568</td>\n",
       "      <td>0.833333</td>\n",
       "      <td>0.772625</td>\n",
       "      <td>0.675241</td>\n",
       "      <td>0.772625</td>\n",
       "    </tr>\n",
       "    <tr>\n",
       "      <th>5</th>\n",
       "      <td>xgboost</td>\n",
       "      <td>0.886486</td>\n",
       "      <td>0.976190</td>\n",
       "      <td>0.941118</td>\n",
       "      <td>0.929178</td>\n",
       "      <td>0.941118</td>\n",
       "    </tr>\n",
       "    <tr>\n",
       "      <th>6</th>\n",
       "      <td>catboost</td>\n",
       "      <td>0.821622</td>\n",
       "      <td>0.987013</td>\n",
       "      <td>0.909748</td>\n",
       "      <td>0.896755</td>\n",
       "      <td>0.909748</td>\n",
       "    </tr>\n",
       "  </tbody>\n",
       "</table>\n",
       "</div>"
      ],
      "text/plain": [
       "            model_name    recall  precision   roc_auc        f1  accuracy\n",
       "0  logistic regression  0.524324   0.815126  0.750472  0.638158  0.750472\n",
       "1        random forest  0.859459   1.000000  0.929730  0.924419  0.929730\n",
       "2                  kNN  0.421622   0.634146  0.686900  0.506494  0.686900\n",
       "3        decision tree  0.924324   0.904762  0.952598  0.914439  0.952598\n",
       "4             adaboost  0.567568   0.833333  0.772625  0.675241  0.772625\n",
       "5              xgboost  0.886486   0.976190  0.941118  0.929178  0.941118\n",
       "6             catboost  0.821622   0.987013  0.909748  0.896755  0.909748"
      ]
     },
     "execution_count": 349,
     "metadata": {},
     "output_type": "execute_result"
    }
   ],
   "source": [
    "pd.DataFrame([model_1_result['test'], \n",
    "              model_2_result['test'], \n",
    "              model_3_result['test'], \n",
    "              model_4_result['test'], \n",
    "              model_5_result['test'],\n",
    "              model_6_result['test'], \n",
    "              model_7_result['test']])"
   ]
  },
  {
   "cell_type": "code",
   "execution_count": 350,
   "id": "7f6f1516-f1c7-4ad2-b8d4-4243dcd5eb0f",
   "metadata": {},
   "outputs": [
    {
     "name": "stdout",
     "output_type": "stream",
     "text": [
      "              precision    recall  f1-score   support\n",
      "\n",
      "           0       0.99      0.98      0.98       941\n",
      "           1       0.90      0.92      0.91       185\n",
      "\n",
      "    accuracy                           0.97      1126\n",
      "   macro avg       0.94      0.95      0.95      1126\n",
      "weighted avg       0.97      0.97      0.97      1126\n",
      "\n"
     ]
    }
   ],
   "source": [
    "print(classification_report(model_4_result['y_test'], model_4_result['y_test_pred']))"
   ]
  },
  {
   "cell_type": "markdown",
   "id": "bee490a1-a545-4d10-92a3-4cd8155e817a",
   "metadata": {},
   "source": [
    "## Hyperparameter Tuning"
   ]
  },
  {
   "cell_type": "markdown",
   "id": "ab981f44-b4a5-45ec-add3-8bc1dc687937",
   "metadata": {},
   "source": [
    "### Hyperparameter LogisticRegression"
   ]
  },
  {
   "cell_type": "code",
   "execution_count": 351,
   "id": "22add8c4-d329-4cc6-89a5-731836d13560",
   "metadata": {},
   "outputs": [
    {
     "name": "stdout",
     "output_type": "stream",
     "text": [
      "Train score: 0.8865452930728241\n",
      "Test score:0.9023090586145648\n"
     ]
    }
   ],
   "source": [
    "logres = LogisticRegression()\n",
    "logres.fit(X_train, y_train)\n",
    "print('Train score: ' + str(logres.score(X_train, y_train))) #accuracy\n",
    "print('Test score:' + str(logres.score(X_test, y_test))) #accuracy"
   ]
  },
  {
   "cell_type": "code",
   "execution_count": 352,
   "id": "95677cf2-b0bd-40f5-86d6-0a8013dc0e62",
   "metadata": {},
   "outputs": [],
   "source": [
    "from sklearn.model_selection import RandomizedSearchCV, GridSearchCV\n",
    "\n",
    "# List Hyperparameters yang akan diuji\n",
    "penalty = ['l2','l1','elasticnet']\n",
    "C = [0.0001, 0.001, 0.002] # Inverse of regularization strength; smaller values specify stronger regularization.\n",
    "hyperparameters = dict(penalty=penalty, C=C)\n",
    "\n",
    "# Inisiasi model\n",
    "logres = LogisticRegression(random_state=42) # Init Logres dengan Gridsearch, cross validation = 5\n",
    "logres_tuned = RandomizedSearchCV(logres, hyperparameters, cv=5, random_state=42, scoring='recall')\n",
    "\n",
    "# Fitting Model & Evaluation\n",
    "logres_hyper = prediction(X_train, y_train, X_test, y_test, logres_tuned, model_name='logistic regression_hyperparam')"
   ]
  },
  {
   "cell_type": "code",
   "execution_count": 353,
   "id": "31081d65-1292-4444-842b-10fe53bfc42d",
   "metadata": {},
   "outputs": [
    {
     "name": "stdout",
     "output_type": "stream",
     "text": [
      "Best algorithm: l2\n",
      "Best C: 0.002\n"
     ]
    }
   ],
   "source": [
    "print('Best algorithm:', logres_tuned.best_estimator_.get_params()['penalty'])\n",
    "print('Best C:', logres_tuned.best_estimator_.get_params()['C'])"
   ]
  },
  {
   "cell_type": "code",
   "execution_count": 354,
   "id": "54daf8a0-3481-4c95-a552-4a685cfa3156",
   "metadata": {},
   "outputs": [
    {
     "name": "stdout",
     "output_type": "stream",
     "text": [
      "Train score: 0.2608125819134993\n",
      "Test score: 0.3027027027027027\n"
     ]
    }
   ],
   "source": [
    "print('Train score: ' + str(logres_tuned.score(X_train, y_train))) #recall\n",
    "print('Test score: ' + str(logres_tuned.score(X_test, y_test))) #recall"
   ]
  },
  {
   "cell_type": "markdown",
   "id": "8f2f24a1-feb1-4121-871d-144ea71ab103",
   "metadata": {},
   "source": [
    "### Hyperparameter KNN"
   ]
  },
  {
   "cell_type": "code",
   "execution_count": 355,
   "id": "af03d1c0-b137-4bd1-b744-1405207ccd73",
   "metadata": {},
   "outputs": [
    {
     "name": "stdout",
     "output_type": "stream",
     "text": [
      "Train score: 0.8996447602131439\n",
      "Test score:0.8650088809946714\n"
     ]
    }
   ],
   "source": [
    "knn = KNeighborsClassifier()\n",
    "knn.fit(X_train, y_train)\n",
    "print('Train score: ' + str(knn.score(X_train, y_train))) #recall\n",
    "print('Test score:' + str(knn.score(X_test, y_test))) #recall"
   ]
  },
  {
   "cell_type": "code",
   "execution_count": 356,
   "id": "64d7f21d-e6e7-4e09-8498-5f8eeb5e21a7",
   "metadata": {},
   "outputs": [],
   "source": [
    "from sklearn.model_selection import RandomizedSearchCV\n",
    "from scipy.stats import uniform\n",
    "\n",
    "# List of hyperparameter\n",
    "n_neighbors = list(range(1,30))\n",
    "p=[1,2]\n",
    "algorithm = ['auto', 'ball_tree', 'kd_tree', 'brute']\n",
    "hyperparameters = dict(n_neighbors=n_neighbors, p=p, algorithm=algorithm)\n",
    "\n",
    "# Init model\n",
    "knn = KNeighborsClassifier()\n",
    "knn_tuned = RandomizedSearchCV(knn, hyperparameters, cv=5, random_state=42, scoring='recall')\n",
    "\n",
    "# Fit Model & Evaluasi\n",
    "kkn_hyper = prediction(X_train, y_train, X_test, y_test, knn_tuned, model_name='kNN_hyperparam')"
   ]
  },
  {
   "cell_type": "code",
   "execution_count": 357,
   "id": "85364d35-9ead-41a6-a64e-47aec87e6f55",
   "metadata": {},
   "outputs": [
    {
     "name": "stdout",
     "output_type": "stream",
     "text": [
      "Best n_neighbors: 5\n",
      "Best p: 1\n",
      "Best algorithm: ball_tree\n"
     ]
    }
   ],
   "source": [
    "print('Best n_neighbors:', knn_tuned.best_estimator_.get_params()['n_neighbors'])\n",
    "print('Best p:', knn_tuned.best_estimator_.get_params()['p'])\n",
    "print('Best algorithm:', knn_tuned.best_estimator_.get_params()['algorithm'])"
   ]
  },
  {
   "cell_type": "code",
   "execution_count": 358,
   "id": "7f2a04d1-0284-4e7d-bd71-a8df7050e584",
   "metadata": {},
   "outputs": [
    {
     "name": "stdout",
     "output_type": "stream",
     "text": [
      "Train score: 0.6041939711664482\n",
      "Test score: 0.4648648648648649\n"
     ]
    }
   ],
   "source": [
    "print('Train score: ' + str(knn_tuned.score(X_train, y_train))) #recall\n",
    "print('Test score: ' + str(knn_tuned.score(X_test, y_test))) #recall"
   ]
  },
  {
   "cell_type": "markdown",
   "id": "5c432a8f-4188-4460-a5f9-da819d368584",
   "metadata": {},
   "source": [
    "### Hyperparameter DecisionTreeClassifier"
   ]
  },
  {
   "cell_type": "code",
   "execution_count": 359,
   "id": "c5647899-2af6-4524-a865-bd1b4e46eb74",
   "metadata": {},
   "outputs": [
    {
     "name": "stdout",
     "output_type": "stream",
     "text": [
      "Train score: 1.0\n",
      "Test score:0.9680284191829485\n"
     ]
    }
   ],
   "source": [
    "dt = tree.DecisionTreeClassifier() \n",
    "dt.fit(X_train,y_train)\n",
    "print('Train score: ' + str(dt.score(X_train, y_train))) #recall\n",
    "print('Test score:' + str(dt.score(X_test, y_test))) #recall"
   ]
  },
  {
   "cell_type": "code",
   "execution_count": 360,
   "id": "8c5972d5-6860-4f67-9759-426a350d10c3",
   "metadata": {},
   "outputs": [],
   "source": [
    "from sklearn.model_selection import RandomizedSearchCV\n",
    "from scipy.stats import uniform\n",
    "import numpy as np\n",
    "\n",
    "# List of hyperparameter\n",
    "max_depth = [int(x) for x in np.linspace(1, 110, num = 30)] # Maximum number of levels in tree\n",
    "min_samples_split = [2, 5, 10, 100] # Minimum number of samples required to split a node\n",
    "min_samples_leaf = [1, 2, 4, 10, 20, 50] # Minimum number of samples required at each leaf node\n",
    "max_features = ['auto', 'sqrt'] # Number of features to consider at every split\n",
    "\n",
    "hyperparameters = dict(max_depth=max_depth, \n",
    "                       min_samples_split=min_samples_split, \n",
    "                       min_samples_leaf=min_samples_leaf,\n",
    "                       max_features=max_features\n",
    "                      )\n",
    "\n",
    "# Inisialisasi Model\n",
    "dt = tree.DecisionTreeClassifier()\n",
    "dt_tuned = RandomizedSearchCV(dt, hyperparameters, cv=5, random_state=42, scoring='recall')\n",
    "\n",
    "# Predict & Evaluation\n",
    "dt_hyper = prediction(X_train, y_train, X_test, y_test, dt_tuned, model_name='decision tree_hyperparam')"
   ]
  },
  {
   "cell_type": "code",
   "execution_count": 361,
   "id": "f3e65bbb-87da-4d6c-8cec-7a49cd2e699f",
   "metadata": {},
   "outputs": [
    {
     "name": "stdout",
     "output_type": "stream",
     "text": [
      "Best max_depth: 87\n",
      "Best min_samples_split: 10\n",
      "Best min_samples_leaf: 1\n",
      "Best max_features: sqrt\n"
     ]
    }
   ],
   "source": [
    "print('Best max_depth:', dt_tuned.best_estimator_.get_params()['max_depth'])\n",
    "print('Best min_samples_split:', dt_tuned.best_estimator_.get_params()['min_samples_split'])\n",
    "print('Best min_samples_leaf:', dt_tuned.best_estimator_.get_params()['min_samples_leaf'])\n",
    "print('Best max_features:', dt_tuned.best_estimator_.get_params()['max_features'])"
   ]
  },
  {
   "cell_type": "code",
   "execution_count": 362,
   "id": "d3e7efba-181c-4848-b897-38afbe544d0d",
   "metadata": {},
   "outputs": [
    {
     "name": "stdout",
     "output_type": "stream",
     "text": [
      "Train score: 0.8217562254259502\n",
      "Test score: 0.654054054054054\n"
     ]
    }
   ],
   "source": [
    "print('Train score: ' + str(dt_tuned.score(X_train, y_train))) #recall\n",
    "print('Test score: ' + str(dt_tuned.score(X_test, y_test))) #recall"
   ]
  },
  {
   "cell_type": "markdown",
   "id": "d98809cd-cfab-4065-a4ab-604f2922bf8d",
   "metadata": {},
   "source": [
    "### Hyperparameter Random Forest"
   ]
  },
  {
   "cell_type": "code",
   "execution_count": 363,
   "id": "24a135fb-836e-419a-8e03-86b120c08ec7",
   "metadata": {},
   "outputs": [
    {
     "name": "stdout",
     "output_type": "stream",
     "text": [
      "Train score: 1.0\n",
      "Test score: 0.9769094138543517\n"
     ]
    }
   ],
   "source": [
    "rf = RandomForestClassifier(random_state=42)\n",
    "rf.fit(X_train,y_train)\n",
    "print('Train score: ' + str(rf.score(X_train, y_train))) #recall\n",
    "print('Test score: ' + str(rf.score(X_test, y_test))) #recall"
   ]
  },
  {
   "cell_type": "code",
   "execution_count": 364,
   "id": "45c2ddbf-2450-4d4b-92a0-2c8de7dd88e0",
   "metadata": {},
   "outputs": [],
   "source": [
    "from sklearn.model_selection import RandomizedSearchCV, GridSearchCV\n",
    "\n",
    "#List Hyperparameters yang akan diuji\n",
    "hyperparameters = dict(\n",
    "                       n_estimators = [int(x) for x in np.linspace(start = 100, stop = 2000, num = 20)], # Jumlah subtree \n",
    "                       bootstrap = [True], # Apakah pakai bootstrapping atau tidak\n",
    "                       criterion = ['gini','entropy'],\n",
    "                       max_depth = [int(x) for x in np.linspace(10, 110, num = 11)],  # Maximum kedalaman tree\n",
    "                       min_samples_split = [int(x) for x in np.linspace(start = 2, stop = 10, num = 5)], # Jumlah minimum samples pada node agar boleh di split menjadi leaf baru\n",
    "                       min_samples_leaf = [int(x) for x in np.linspace(start = 1, stop = 10, num = 5)], # Jumlah minimum samples pada leaf agar boleh terbentuk leaf baru\n",
    "                       max_features = ['auto', 'sqrt', 'log2'], # Jumlah feature yg dipertimbangkan pada masing-masing split\n",
    "                       n_jobs = [-1], # Core untuk parallel computation. -1 untuk menggunakan semua core\n",
    "                      )\n",
    "\n",
    "# Init\n",
    "rf = RandomForestClassifier(random_state=42)\n",
    "rf_tuned = RandomizedSearchCV(rf, hyperparameters, cv=5, random_state=42, scoring='recall')\n",
    "\n",
    "# Predict & Evaluation\n",
    "rf_hyper = prediction(X_train, y_train, X_test, y_test, rf_tuned, model_name='random forest_hyperparam')"
   ]
  },
  {
   "cell_type": "code",
   "execution_count": 365,
   "id": "70a0ab66-83d3-4780-bbba-35979bcbbc40",
   "metadata": {},
   "outputs": [
    {
     "name": "stdout",
     "output_type": "stream",
     "text": [
      "Best n_estimators: 400\n",
      "Best bootstrap: True\n",
      "Best criterion: gini\n",
      "Best max_depth: 110\n",
      "Best min_samples_split: 4\n",
      "Best min_samples_leaf: 1\n",
      "Best max_features: log2\n",
      "Best n_jobs: -1\n"
     ]
    }
   ],
   "source": [
    "show_best_hyperparameter(rf_tuned.best_estimator_, hyperparameters)"
   ]
  },
  {
   "cell_type": "code",
   "execution_count": 366,
   "id": "f3085202-4db9-4b6b-8fcb-479f0047bfd4",
   "metadata": {},
   "outputs": [
    {
     "name": "stdout",
     "output_type": "stream",
     "text": [
      "Train score: 0.9973787680209698\n",
      "Test score: 0.7945945945945946\n"
     ]
    }
   ],
   "source": [
    "print('Train score: ' + str(rf_tuned.score(X_train, y_train))) #recall\n",
    "print('Test score: ' + str(rf_tuned.score(X_test, y_test))) #recall"
   ]
  },
  {
   "cell_type": "markdown",
   "id": "6d4e8de4-5e55-4969-b9cc-878b9fb0e83c",
   "metadata": {},
   "source": [
    "### Hyperparameter AdaBoost"
   ]
  },
  {
   "cell_type": "code",
   "execution_count": 367,
   "id": "fb0c2e0e-6d0e-494c-be43-ac79b5984739",
   "metadata": {},
   "outputs": [],
   "source": [
    "from sklearn.model_selection import RandomizedSearchCV, GridSearchCV\n",
    "import numpy as np\n",
    "\n",
    "# List of hyperparameter\n",
    "hyperparameters = dict(n_estimators = [int(x) for x in np.linspace(start = 100, stop = 2000, num = 20)], # Jumlah iterasi\n",
    "                       learning_rate = [float(x) for x in np.linspace(start = 0.001, stop = 0.1, num = 20)],  \n",
    "                       algorithm = ['SAMME', 'SAMME.R']\n",
    "                      )\n",
    "\n",
    "# Init model\n",
    "ab = AdaBoostClassifier(random_state=42)\n",
    "ab_tuned = RandomizedSearchCV(ab, hyperparameters, random_state=42, cv=5, scoring='recall')\n",
    "\n",
    "# Predict & Evaluation\n",
    "ad_hyper = prediction(X_train, y_train, X_test, y_test, ab_tuned, model_name='adaboost_hyperparam')"
   ]
  },
  {
   "cell_type": "code",
   "execution_count": 368,
   "id": "2949b780-df2e-4814-9645-6c5730871a29",
   "metadata": {},
   "outputs": [
    {
     "name": "stdout",
     "output_type": "stream",
     "text": [
      "Best n_estimators: 1700\n",
      "Best learning_rate: 0.07394736842105264\n",
      "Best algorithm: SAMME.R\n"
     ]
    }
   ],
   "source": [
    "show_best_hyperparameter(ab_tuned.best_estimator_, hyperparameters)"
   ]
  },
  {
   "cell_type": "code",
   "execution_count": 369,
   "id": "4ccda0f7-e3c5-4cc8-8f87-4ece764ca6d9",
   "metadata": {},
   "outputs": [
    {
     "name": "stdout",
     "output_type": "stream",
     "text": [
      "Train score: 0.5950196592398427\n",
      "Test score: 0.6\n"
     ]
    }
   ],
   "source": [
    "print('Train score: ' + str(ab_tuned.score(X_train, y_train))) #recall\n",
    "print('Test score: ' + str(ab_tuned.score(X_test, y_test))) #recall"
   ]
  },
  {
   "cell_type": "markdown",
   "id": "77628bf0-c489-44ff-8a3f-6566561132f6",
   "metadata": {},
   "source": [
    "### Hyperparameter CatBoost"
   ]
  },
  {
   "cell_type": "code",
   "execution_count": 370,
   "id": "38d1f46d-3f65-409d-9bf5-61566236df63",
   "metadata": {},
   "outputs": [
    {
     "name": "stdout",
     "output_type": "stream",
     "text": [
      "Train score: 0.9922291296625222\n",
      "Test score: 0.9689165186500888\n"
     ]
    }
   ],
   "source": [
    "cat = cb.CatBoostClassifier(random_state=42, logging_level='Silent')\n",
    "cat.fit(X_train,y_train)\n",
    "print('Train score: ' + str(cat.score(X_train, y_train))) #recall\n",
    "print('Test score: ' + str(cat.score(X_test, y_test))) #recall"
   ]
  },
  {
   "cell_type": "code",
   "execution_count": 371,
   "id": "599331d3-59eb-4774-9b8a-7bf35311f33d",
   "metadata": {},
   "outputs": [],
   "source": [
    "from sklearn.model_selection import RandomizedSearchCV, GridSearchCV\n",
    "import numpy as np\n",
    "\n",
    "# List of hyperparameter\n",
    "hyperparameters = dict(n_estimators = [int(x) for x in np.linspace(start = 100, stop = 2000, num = 20)], # Jumlah iterasi\n",
    "                       learning_rate = [float(x) for x in np.linspace(start = 0.001, stop = 0.1, num = 20)]\n",
    "                      )\n",
    "\n",
    "# Init model\n",
    "cat = cb.CatBoostClassifier(random_state=42,logging_level='Silent')\n",
    "cat_tuned = RandomizedSearchCV(cat, hyperparameters, random_state=42, cv=5, scoring='recall')\n",
    "\n",
    "# Predict & Evaluation\n",
    "cat_hyper = prediction(X_train, y_train, X_test, y_test, cat_tuned, model_name='cat boost_hyperparam')"
   ]
  },
  {
   "cell_type": "code",
   "execution_count": 372,
   "id": "81d6bea9-053b-4724-b54b-0b04d22a480b",
   "metadata": {},
   "outputs": [
    {
     "name": "stdout",
     "output_type": "stream",
     "text": [
      "Best n_estimators: 1000\n",
      "Best learning_rate: 0.08436842105263158\n"
     ]
    }
   ],
   "source": [
    "show_best_hyperparameter(cat_tuned.best_estimator_, hyperparameters)"
   ]
  },
  {
   "cell_type": "code",
   "execution_count": 373,
   "id": "8c110fdd-fca3-4dcb-bb6a-09f275112ffb",
   "metadata": {},
   "outputs": [
    {
     "name": "stdout",
     "output_type": "stream",
     "text": [
      "Train score: 1.0\n",
      "Test score: 0.9135135135135135\n"
     ]
    }
   ],
   "source": [
    "print('Train score: ' + str(cat_tuned.score(X_train, y_train))) #recall\n",
    "print('Test score: ' + str(cat_tuned.score(X_test, y_test))) #recall"
   ]
  },
  {
   "cell_type": "markdown",
   "id": "e929cd24-a65f-485e-a92d-d4d43eaab7c6",
   "metadata": {},
   "source": [
    "### Hyperparameter XGBOOST"
   ]
  },
  {
   "cell_type": "code",
   "execution_count": 374,
   "id": "af76e2f2-9cf5-437e-bc08-dc707808cc1f",
   "metadata": {},
   "outputs": [
    {
     "name": "stdout",
     "output_type": "stream",
     "text": [
      "Train score: 1.0\n",
      "Test score: 0.977797513321492\n"
     ]
    }
   ],
   "source": [
    "xg = xgb.XGBClassifier(random_state=42)\n",
    "xg.fit(X_train, y_train)\n",
    "print('Train score: ' + str(xg.score(X_train, y_train))) #recall\n",
    "print('Test score: ' + str(xg.score(X_test, y_test))) #recall"
   ]
  },
  {
   "cell_type": "code",
   "execution_count": 375,
   "id": "264c5c9c-9b02-4c59-b39b-eeb92c7df647",
   "metadata": {},
   "outputs": [],
   "source": [
    "from sklearn.model_selection import RandomizedSearchCV, GridSearchCV\n",
    "import numpy as np\n",
    "\n",
    "#Menjadikan ke dalam bentuk dictionary\n",
    "hyperparameters = {\n",
    "                    'max_depth' : [int(x) for x in np.linspace(10, 110, num = 11)],\n",
    "                    'min_child_weight' : [int(x) for x in np.linspace(1, 20, num = 11)],\n",
    "                    'gamma' : [float(x) for x in np.linspace(0, 1, num = 11)],\n",
    "                    'tree_method' : ['auto', 'exact', 'approx', 'hist'],\n",
    "\n",
    "                    'colsample_bytree' : [float(x) for x in np.linspace(0, 1, num = 11)],\n",
    "                    'eta' : [float(x) for x in np.linspace(0, 1, num = 100)],\n",
    "\n",
    "                    'lambda' : [float(x) for x in np.linspace(0, 1, num = 11)],\n",
    "                    'alpha' : [float(x) for x in np.linspace(0, 1, num = 11)]\n",
    "                    }\n",
    "\n",
    "# Init\n",
    "xg = xgb.XGBClassifier(random_state=42)\n",
    "xg_tuned = RandomizedSearchCV(xg, hyperparameters, cv=5, random_state=42, scoring='recall')\n",
    "\n",
    "# Predict & Evaluation\n",
    "xg_hyper = prediction(X_train, y_train, X_test, y_test, xg_tuned, model_name='xgboost_hyperparam')"
   ]
  },
  {
   "cell_type": "code",
   "execution_count": 376,
   "id": "4d3b70c3-24b1-421d-9482-a073f375353f",
   "metadata": {},
   "outputs": [
    {
     "name": "stdout",
     "output_type": "stream",
     "text": [
      "Best max_depth: 110\n",
      "Best min_child_weight: 2\n",
      "Best gamma: 0.5\n",
      "Best tree_method: hist\n",
      "Best colsample_bytree: 1.0\n",
      "Best eta: 0.7777777777777778\n",
      "Best lambda: 0.2\n",
      "Best alpha: 0.1\n"
     ]
    }
   ],
   "source": [
    "show_best_hyperparameter(xg_tuned.best_estimator_, hyperparameters)"
   ]
  },
  {
   "cell_type": "code",
   "execution_count": 377,
   "id": "829fa805-8b36-4fc4-b953-75edd160aca5",
   "metadata": {},
   "outputs": [
    {
     "name": "stdout",
     "output_type": "stream",
     "text": [
      "Train score: 0.9986893840104849\n",
      "Test score: 0.9297297297297298\n"
     ]
    }
   ],
   "source": [
    "print('Train score: ' + str(xg_tuned.score(X_train, y_train))) #recall\n",
    "print('Test score: ' + str(xg_tuned.score(X_test, y_test))) #recall"
   ]
  },
  {
   "cell_type": "markdown",
   "id": "4f63de1e-7fed-450f-95ce-25dc1f93072b",
   "metadata": {},
   "source": [
    "## Result Hyperparameter modeling"
   ]
  },
  {
   "cell_type": "code",
   "execution_count": 378,
   "id": "e7737761-56d5-4ef0-9fc9-e033b2b39903",
   "metadata": {},
   "outputs": [
    {
     "data": {
      "text/html": [
       "<div>\n",
       "<style scoped>\n",
       "    .dataframe tbody tr th:only-of-type {\n",
       "        vertical-align: middle;\n",
       "    }\n",
       "\n",
       "    .dataframe tbody tr th {\n",
       "        vertical-align: top;\n",
       "    }\n",
       "\n",
       "    .dataframe thead th {\n",
       "        text-align: right;\n",
       "    }\n",
       "</style>\n",
       "<table border=\"1\" class=\"dataframe\">\n",
       "  <thead>\n",
       "    <tr style=\"text-align: right;\">\n",
       "      <th></th>\n",
       "      <th>model_name</th>\n",
       "      <th>recall</th>\n",
       "      <th>precision</th>\n",
       "      <th>roc_auc</th>\n",
       "      <th>f1</th>\n",
       "      <th>accuracy</th>\n",
       "    </tr>\n",
       "  </thead>\n",
       "  <tbody>\n",
       "    <tr>\n",
       "      <th>0</th>\n",
       "      <td>logistic regression_hyperparam</td>\n",
       "      <td>0.260813</td>\n",
       "      <td>0.771318</td>\n",
       "      <td>0.622521</td>\n",
       "      <td>0.389814</td>\n",
       "      <td>0.622521</td>\n",
       "    </tr>\n",
       "    <tr>\n",
       "      <th>1</th>\n",
       "      <td>kNN_hyperparam</td>\n",
       "      <td>0.604194</td>\n",
       "      <td>0.833635</td>\n",
       "      <td>0.789801</td>\n",
       "      <td>0.700608</td>\n",
       "      <td>0.789801</td>\n",
       "    </tr>\n",
       "    <tr>\n",
       "      <th>2</th>\n",
       "      <td>decision tree_hyperparam</td>\n",
       "      <td>0.821756</td>\n",
       "      <td>0.907381</td>\n",
       "      <td>0.902324</td>\n",
       "      <td>0.862448</td>\n",
       "      <td>0.902324</td>\n",
       "    </tr>\n",
       "    <tr>\n",
       "      <th>3</th>\n",
       "      <td>random forest_hyperparam</td>\n",
       "      <td>0.997379</td>\n",
       "      <td>1.000000</td>\n",
       "      <td>0.998689</td>\n",
       "      <td>0.998688</td>\n",
       "      <td>0.998689</td>\n",
       "    </tr>\n",
       "    <tr>\n",
       "      <th>4</th>\n",
       "      <td>adaboost_hyperparam</td>\n",
       "      <td>0.595020</td>\n",
       "      <td>0.766892</td>\n",
       "      <td>0.779066</td>\n",
       "      <td>0.670111</td>\n",
       "      <td>0.779066</td>\n",
       "    </tr>\n",
       "    <tr>\n",
       "      <th>5</th>\n",
       "      <td>cat boost_hyperparam</td>\n",
       "      <td>1.000000</td>\n",
       "      <td>1.000000</td>\n",
       "      <td>1.000000</td>\n",
       "      <td>1.000000</td>\n",
       "      <td>1.000000</td>\n",
       "    </tr>\n",
       "    <tr>\n",
       "      <th>6</th>\n",
       "      <td>xgboost_hyperparam</td>\n",
       "      <td>0.998689</td>\n",
       "      <td>1.000000</td>\n",
       "      <td>0.999345</td>\n",
       "      <td>0.999344</td>\n",
       "      <td>0.999345</td>\n",
       "    </tr>\n",
       "  </tbody>\n",
       "</table>\n",
       "</div>"
      ],
      "text/plain": [
       "                       model_name    recall  precision   roc_auc        f1  \\\n",
       "0  logistic regression_hyperparam  0.260813   0.771318  0.622521  0.389814   \n",
       "1                  kNN_hyperparam  0.604194   0.833635  0.789801  0.700608   \n",
       "2        decision tree_hyperparam  0.821756   0.907381  0.902324  0.862448   \n",
       "3        random forest_hyperparam  0.997379   1.000000  0.998689  0.998688   \n",
       "4             adaboost_hyperparam  0.595020   0.766892  0.779066  0.670111   \n",
       "5            cat boost_hyperparam  1.000000   1.000000  1.000000  1.000000   \n",
       "6              xgboost_hyperparam  0.998689   1.000000  0.999345  0.999344   \n",
       "\n",
       "   accuracy  \n",
       "0  0.622521  \n",
       "1  0.789801  \n",
       "2  0.902324  \n",
       "3  0.998689  \n",
       "4  0.779066  \n",
       "5  1.000000  \n",
       "6  0.999345  "
      ]
     },
     "execution_count": 378,
     "metadata": {},
     "output_type": "execute_result"
    }
   ],
   "source": [
    "pd.DataFrame([logres_hyper['train'], \n",
    "              kkn_hyper['train'], \n",
    "              dt_hyper['train'], \n",
    "              rf_hyper['train'], \n",
    "              ad_hyper['train'],\n",
    "              cat_hyper['train'],\n",
    "              xg_hyper['train']\n",
    "              ])"
   ]
  },
  {
   "cell_type": "code",
   "execution_count": 379,
   "id": "74709a74-c40c-472e-a353-b6c446d5e842",
   "metadata": {},
   "outputs": [
    {
     "data": {
      "text/html": [
       "<div>\n",
       "<style scoped>\n",
       "    .dataframe tbody tr th:only-of-type {\n",
       "        vertical-align: middle;\n",
       "    }\n",
       "\n",
       "    .dataframe tbody tr th {\n",
       "        vertical-align: top;\n",
       "    }\n",
       "\n",
       "    .dataframe thead th {\n",
       "        text-align: right;\n",
       "    }\n",
       "</style>\n",
       "<table border=\"1\" class=\"dataframe\">\n",
       "  <thead>\n",
       "    <tr style=\"text-align: right;\">\n",
       "      <th></th>\n",
       "      <th>model_name</th>\n",
       "      <th>recall</th>\n",
       "      <th>precision</th>\n",
       "      <th>roc_auc</th>\n",
       "      <th>f1</th>\n",
       "      <th>accuracy</th>\n",
       "    </tr>\n",
       "  </thead>\n",
       "  <tbody>\n",
       "    <tr>\n",
       "      <th>0</th>\n",
       "      <td>logistic regression_hyperparam</td>\n",
       "      <td>0.302703</td>\n",
       "      <td>0.848485</td>\n",
       "      <td>0.646038</td>\n",
       "      <td>0.446215</td>\n",
       "      <td>0.646038</td>\n",
       "    </tr>\n",
       "    <tr>\n",
       "      <th>1</th>\n",
       "      <td>kNN_hyperparam</td>\n",
       "      <td>0.464865</td>\n",
       "      <td>0.699187</td>\n",
       "      <td>0.712772</td>\n",
       "      <td>0.558442</td>\n",
       "      <td>0.712772</td>\n",
       "    </tr>\n",
       "    <tr>\n",
       "      <th>2</th>\n",
       "      <td>decision tree_hyperparam</td>\n",
       "      <td>0.654054</td>\n",
       "      <td>0.707602</td>\n",
       "      <td>0.800460</td>\n",
       "      <td>0.679775</td>\n",
       "      <td>0.800460</td>\n",
       "    </tr>\n",
       "    <tr>\n",
       "      <th>3</th>\n",
       "      <td>random forest_hyperparam</td>\n",
       "      <td>0.794595</td>\n",
       "      <td>0.993243</td>\n",
       "      <td>0.896766</td>\n",
       "      <td>0.882883</td>\n",
       "      <td>0.896766</td>\n",
       "    </tr>\n",
       "    <tr>\n",
       "      <th>4</th>\n",
       "      <td>adaboost_hyperparam</td>\n",
       "      <td>0.600000</td>\n",
       "      <td>0.816176</td>\n",
       "      <td>0.786716</td>\n",
       "      <td>0.691589</td>\n",
       "      <td>0.786716</td>\n",
       "    </tr>\n",
       "    <tr>\n",
       "      <th>5</th>\n",
       "      <td>cat boost_hyperparam</td>\n",
       "      <td>0.913514</td>\n",
       "      <td>0.994118</td>\n",
       "      <td>0.956225</td>\n",
       "      <td>0.952113</td>\n",
       "      <td>0.956225</td>\n",
       "    </tr>\n",
       "    <tr>\n",
       "      <th>6</th>\n",
       "      <td>xgboost_hyperparam</td>\n",
       "      <td>0.929730</td>\n",
       "      <td>0.955556</td>\n",
       "      <td>0.960614</td>\n",
       "      <td>0.942466</td>\n",
       "      <td>0.960614</td>\n",
       "    </tr>\n",
       "  </tbody>\n",
       "</table>\n",
       "</div>"
      ],
      "text/plain": [
       "                       model_name    recall  precision   roc_auc        f1  \\\n",
       "0  logistic regression_hyperparam  0.302703   0.848485  0.646038  0.446215   \n",
       "1                  kNN_hyperparam  0.464865   0.699187  0.712772  0.558442   \n",
       "2        decision tree_hyperparam  0.654054   0.707602  0.800460  0.679775   \n",
       "3        random forest_hyperparam  0.794595   0.993243  0.896766  0.882883   \n",
       "4             adaboost_hyperparam  0.600000   0.816176  0.786716  0.691589   \n",
       "5            cat boost_hyperparam  0.913514   0.994118  0.956225  0.952113   \n",
       "6              xgboost_hyperparam  0.929730   0.955556  0.960614  0.942466   \n",
       "\n",
       "   accuracy  \n",
       "0  0.646038  \n",
       "1  0.712772  \n",
       "2  0.800460  \n",
       "3  0.896766  \n",
       "4  0.786716  \n",
       "5  0.956225  \n",
       "6  0.960614  "
      ]
     },
     "execution_count": 379,
     "metadata": {},
     "output_type": "execute_result"
    }
   ],
   "source": [
    "pd.DataFrame([logres_hyper['test'], \n",
    "              kkn_hyper['test'], \n",
    "              dt_hyper['test'], \n",
    "              rf_hyper['test'], \n",
    "              ad_hyper['test'],\n",
    "              cat_hyper['test'],\n",
    "              xg_hyper['test']\n",
    "              ])"
   ]
  },
  {
   "cell_type": "markdown",
   "id": "cf8effe7-0b11-40c4-9958-f1aa5b664b00",
   "metadata": {},
   "source": [
    "## Confusion Matrix"
   ]
  },
  {
   "cell_type": "code",
   "execution_count": 482,
   "id": "0626a45c-81cf-4882-b3ae-240536248cfa",
   "metadata": {},
   "outputs": [],
   "source": [
    "# logisticRegression\n",
    "y_pred = logres_tuned.predict(X_test)\n",
    "y_pred_train = logres_tuned.predict(X_train)"
   ]
  },
  {
   "cell_type": "code",
   "execution_count": 438,
   "id": "77c26633-dd63-447f-8ee2-0bd2b3bdd98c",
   "metadata": {},
   "outputs": [
    {
     "name": "stdout",
     "output_type": "stream",
     "text": [
      "[[931  10]\n",
      " [129  56]]\n"
     ]
    }
   ],
   "source": [
    "from sklearn.metrics import confusion_matrix\n",
    "\n",
    "#Generate the confusion matrix\n",
    "cf_matrix = confusion_matrix(y_test, y_pred)\n",
    "\n",
    "print(cf_matrix)"
   ]
  },
  {
   "cell_type": "code",
   "execution_count": 439,
   "id": "8731aee3-ed94-4a60-9fd3-2a0ab792ff49",
   "metadata": {},
   "outputs": [
    {
     "data": {
      "image/png": "[encoded data removed]",
      "text/plain": [
       "<Figure size 432x288 with 1 Axes>"
      ]
     },
     "metadata": {
      "needs_background": "light"
     },
     "output_type": "display_data"
    }
   ],
   "source": [
    "sns.heatmap(confusion_matrix(y_test,y_pred),annot=True,cbar=False,fmt='g')\n",
    "plt.title('Confusion Matrix')\n",
    "plt.ylabel('Actual')\n",
    "plt.xlabel('Prediction')\n",
    "plt.show()"
   ]
  },
  {
   "cell_type": "code",
   "execution_count": 440,
   "id": "0e8d1d94-8f24-49ca-bdae-584fbe8ef4e3",
   "metadata": {},
   "outputs": [],
   "source": [
    "# KNN\n",
    "y_pred = knn_tuned.predict(X_test)\n",
    "y_pred_train = knn_tuned.predict(X_train)"
   ]
  },
  {
   "cell_type": "code",
   "execution_count": 441,
   "id": "8d17382d-1f08-4edd-bf47-147615e61e85",
   "metadata": {},
   "outputs": [
    {
     "name": "stdout",
     "output_type": "stream",
     "text": [
      "[[904  37]\n",
      " [ 99  86]]\n"
     ]
    }
   ],
   "source": [
    "from sklearn.metrics import confusion_matrix\n",
    "\n",
    "#Generate the confusion matrix\n",
    "cf_matrix = confusion_matrix(y_test, y_pred)\n",
    "\n",
    "print(cf_matrix)"
   ]
  },
  {
   "cell_type": "code",
   "execution_count": 442,
   "id": "9d06fb35-8168-4f43-8cf6-9e0e84c5d44a",
   "metadata": {},
   "outputs": [
    {
     "data": {
      "image/png": "[encoded data removed]",
      "text/plain": [
       "<Figure size 432x288 with 1 Axes>"
      ]
     },
     "metadata": {
      "needs_background": "light"
     },
     "output_type": "display_data"
    }
   ],
   "source": [
    "sns.heatmap(confusion_matrix(y_test,y_pred),annot=True,cbar=False,fmt='g')\n",
    "plt.title('Confusion Matrix')\n",
    "plt.ylabel('Actual')\n",
    "plt.xlabel('Prediction')\n",
    "plt.show()"
   ]
  },
  {
   "cell_type": "code",
   "execution_count": 481,
   "id": "5c41ef28-5468-4f01-a4c0-13c1b7fc400d",
   "metadata": {},
   "outputs": [],
   "source": [
    "# DecisionTree\n",
    "y_pred = dt_tuned.predict(X_test)\n",
    "y_pred_train = dt_tuned.predict(X_train)"
   ]
  },
  {
   "cell_type": "code",
   "execution_count": 444,
   "id": "9daf6afb-fd70-4711-a3e1-030cb05b609d",
   "metadata": {},
   "outputs": [
    {
     "name": "stdout",
     "output_type": "stream",
     "text": [
      "[[891  50]\n",
      " [ 64 121]]\n"
     ]
    }
   ],
   "source": [
    "from sklearn.metrics import confusion_matrix\n",
    "\n",
    "#Generate the confusion matrix\n",
    "cf_matrix = confusion_matrix(y_test, y_pred)\n",
    "\n",
    "print(cf_matrix)"
   ]
  },
  {
   "cell_type": "code",
   "execution_count": 445,
   "id": "b5a35e3f-020c-41a5-ad86-919839be8fb8",
   "metadata": {},
   "outputs": [
    {
     "data": {
      "image/png": "[encoded data removed]",
      "text/plain": [
       "<Figure size 432x288 with 1 Axes>"
      ]
     },
     "metadata": {
      "needs_background": "light"
     },
     "output_type": "display_data"
    }
   ],
   "source": [
    "sns.heatmap(confusion_matrix(y_test,y_pred),annot=True,cbar=False,fmt='g')\n",
    "plt.title('Confusion Matrix')\n",
    "plt.ylabel('Actual')\n",
    "plt.xlabel('Prediction')\n",
    "plt.show()"
   ]
  },
  {
   "cell_type": "code",
   "execution_count": 446,
   "id": "a13ba737-1b99-4e6e-a99c-c27c5eb0e734",
   "metadata": {},
   "outputs": [],
   "source": [
    "# Catboost\n",
    "y_pred = rf_tuned.predict(X_test)\n",
    "y_pred_train = rf_tuned.predict(X_train)"
   ]
  },
  {
   "cell_type": "code",
   "execution_count": 447,
   "id": "0d5da482-cd9e-4dd8-87ef-2b011c7ed8cd",
   "metadata": {},
   "outputs": [
    {
     "name": "stdout",
     "output_type": "stream",
     "text": [
      "[[940   1]\n",
      " [ 38 147]]\n"
     ]
    }
   ],
   "source": [
    "from sklearn.metrics import confusion_matrix\n",
    "\n",
    "#Generate the confusion matrix\n",
    "cf_matrix = confusion_matrix(y_test, y_pred)\n",
    "\n",
    "print(cf_matrix)"
   ]
  },
  {
   "cell_type": "code",
   "execution_count": 448,
   "id": "03ad2599-844f-4f82-b096-7853065650d9",
   "metadata": {},
   "outputs": [
    {
     "data": {
      "image/png": "[encoded data removed]",
      "text/plain": [
       "<Figure size 432x288 with 1 Axes>"
      ]
     },
     "metadata": {
      "needs_background": "light"
     },
     "output_type": "display_data"
    }
   ],
   "source": [
    "sns.heatmap(confusion_matrix(y_test,y_pred),annot=True,cbar=False,fmt='g')\n",
    "plt.title('Confusion Matrix')\n",
    "plt.ylabel('Actual')\n",
    "plt.xlabel('Prediction')\n",
    "plt.show()"
   ]
  },
  {
   "cell_type": "code",
   "execution_count": 479,
   "id": "dcec4962-1456-4e35-9a7b-a24013eff3c1",
   "metadata": {},
   "outputs": [],
   "source": [
    "# Adaboost\n",
    "y_pred = ab_tuned.predict(X_test)\n",
    "y_pred_train = ab_tuned.predict(X_train)"
   ]
  },
  {
   "cell_type": "code",
   "execution_count": 450,
   "id": "d48e6920-3c83-4dd9-9fb6-760cd08ad61f",
   "metadata": {},
   "outputs": [
    {
     "name": "stdout",
     "output_type": "stream",
     "text": [
      "[[916  25]\n",
      " [ 74 111]]\n"
     ]
    }
   ],
   "source": [
    "from sklearn.metrics import confusion_matrix\n",
    "\n",
    "#Generate the confusion matrix\n",
    "cf_matrix = confusion_matrix(y_test, y_pred)\n",
    "\n",
    "print(cf_matrix)"
   ]
  },
  {
   "cell_type": "code",
   "execution_count": 451,
   "id": "021e9990-941e-4a6f-8ed1-95406a016641",
   "metadata": {},
   "outputs": [
    {
     "data": {
      "image/png": "[encoded data removed]",
      "text/plain": [
       "<Figure size 432x288 with 1 Axes>"
      ]
     },
     "metadata": {
      "needs_background": "light"
     },
     "output_type": "display_data"
    }
   ],
   "source": [
    "sns.heatmap(confusion_matrix(y_test,y_pred),annot=True,cbar=False,fmt='g')\n",
    "plt.title('Confusion Matrix')\n",
    "plt.ylabel('Actual')\n",
    "plt.xlabel('Prediction')\n",
    "plt.show()"
   ]
  },
  {
   "cell_type": "code",
   "execution_count": 452,
   "id": "3eb25786-54b7-4a70-90dc-2a36d8ce1117",
   "metadata": {},
   "outputs": [],
   "source": [
    "# Catboost\n",
    "y_pred = cat_tuned.predict(X_test)\n",
    "y_pred_train = cat_tuned.predict(X_train)"
   ]
  },
  {
   "cell_type": "code",
   "execution_count": 453,
   "id": "abc0c1dd-4272-4d72-85f1-edecf4298536",
   "metadata": {},
   "outputs": [
    {
     "name": "stdout",
     "output_type": "stream",
     "text": [
      "[[940   1]\n",
      " [ 16 169]]\n"
     ]
    }
   ],
   "source": [
    "from sklearn.metrics import confusion_matrix\n",
    "\n",
    "#Generate the confusion matrix\n",
    "cf_matrix = confusion_matrix(y_test, y_pred)\n",
    "\n",
    "print(cf_matrix)"
   ]
  },
  {
   "cell_type": "code",
   "execution_count": 454,
   "id": "5d93c9e8-7dca-45b0-97c0-3107b3c73ceb",
   "metadata": {},
   "outputs": [
    {
     "data": {
      "image/png": "[encoded data removed]",
      "text/plain": [
       "<Figure size 432x288 with 1 Axes>"
      ]
     },
     "metadata": {
      "needs_background": "light"
     },
     "output_type": "display_data"
    }
   ],
   "source": [
    "sns.heatmap(confusion_matrix(y_test,y_pred),annot=True,cbar=False,fmt='g')\n",
    "plt.title('Confusion Matrix')\n",
    "plt.ylabel('Actual')\n",
    "plt.xlabel('Prediction')\n",
    "plt.show()"
   ]
  },
  {
   "cell_type": "code",
   "execution_count": 480,
   "id": "2dbd99ac-31e4-4fe4-b51b-0cd3f8b3e387",
   "metadata": {},
   "outputs": [],
   "source": [
    "# Xgboost\n",
    "y_pred = xg_tuned.predict(X_test)\n",
    "y_pred_train = xg_tuned.predict(X_train)"
   ]
  },
  {
   "cell_type": "code",
   "execution_count": 456,
   "id": "ff5786ee-bdda-461d-a556-707a39691105",
   "metadata": {},
   "outputs": [
    {
     "name": "stdout",
     "output_type": "stream",
     "text": [
      "[[933   8]\n",
      " [ 13 172]]\n"
     ]
    }
   ],
   "source": [
    "from sklearn.metrics import confusion_matrix\n",
    "\n",
    "#Generate the confusion matrix\n",
    "cf_matrix = confusion_matrix(y_test, y_pred)\n",
    "\n",
    "print(cf_matrix)"
   ]
  },
  {
   "cell_type": "code",
   "execution_count": 457,
   "id": "05c672af-cd58-49f1-ba18-279cb2840f57",
   "metadata": {},
   "outputs": [
    {
     "data": {
      "image/png": "[encoded data removed]",
      "text/plain": [
       "<Figure size 432x288 with 1 Axes>"
      ]
     },
     "metadata": {
      "needs_background": "light"
     },
     "output_type": "display_data"
    }
   ],
   "source": [
    "sns.heatmap(confusion_matrix(y_test,y_pred),annot=True,cbar=False,fmt='g')\n",
    "plt.title('Confusion Matrix')\n",
    "plt.ylabel('Actual')\n",
    "plt.xlabel('Prediction')\n",
    "plt.show()"
   ]
  },
  {
   "cell_type": "markdown",
   "id": "dfe846b7-a845-4eef-9c78-5d78f4f50381",
   "metadata": {},
   "source": [
    "## Feature Importance"
   ]
  },
  {
   "cell_type": "code",
   "execution_count": 458,
   "id": "6e09cff3-63cd-4e7a-ad81-02fcc8249d65",
   "metadata": {},
   "outputs": [],
   "source": [
    "import shap"
   ]
  },
  {
   "cell_type": "code",
   "execution_count": 459,
   "id": "bd857cbf-1421-4aa8-acb1-7024d945c2f4",
   "metadata": {},
   "outputs": [
    {
     "name": "stderr",
     "output_type": "stream",
     "text": [
      "Permutation explainer: 1127it [00:42, 20.42it/s]                                                                       \n"
     ]
    }
   ],
   "source": [
    "# model interpretation CatBoost\n",
    "\n",
    "explainer = shap.Explainer(cat_hyper['clf'].predict, cat_hyper['x_test'])\n",
    "shap_values_cat = explainer(cat_hyper['x_test'])"
   ]
  },
  {
   "cell_type": "code",
   "execution_count": 460,
   "id": "d5ca87f0-7038-40c7-8134-4790d87ff073",
   "metadata": {},
   "outputs": [
    {
     "data": {
      "image/png": "[encoded data removed]",
      "text/plain": [
       "<Figure size 576x468 with 1 Axes>"
      ]
     },
     "metadata": {},
     "output_type": "display_data"
    }
   ],
   "source": [
    "shap.plots.bar(shap_values_cat)"
   ]
  },
  {
   "cell_type": "code",
   "execution_count": 461,
   "id": "450ee444-8849-4e8a-8327-ed4ac1490ebd",
   "metadata": {},
   "outputs": [
    {
     "data": {
      "image/png": "[encoded data removed]",
      "text/plain": [
       "<Figure size 576x396 with 2 Axes>"
      ]
     },
     "metadata": {
      "needs_background": "light"
     },
     "output_type": "display_data"
    }
   ],
   "source": [
    "shap.plots.beeswarm(shap_values_cat)"
   ]
  },
  {
   "cell_type": "markdown",
   "id": "57075b26-1fff-4179-9436-a12e4009387f",
   "metadata": {},
   "source": [
    "## Top Feature Insight"
   ]
  },
  {
   "cell_type": "code",
   "execution_count": 462,
   "id": "8c7777fa-08bd-471f-924e-3c2e45bb6fb8",
   "metadata": {},
   "outputs": [
    {
     "data": {
      "text/html": [
       "<div>\n",
       "<style scoped>\n",
       "    .dataframe tbody tr th:only-of-type {\n",
       "        vertical-align: middle;\n",
       "    }\n",
       "\n",
       "    .dataframe tbody tr th {\n",
       "        vertical-align: top;\n",
       "    }\n",
       "\n",
       "    .dataframe thead th {\n",
       "        text-align: right;\n",
       "    }\n",
       "</style>\n",
       "<table border=\"1\" class=\"dataframe\">\n",
       "  <thead>\n",
       "    <tr style=\"text-align: right;\">\n",
       "      <th></th>\n",
       "      <th>Unnamed: 0</th>\n",
       "      <th>CustomerID</th>\n",
       "      <th>Churn</th>\n",
       "      <th>Tenure</th>\n",
       "      <th>PreferredLoginDevice</th>\n",
       "      <th>CityTier</th>\n",
       "      <th>WarehouseToHome</th>\n",
       "      <th>PreferredPaymentMode</th>\n",
       "      <th>Gender</th>\n",
       "      <th>HourSpendOnApp</th>\n",
       "      <th>...</th>\n",
       "      <th>PreferedOrderCat</th>\n",
       "      <th>SatisfactionScore</th>\n",
       "      <th>MaritalStatus</th>\n",
       "      <th>NumberOfAddress</th>\n",
       "      <th>Complain</th>\n",
       "      <th>OrderAmountHikeFromlastYear</th>\n",
       "      <th>CouponUsed</th>\n",
       "      <th>OrderCount</th>\n",
       "      <th>DaySinceLastOrder</th>\n",
       "      <th>CashbackAmount</th>\n",
       "    </tr>\n",
       "  </thead>\n",
       "  <tbody>\n",
       "    <tr>\n",
       "      <th>5125</th>\n",
       "      <td>5125</td>\n",
       "      <td>55126</td>\n",
       "      <td>0</td>\n",
       "      <td>1</td>\n",
       "      <td>Mobile Phone</td>\n",
       "      <td>1</td>\n",
       "      <td>26</td>\n",
       "      <td>Credit Card</td>\n",
       "      <td>Male</td>\n",
       "      <td>4</td>\n",
       "      <td>...</td>\n",
       "      <td>Mobile Phone</td>\n",
       "      <td>1</td>\n",
       "      <td>Married</td>\n",
       "      <td>5</td>\n",
       "      <td>0</td>\n",
       "      <td>12</td>\n",
       "      <td>1</td>\n",
       "      <td>2</td>\n",
       "      <td>3</td>\n",
       "      <td>161.69</td>\n",
       "    </tr>\n",
       "    <tr>\n",
       "      <th>5103</th>\n",
       "      <td>5103</td>\n",
       "      <td>55104</td>\n",
       "      <td>0</td>\n",
       "      <td>20</td>\n",
       "      <td>Mobile Phone</td>\n",
       "      <td>2</td>\n",
       "      <td>8</td>\n",
       "      <td>Debit Card</td>\n",
       "      <td>Female</td>\n",
       "      <td>3</td>\n",
       "      <td>...</td>\n",
       "      <td>Mobile Phone</td>\n",
       "      <td>5</td>\n",
       "      <td>Single</td>\n",
       "      <td>8</td>\n",
       "      <td>0</td>\n",
       "      <td>13</td>\n",
       "      <td>3</td>\n",
       "      <td>6</td>\n",
       "      <td>8</td>\n",
       "      <td>159.23</td>\n",
       "    </tr>\n",
       "    <tr>\n",
       "      <th>559</th>\n",
       "      <td>559</td>\n",
       "      <td>50560</td>\n",
       "      <td>0</td>\n",
       "      <td>13</td>\n",
       "      <td>Mobile Phone</td>\n",
       "      <td>3</td>\n",
       "      <td>16</td>\n",
       "      <td>E wallet</td>\n",
       "      <td>Male</td>\n",
       "      <td>3</td>\n",
       "      <td>...</td>\n",
       "      <td>Fashion</td>\n",
       "      <td>4</td>\n",
       "      <td>Married</td>\n",
       "      <td>3</td>\n",
       "      <td>0</td>\n",
       "      <td>12</td>\n",
       "      <td>1</td>\n",
       "      <td>1</td>\n",
       "      <td>0</td>\n",
       "      <td>197.05</td>\n",
       "    </tr>\n",
       "    <tr>\n",
       "      <th>1075</th>\n",
       "      <td>1075</td>\n",
       "      <td>51076</td>\n",
       "      <td>0</td>\n",
       "      <td>17</td>\n",
       "      <td>Mobile Phone</td>\n",
       "      <td>2</td>\n",
       "      <td>6</td>\n",
       "      <td>Debit Card</td>\n",
       "      <td>Female</td>\n",
       "      <td>2</td>\n",
       "      <td>...</td>\n",
       "      <td>Mobile Phone</td>\n",
       "      <td>1</td>\n",
       "      <td>Married</td>\n",
       "      <td>5</td>\n",
       "      <td>1</td>\n",
       "      <td>18</td>\n",
       "      <td>2</td>\n",
       "      <td>2</td>\n",
       "      <td>2</td>\n",
       "      <td>131.95</td>\n",
       "    </tr>\n",
       "    <tr>\n",
       "      <th>3200</th>\n",
       "      <td>3200</td>\n",
       "      <td>53201</td>\n",
       "      <td>0</td>\n",
       "      <td>28</td>\n",
       "      <td>Mobile Phone</td>\n",
       "      <td>2</td>\n",
       "      <td>26</td>\n",
       "      <td>Credit Card</td>\n",
       "      <td>Male</td>\n",
       "      <td>3</td>\n",
       "      <td>...</td>\n",
       "      <td>Fashion</td>\n",
       "      <td>4</td>\n",
       "      <td>Divorced</td>\n",
       "      <td>4</td>\n",
       "      <td>0</td>\n",
       "      <td>16</td>\n",
       "      <td>4</td>\n",
       "      <td>2</td>\n",
       "      <td>2</td>\n",
       "      <td>232.25</td>\n",
       "    </tr>\n",
       "  </tbody>\n",
       "</table>\n",
       "<p>5 rows × 21 columns</p>\n",
       "</div>"
      ],
      "text/plain": [
       "      Unnamed: 0  CustomerID  Churn  Tenure PreferredLoginDevice  CityTier  \\\n",
       "5125        5125       55126      0       1         Mobile Phone         1   \n",
       "5103        5103       55104      0      20         Mobile Phone         2   \n",
       "559          559       50560      0      13         Mobile Phone         3   \n",
       "1075        1075       51076      0      17         Mobile Phone         2   \n",
       "3200        3200       53201      0      28         Mobile Phone         2   \n",
       "\n",
       "      WarehouseToHome PreferredPaymentMode  Gender  HourSpendOnApp  ...  \\\n",
       "5125               26          Credit Card    Male               4  ...   \n",
       "5103                8           Debit Card  Female               3  ...   \n",
       "559                16             E wallet    Male               3  ...   \n",
       "1075                6           Debit Card  Female               2  ...   \n",
       "3200               26          Credit Card    Male               3  ...   \n",
       "\n",
       "      PreferedOrderCat SatisfactionScore  MaritalStatus NumberOfAddress  \\\n",
       "5125      Mobile Phone                 1        Married               5   \n",
       "5103      Mobile Phone                 5         Single               8   \n",
       "559            Fashion                 4        Married               3   \n",
       "1075      Mobile Phone                 1        Married               5   \n",
       "3200           Fashion                 4       Divorced               4   \n",
       "\n",
       "      Complain  OrderAmountHikeFromlastYear  CouponUsed  OrderCount  \\\n",
       "5125         0                           12           1           2   \n",
       "5103         0                           13           3           6   \n",
       "559          0                           12           1           1   \n",
       "1075         1                           18           2           2   \n",
       "3200         0                           16           4           2   \n",
       "\n",
       "      DaySinceLastOrder  CashbackAmount  \n",
       "5125                  3          161.69  \n",
       "5103                  8          159.23  \n",
       "559                   0          197.05  \n",
       "1075                  2          131.95  \n",
       "3200                  2          232.25  \n",
       "\n",
       "[5 rows x 21 columns]"
      ]
     },
     "execution_count": 462,
     "metadata": {},
     "output_type": "execute_result"
    }
   ],
   "source": [
    "df_featureinsight = pd.read_excel('E Commerce Dataset Cleaned.xlsx')\n",
    "df_featureinsight.sample(5)"
   ]
  },
  {
   "cell_type": "code",
   "execution_count": 486,
   "id": "4411b038-bd7a-4bcb-be73-45709d46c612",
   "metadata": {},
   "outputs": [
    {
     "name": "stdout",
     "output_type": "stream",
     "text": [
      "<class 'pandas.core.frame.DataFrame'>\n",
      "RangeIndex: 5630 entries, 0 to 5629\n",
      "Data columns (total 21 columns):\n",
      " #   Column                       Non-Null Count  Dtype  \n",
      "---  ------                       --------------  -----  \n",
      " 0   Unnamed: 0                   5630 non-null   int64  \n",
      " 1   CustomerID                   5630 non-null   int64  \n",
      " 2   Churn                        5630 non-null   int64  \n",
      " 3   Tenure                       5630 non-null   int64  \n",
      " 4   PreferredLoginDevice         5630 non-null   object \n",
      " 5   CityTier                     5630 non-null   int64  \n",
      " 6   WarehouseToHome              5630 non-null   int64  \n",
      " 7   PreferredPaymentMode         5630 non-null   object \n",
      " 8   Gender                       5630 non-null   object \n",
      " 9   HourSpendOnApp               5630 non-null   int64  \n",
      " 10  NumberOfDeviceRegistered     5630 non-null   int64  \n",
      " 11  PreferedOrderCat             5630 non-null   object \n",
      " 12  SatisfactionScore            5630 non-null   int64  \n",
      " 13  MaritalStatus                5630 non-null   object \n",
      " 14  NumberOfAddress              5630 non-null   int64  \n",
      " 15  Complain                     5630 non-null   int64  \n",
      " 16  OrderAmountHikeFromlastYear  5630 non-null   int64  \n",
      " 17  CouponUsed                   5630 non-null   int64  \n",
      " 18  OrderCount                   5630 non-null   int64  \n",
      " 19  DaySinceLastOrder            5630 non-null   int64  \n",
      " 20  CashbackAmount               5630 non-null   float64\n",
      "dtypes: float64(1), int64(15), object(5)\n",
      "memory usage: 923.8+ KB\n"
     ]
    }
   ],
   "source": [
    "df_featureinsight.info()"
   ]
  },
  {
   "cell_type": "code",
   "execution_count": 463,
   "id": "d5554f1a-cd41-4d2f-847c-1e4a9726ba75",
   "metadata": {},
   "outputs": [
    {
     "data": {
      "image/png": "[encoded data removed]",
      "text/plain": [
       "<Figure size 1080x576 with 1 Axes>"
      ]
     },
     "metadata": {
      "needs_background": "light"
     },
     "output_type": "display_data"
    }
   ],
   "source": [
    "fig, ax = plt.subplots(figsize=(15, 8))\n",
    "\n",
    "sns.kdeplot(df_featureinsight[df_featureinsight['Churn'] == 0]['Tenure'].dropna(), color= 'navy', label= 'Churn: No', ax=ax)\n",
    "sns.kdeplot(df_featureinsight[df_featureinsight['Churn'] == 1]['Tenure'].dropna(), color= 'orange', label= 'Churn: Yes', ax=ax)\n",
    "\n",
    "ax.set_title('Customer with Shorter Tenure tends to Churn',color='black',fontsize=18,fontweight='bold')\n",
    "ax.set_ylabel('Density', fontsize=14) # y axis label\n",
    "ax.set_xlabel('Tenure', fontsize=14) # x axis label\n",
    "plt.tick_params(axis = 'both', which = 'major', labelsize = 14)\n",
    "plt.legend(loc='upper left',bbox_to_anchor=(1,1),ncol=1)\n",
    "\n",
    "\n",
    "ax.annotate('high distribution of users \\nthat churn (short tenure), \\nvice versa', \n",
    "            xy=(2, 0.2), xytext=(20, 0.175), arrowprops=dict(facecolor='steelblue',arrowstyle=\"->\",connectionstyle=\"arc3,rad=.3\"),\n",
    "           ha='center');"
   ]
  },
  {
   "cell_type": "code",
   "execution_count": 464,
   "id": "08094969-9555-4487-a70c-089c16dfcab5",
   "metadata": {},
   "outputs": [
    {
     "data": {
      "image/png": "[encoded data removed]",
      "text/plain": [
       "<Figure size 1440x720 with 1 Axes>"
      ]
     },
     "metadata": {
      "needs_background": "light"
     },
     "output_type": "display_data"
    }
   ],
   "source": [
    "Tenure = pd.crosstab(df_featureinsight[\"Tenure\"], df_featureinsight[\"Churn\"])\n",
    "Tenure.plot(kind = 'bar', stacked = 'true', title = \"Churn by Tenure\",figsize=(20,10))\n",
    "plt.xlabel('Tenure')\n",
    "plt.ylabel('# Customer')\n",
    "plt.show()"
   ]
  },
  {
   "cell_type": "code",
   "execution_count": 465,
   "id": "cffeec4c-444f-4f90-b420-9764f4ec92e1",
   "metadata": {},
   "outputs": [
    {
     "data": {
      "text/html": [
       "<div>\n",
       "<style scoped>\n",
       "    .dataframe tbody tr th:only-of-type {\n",
       "        vertical-align: middle;\n",
       "    }\n",
       "\n",
       "    .dataframe tbody tr th {\n",
       "        vertical-align: top;\n",
       "    }\n",
       "\n",
       "    .dataframe thead th {\n",
       "        text-align: right;\n",
       "    }\n",
       "</style>\n",
       "<table border=\"1\" class=\"dataframe\">\n",
       "  <thead>\n",
       "    <tr style=\"text-align: right;\">\n",
       "      <th></th>\n",
       "      <th>Churn</th>\n",
       "      <th>Complain</th>\n",
       "      <th>CustomerID</th>\n",
       "    </tr>\n",
       "  </thead>\n",
       "  <tbody>\n",
       "    <tr>\n",
       "      <th>0</th>\n",
       "      <td>0</td>\n",
       "      <td>Not Complain</td>\n",
       "      <td>3586</td>\n",
       "    </tr>\n",
       "    <tr>\n",
       "      <th>1</th>\n",
       "      <td>0</td>\n",
       "      <td>Complain</td>\n",
       "      <td>1096</td>\n",
       "    </tr>\n",
       "    <tr>\n",
       "      <th>2</th>\n",
       "      <td>1</td>\n",
       "      <td>Not Complain</td>\n",
       "      <td>440</td>\n",
       "    </tr>\n",
       "    <tr>\n",
       "      <th>3</th>\n",
       "      <td>1</td>\n",
       "      <td>Complain</td>\n",
       "      <td>508</td>\n",
       "    </tr>\n",
       "  </tbody>\n",
       "</table>\n",
       "</div>"
      ],
      "text/plain": [
       "   Churn      Complain  CustomerID\n",
       "0      0  Not Complain        3586\n",
       "1      0      Complain        1096\n",
       "2      1  Not Complain         440\n",
       "3      1      Complain         508"
      ]
     },
     "execution_count": 465,
     "metadata": {},
     "output_type": "execute_result"
    }
   ],
   "source": [
    "group_by_complain = df_featureinsight.groupby(['Churn','Complain']).agg({'CustomerID':'nunique'}).reset_index()\n",
    "group_by_complain['Complain'] = group_by_complain['Complain'].replace({1:'Complain',\n",
    "                                                                0:'Not Complain'})\n",
    "group_by_complain"
   ]
  },
  {
   "cell_type": "code",
   "execution_count": 466,
   "id": "5b13113d-ebb7-4ab6-abd7-e0655f430422",
   "metadata": {},
   "outputs": [
    {
     "data": {
      "image/png": "[encoded data removed]",
      "text/plain": [
       "<Figure size 720x576 with 1 Axes>"
      ]
     },
     "metadata": {
      "needs_background": "light"
     },
     "output_type": "display_data"
    }
   ],
   "source": [
    "plt.figure(figsize=(10,8))\n",
    "sns.barplot(y='CustomerID', x='Complain', hue='Churn', data=group_by_complain)\n",
    "\n",
    "plt.title(\"Churn by Complain\",color='black',fontsize=18,fontweight='bold')\n",
    "plt.ylabel('Total Unique Customer', fontsize=14) # y axis label\n",
    "plt.xlabel('Complain', fontsize=14) # x axis label\n",
    "plt.tick_params(axis = 'both', which = 'major', labelsize = 14)\n",
    "\n",
    "plt.tight_layout()"
   ]
  },
  {
   "cell_type": "code",
   "execution_count": 467,
   "id": "23ddb81b-a4cc-42d9-981d-a1f5a0a748cc",
   "metadata": {},
   "outputs": [
    {
     "data": {
      "text/html": [
       "<div>\n",
       "<style scoped>\n",
       "    .dataframe tbody tr th:only-of-type {\n",
       "        vertical-align: middle;\n",
       "    }\n",
       "\n",
       "    .dataframe tbody tr th {\n",
       "        vertical-align: top;\n",
       "    }\n",
       "\n",
       "    .dataframe thead th {\n",
       "        text-align: right;\n",
       "    }\n",
       "</style>\n",
       "<table border=\"1\" class=\"dataframe\">\n",
       "  <thead>\n",
       "    <tr style=\"text-align: right;\">\n",
       "      <th></th>\n",
       "      <th>Churn</th>\n",
       "      <th>NumberOfAddress</th>\n",
       "      <th>CustomerID</th>\n",
       "    </tr>\n",
       "  </thead>\n",
       "  <tbody>\n",
       "    <tr>\n",
       "      <th>0</th>\n",
       "      <td>0</td>\n",
       "      <td>1</td>\n",
       "      <td>326</td>\n",
       "    </tr>\n",
       "    <tr>\n",
       "      <th>1</th>\n",
       "      <td>0</td>\n",
       "      <td>2</td>\n",
       "      <td>1128</td>\n",
       "    </tr>\n",
       "    <tr>\n",
       "      <th>2</th>\n",
       "      <td>0</td>\n",
       "      <td>3</td>\n",
       "      <td>1050</td>\n",
       "    </tr>\n",
       "    <tr>\n",
       "      <th>3</th>\n",
       "      <td>0</td>\n",
       "      <td>4</td>\n",
       "      <td>523</td>\n",
       "    </tr>\n",
       "    <tr>\n",
       "      <th>4</th>\n",
       "      <td>0</td>\n",
       "      <td>5</td>\n",
       "      <td>504</td>\n",
       "    </tr>\n",
       "    <tr>\n",
       "      <th>5</th>\n",
       "      <td>0</td>\n",
       "      <td>6</td>\n",
       "      <td>316</td>\n",
       "    </tr>\n",
       "    <tr>\n",
       "      <th>6</th>\n",
       "      <td>0</td>\n",
       "      <td>7</td>\n",
       "      <td>192</td>\n",
       "    </tr>\n",
       "    <tr>\n",
       "      <th>7</th>\n",
       "      <td>0</td>\n",
       "      <td>8</td>\n",
       "      <td>214</td>\n",
       "    </tr>\n",
       "    <tr>\n",
       "      <th>8</th>\n",
       "      <td>0</td>\n",
       "      <td>9</td>\n",
       "      <td>193</td>\n",
       "    </tr>\n",
       "    <tr>\n",
       "      <th>9</th>\n",
       "      <td>0</td>\n",
       "      <td>10</td>\n",
       "      <td>159</td>\n",
       "    </tr>\n",
       "    <tr>\n",
       "      <th>10</th>\n",
       "      <td>0</td>\n",
       "      <td>11</td>\n",
       "      <td>75</td>\n",
       "    </tr>\n",
       "    <tr>\n",
       "      <th>11</th>\n",
       "      <td>0</td>\n",
       "      <td>21</td>\n",
       "      <td>1</td>\n",
       "    </tr>\n",
       "    <tr>\n",
       "      <th>12</th>\n",
       "      <td>0</td>\n",
       "      <td>22</td>\n",
       "      <td>1</td>\n",
       "    </tr>\n",
       "    <tr>\n",
       "      <th>13</th>\n",
       "      <td>1</td>\n",
       "      <td>1</td>\n",
       "      <td>45</td>\n",
       "    </tr>\n",
       "    <tr>\n",
       "      <th>14</th>\n",
       "      <td>1</td>\n",
       "      <td>2</td>\n",
       "      <td>241</td>\n",
       "    </tr>\n",
       "    <tr>\n",
       "      <th>15</th>\n",
       "      <td>1</td>\n",
       "      <td>3</td>\n",
       "      <td>228</td>\n",
       "    </tr>\n",
       "    <tr>\n",
       "      <th>16</th>\n",
       "      <td>1</td>\n",
       "      <td>4</td>\n",
       "      <td>65</td>\n",
       "    </tr>\n",
       "    <tr>\n",
       "      <th>17</th>\n",
       "      <td>1</td>\n",
       "      <td>5</td>\n",
       "      <td>67</td>\n",
       "    </tr>\n",
       "    <tr>\n",
       "      <th>18</th>\n",
       "      <td>1</td>\n",
       "      <td>6</td>\n",
       "      <td>66</td>\n",
       "    </tr>\n",
       "    <tr>\n",
       "      <th>19</th>\n",
       "      <td>1</td>\n",
       "      <td>7</td>\n",
       "      <td>64</td>\n",
       "    </tr>\n",
       "    <tr>\n",
       "      <th>20</th>\n",
       "      <td>1</td>\n",
       "      <td>8</td>\n",
       "      <td>66</td>\n",
       "    </tr>\n",
       "    <tr>\n",
       "      <th>21</th>\n",
       "      <td>1</td>\n",
       "      <td>9</td>\n",
       "      <td>46</td>\n",
       "    </tr>\n",
       "    <tr>\n",
       "      <th>22</th>\n",
       "      <td>1</td>\n",
       "      <td>10</td>\n",
       "      <td>35</td>\n",
       "    </tr>\n",
       "    <tr>\n",
       "      <th>23</th>\n",
       "      <td>1</td>\n",
       "      <td>11</td>\n",
       "      <td>23</td>\n",
       "    </tr>\n",
       "    <tr>\n",
       "      <th>24</th>\n",
       "      <td>1</td>\n",
       "      <td>19</td>\n",
       "      <td>1</td>\n",
       "    </tr>\n",
       "    <tr>\n",
       "      <th>25</th>\n",
       "      <td>1</td>\n",
       "      <td>20</td>\n",
       "      <td>1</td>\n",
       "    </tr>\n",
       "  </tbody>\n",
       "</table>\n",
       "</div>"
      ],
      "text/plain": [
       "    Churn  NumberOfAddress  CustomerID\n",
       "0       0                1         326\n",
       "1       0                2        1128\n",
       "2       0                3        1050\n",
       "3       0                4         523\n",
       "4       0                5         504\n",
       "5       0                6         316\n",
       "6       0                7         192\n",
       "7       0                8         214\n",
       "8       0                9         193\n",
       "9       0               10         159\n",
       "10      0               11          75\n",
       "11      0               21           1\n",
       "12      0               22           1\n",
       "13      1                1          45\n",
       "14      1                2         241\n",
       "15      1                3         228\n",
       "16      1                4          65\n",
       "17      1                5          67\n",
       "18      1                6          66\n",
       "19      1                7          64\n",
       "20      1                8          66\n",
       "21      1                9          46\n",
       "22      1               10          35\n",
       "23      1               11          23\n",
       "24      1               19           1\n",
       "25      1               20           1"
      ]
     },
     "execution_count": 467,
     "metadata": {},
     "output_type": "execute_result"
    }
   ],
   "source": [
    "group_by_NumberofAddress = df_featureinsight.groupby(['Churn','NumberOfAddress']).agg({'CustomerID':'nunique'}).reset_index()\n",
    "group_by_NumberofAddress"
   ]
  },
  {
   "cell_type": "code",
   "execution_count": 468,
   "id": "cb86d6b5-6fa1-4eca-8f7d-2858cc5b0107",
   "metadata": {},
   "outputs": [
    {
     "data": {
      "image/png": "[encoded data removed]",
      "text/plain": [
       "<Figure size 1440x576 with 1 Axes>"
      ]
     },
     "metadata": {
      "needs_background": "light"
     },
     "output_type": "display_data"
    }
   ],
   "source": [
    "plt.figure(figsize=(20,8))\n",
    "sns.barplot(y='CustomerID', x='NumberOfAddress', hue='Churn', data=group_by_NumberofAddress)\n",
    "\n",
    "plt.title(\"Churn by NumberOfAddress\",color='black',fontsize=18,fontweight='bold')\n",
    "plt.ylabel('Total Unique Customer', fontsize=14) # y axis label\n",
    "plt.xlabel('NumberOfAddress', fontsize=14) # x axis label\n",
    "plt.tick_params(axis = 'both', which = 'major', labelsize = 14)\n",
    "\n",
    "plt.tight_layout()"
   ]
  },
  {
   "cell_type": "markdown",
   "id": "63018738-5119-4408-a89a-9bfffc0e9e6b",
   "metadata": {},
   "source": [
    "### Insight Selain Feature Importance"
   ]
  },
  {
   "cell_type": "code",
   "execution_count": 469,
   "id": "bcc6fbdd-362a-494f-98ae-b6d704a2c124",
   "metadata": {},
   "outputs": [
    {
     "data": {
      "text/html": [
       "<div>\n",
       "<style scoped>\n",
       "    .dataframe tbody tr th:only-of-type {\n",
       "        vertical-align: middle;\n",
       "    }\n",
       "\n",
       "    .dataframe tbody tr th {\n",
       "        vertical-align: top;\n",
       "    }\n",
       "\n",
       "    .dataframe thead th {\n",
       "        text-align: right;\n",
       "    }\n",
       "</style>\n",
       "<table border=\"1\" class=\"dataframe\">\n",
       "  <thead>\n",
       "    <tr style=\"text-align: right;\">\n",
       "      <th></th>\n",
       "      <th>Churn</th>\n",
       "      <th>PreferedOrderCat</th>\n",
       "      <th>CustomerID</th>\n",
       "    </tr>\n",
       "  </thead>\n",
       "  <tbody>\n",
       "    <tr>\n",
       "      <th>0</th>\n",
       "      <td>0</td>\n",
       "      <td>Fashion</td>\n",
       "      <td>698</td>\n",
       "    </tr>\n",
       "    <tr>\n",
       "      <th>1</th>\n",
       "      <td>0</td>\n",
       "      <td>Grocery</td>\n",
       "      <td>390</td>\n",
       "    </tr>\n",
       "    <tr>\n",
       "      <th>2</th>\n",
       "      <td>0</td>\n",
       "      <td>Laptop &amp; Accessory</td>\n",
       "      <td>1840</td>\n",
       "    </tr>\n",
       "    <tr>\n",
       "      <th>3</th>\n",
       "      <td>0</td>\n",
       "      <td>Mobile Phone</td>\n",
       "      <td>1510</td>\n",
       "    </tr>\n",
       "    <tr>\n",
       "      <th>4</th>\n",
       "      <td>0</td>\n",
       "      <td>Others</td>\n",
       "      <td>244</td>\n",
       "    </tr>\n",
       "    <tr>\n",
       "      <th>5</th>\n",
       "      <td>1</td>\n",
       "      <td>Fashion</td>\n",
       "      <td>128</td>\n",
       "    </tr>\n",
       "    <tr>\n",
       "      <th>6</th>\n",
       "      <td>1</td>\n",
       "      <td>Grocery</td>\n",
       "      <td>20</td>\n",
       "    </tr>\n",
       "    <tr>\n",
       "      <th>7</th>\n",
       "      <td>1</td>\n",
       "      <td>Laptop &amp; Accessory</td>\n",
       "      <td>210</td>\n",
       "    </tr>\n",
       "    <tr>\n",
       "      <th>8</th>\n",
       "      <td>1</td>\n",
       "      <td>Mobile Phone</td>\n",
       "      <td>570</td>\n",
       "    </tr>\n",
       "    <tr>\n",
       "      <th>9</th>\n",
       "      <td>1</td>\n",
       "      <td>Others</td>\n",
       "      <td>20</td>\n",
       "    </tr>\n",
       "  </tbody>\n",
       "</table>\n",
       "</div>"
      ],
      "text/plain": [
       "   Churn    PreferedOrderCat  CustomerID\n",
       "0      0             Fashion         698\n",
       "1      0             Grocery         390\n",
       "2      0  Laptop & Accessory        1840\n",
       "3      0        Mobile Phone        1510\n",
       "4      0              Others         244\n",
       "5      1             Fashion         128\n",
       "6      1             Grocery          20\n",
       "7      1  Laptop & Accessory         210\n",
       "8      1        Mobile Phone         570\n",
       "9      1              Others          20"
      ]
     },
     "execution_count": 469,
     "metadata": {},
     "output_type": "execute_result"
    }
   ],
   "source": [
    "group_by_PreferedOrderCat = df_featureinsight.groupby(['Churn','PreferedOrderCat']).agg({'CustomerID':'nunique'}).reset_index()\n",
    "group_by_PreferedOrderCat"
   ]
  },
  {
   "cell_type": "code",
   "execution_count": 470,
   "id": "9d021ecc-03e3-4d9f-bbf3-4c90d806dc61",
   "metadata": {},
   "outputs": [
    {
     "data": {
      "image/png": "[encoded data removed]",
      "text/plain": [
       "<Figure size 1080x576 with 1 Axes>"
      ]
     },
     "metadata": {
      "needs_background": "light"
     },
     "output_type": "display_data"
    }
   ],
   "source": [
    "plt.figure(figsize=(15,8))\n",
    "sns.barplot(y='CustomerID', x='PreferedOrderCat', hue='Churn', data=group_by_PreferedOrderCat)\n",
    "\n",
    "plt.title(\"Churn by PreferedOrderCat\",color='black',fontsize=18,fontweight='bold')\n",
    "plt.ylabel('Total Unique Customer', fontsize=14) # y axis label\n",
    "plt.xlabel('PreferedOrderCat', fontsize=14) # x axis label\n",
    "plt.tick_params(axis = 'both', which = 'major', labelsize = 14)\n",
    "\n",
    "plt.tight_layout()"
   ]
  },
  {
   "cell_type": "code",
   "execution_count": 471,
   "id": "c93dd63b-0274-4b60-875b-d11a64564021",
   "metadata": {},
   "outputs": [
    {
     "data": {
      "text/html": [
       "<div>\n",
       "<style scoped>\n",
       "    .dataframe tbody tr th:only-of-type {\n",
       "        vertical-align: middle;\n",
       "    }\n",
       "\n",
       "    .dataframe tbody tr th {\n",
       "        vertical-align: top;\n",
       "    }\n",
       "\n",
       "    .dataframe thead th {\n",
       "        text-align: right;\n",
       "    }\n",
       "</style>\n",
       "<table border=\"1\" class=\"dataframe\">\n",
       "  <thead>\n",
       "    <tr style=\"text-align: right;\">\n",
       "      <th></th>\n",
       "      <th>Churn</th>\n",
       "      <th>DaySinceLastOrder</th>\n",
       "      <th>CustomerID</th>\n",
       "    </tr>\n",
       "  </thead>\n",
       "  <tbody>\n",
       "    <tr>\n",
       "      <th>0</th>\n",
       "      <td>0</td>\n",
       "      <td>0</td>\n",
       "      <td>326</td>\n",
       "    </tr>\n",
       "    <tr>\n",
       "      <th>1</th>\n",
       "      <td>0</td>\n",
       "      <td>1</td>\n",
       "      <td>432</td>\n",
       "    </tr>\n",
       "    <tr>\n",
       "      <th>2</th>\n",
       "      <td>0</td>\n",
       "      <td>2</td>\n",
       "      <td>670</td>\n",
       "    </tr>\n",
       "    <tr>\n",
       "      <th>3</th>\n",
       "      <td>0</td>\n",
       "      <td>3</td>\n",
       "      <td>1023</td>\n",
       "    </tr>\n",
       "    <tr>\n",
       "      <th>4</th>\n",
       "      <td>0</td>\n",
       "      <td>4</td>\n",
       "      <td>373</td>\n",
       "    </tr>\n",
       "    <tr>\n",
       "      <th>5</th>\n",
       "      <td>0</td>\n",
       "      <td>5</td>\n",
       "      <td>200</td>\n",
       "    </tr>\n",
       "    <tr>\n",
       "      <th>6</th>\n",
       "      <td>0</td>\n",
       "      <td>6</td>\n",
       "      <td>97</td>\n",
       "    </tr>\n",
       "    <tr>\n",
       "      <th>7</th>\n",
       "      <td>0</td>\n",
       "      <td>7</td>\n",
       "      <td>382</td>\n",
       "    </tr>\n",
       "    <tr>\n",
       "      <th>8</th>\n",
       "      <td>0</td>\n",
       "      <td>8</td>\n",
       "      <td>472</td>\n",
       "    </tr>\n",
       "    <tr>\n",
       "      <th>9</th>\n",
       "      <td>0</td>\n",
       "      <td>9</td>\n",
       "      <td>271</td>\n",
       "    </tr>\n",
       "    <tr>\n",
       "      <th>10</th>\n",
       "      <td>0</td>\n",
       "      <td>10</td>\n",
       "      <td>147</td>\n",
       "    </tr>\n",
       "    <tr>\n",
       "      <th>11</th>\n",
       "      <td>0</td>\n",
       "      <td>11</td>\n",
       "      <td>83</td>\n",
       "    </tr>\n",
       "    <tr>\n",
       "      <th>12</th>\n",
       "      <td>0</td>\n",
       "      <td>12</td>\n",
       "      <td>67</td>\n",
       "    </tr>\n",
       "    <tr>\n",
       "      <th>13</th>\n",
       "      <td>0</td>\n",
       "      <td>13</td>\n",
       "      <td>51</td>\n",
       "    </tr>\n",
       "    <tr>\n",
       "      <th>14</th>\n",
       "      <td>0</td>\n",
       "      <td>14</td>\n",
       "      <td>31</td>\n",
       "    </tr>\n",
       "    <tr>\n",
       "      <th>15</th>\n",
       "      <td>0</td>\n",
       "      <td>15</td>\n",
       "      <td>15</td>\n",
       "    </tr>\n",
       "    <tr>\n",
       "      <th>16</th>\n",
       "      <td>0</td>\n",
       "      <td>16</td>\n",
       "      <td>13</td>\n",
       "    </tr>\n",
       "    <tr>\n",
       "      <th>17</th>\n",
       "      <td>0</td>\n",
       "      <td>17</td>\n",
       "      <td>17</td>\n",
       "    </tr>\n",
       "    <tr>\n",
       "      <th>18</th>\n",
       "      <td>0</td>\n",
       "      <td>18</td>\n",
       "      <td>10</td>\n",
       "    </tr>\n",
       "    <tr>\n",
       "      <th>19</th>\n",
       "      <td>0</td>\n",
       "      <td>30</td>\n",
       "      <td>1</td>\n",
       "    </tr>\n",
       "    <tr>\n",
       "      <th>20</th>\n",
       "      <td>0</td>\n",
       "      <td>31</td>\n",
       "      <td>1</td>\n",
       "    </tr>\n",
       "    <tr>\n",
       "      <th>21</th>\n",
       "      <td>1</td>\n",
       "      <td>0</td>\n",
       "      <td>170</td>\n",
       "    </tr>\n",
       "    <tr>\n",
       "      <th>22</th>\n",
       "      <td>1</td>\n",
       "      <td>1</td>\n",
       "      <td>182</td>\n",
       "    </tr>\n",
       "    <tr>\n",
       "      <th>23</th>\n",
       "      <td>1</td>\n",
       "      <td>2</td>\n",
       "      <td>122</td>\n",
       "    </tr>\n",
       "    <tr>\n",
       "      <th>24</th>\n",
       "      <td>1</td>\n",
       "      <td>3</td>\n",
       "      <td>184</td>\n",
       "    </tr>\n",
       "    <tr>\n",
       "      <th>25</th>\n",
       "      <td>1</td>\n",
       "      <td>4</td>\n",
       "      <td>58</td>\n",
       "    </tr>\n",
       "    <tr>\n",
       "      <th>26</th>\n",
       "      <td>1</td>\n",
       "      <td>5</td>\n",
       "      <td>28</td>\n",
       "    </tr>\n",
       "    <tr>\n",
       "      <th>27</th>\n",
       "      <td>1</td>\n",
       "      <td>6</td>\n",
       "      <td>16</td>\n",
       "    </tr>\n",
       "    <tr>\n",
       "      <th>28</th>\n",
       "      <td>1</td>\n",
       "      <td>7</td>\n",
       "      <td>65</td>\n",
       "    </tr>\n",
       "    <tr>\n",
       "      <th>29</th>\n",
       "      <td>1</td>\n",
       "      <td>8</td>\n",
       "      <td>66</td>\n",
       "    </tr>\n",
       "    <tr>\n",
       "      <th>30</th>\n",
       "      <td>1</td>\n",
       "      <td>9</td>\n",
       "      <td>28</td>\n",
       "    </tr>\n",
       "    <tr>\n",
       "      <th>31</th>\n",
       "      <td>1</td>\n",
       "      <td>10</td>\n",
       "      <td>10</td>\n",
       "    </tr>\n",
       "    <tr>\n",
       "      <th>32</th>\n",
       "      <td>1</td>\n",
       "      <td>11</td>\n",
       "      <td>8</td>\n",
       "    </tr>\n",
       "    <tr>\n",
       "      <th>33</th>\n",
       "      <td>1</td>\n",
       "      <td>12</td>\n",
       "      <td>2</td>\n",
       "    </tr>\n",
       "    <tr>\n",
       "      <th>34</th>\n",
       "      <td>1</td>\n",
       "      <td>14</td>\n",
       "      <td>4</td>\n",
       "    </tr>\n",
       "    <tr>\n",
       "      <th>35</th>\n",
       "      <td>1</td>\n",
       "      <td>15</td>\n",
       "      <td>4</td>\n",
       "    </tr>\n",
       "    <tr>\n",
       "      <th>36</th>\n",
       "      <td>1</td>\n",
       "      <td>46</td>\n",
       "      <td>1</td>\n",
       "    </tr>\n",
       "  </tbody>\n",
       "</table>\n",
       "</div>"
      ],
      "text/plain": [
       "    Churn  DaySinceLastOrder  CustomerID\n",
       "0       0                  0         326\n",
       "1       0                  1         432\n",
       "2       0                  2         670\n",
       "3       0                  3        1023\n",
       "4       0                  4         373\n",
       "5       0                  5         200\n",
       "6       0                  6          97\n",
       "7       0                  7         382\n",
       "8       0                  8         472\n",
       "9       0                  9         271\n",
       "10      0                 10         147\n",
       "11      0                 11          83\n",
       "12      0                 12          67\n",
       "13      0                 13          51\n",
       "14      0                 14          31\n",
       "15      0                 15          15\n",
       "16      0                 16          13\n",
       "17      0                 17          17\n",
       "18      0                 18          10\n",
       "19      0                 30           1\n",
       "20      0                 31           1\n",
       "21      1                  0         170\n",
       "22      1                  1         182\n",
       "23      1                  2         122\n",
       "24      1                  3         184\n",
       "25      1                  4          58\n",
       "26      1                  5          28\n",
       "27      1                  6          16\n",
       "28      1                  7          65\n",
       "29      1                  8          66\n",
       "30      1                  9          28\n",
       "31      1                 10          10\n",
       "32      1                 11           8\n",
       "33      1                 12           2\n",
       "34      1                 14           4\n",
       "35      1                 15           4\n",
       "36      1                 46           1"
      ]
     },
     "execution_count": 471,
     "metadata": {},
     "output_type": "execute_result"
    }
   ],
   "source": [
    "group_by_DaySinceLastOrder = df_featureinsight.groupby(['Churn','DaySinceLastOrder']).agg({'CustomerID':'nunique'}).reset_index()\n",
    "group_by_DaySinceLastOrder"
   ]
  },
  {
   "cell_type": "code",
   "execution_count": 472,
   "id": "b630f51f-39b5-4970-b494-ab7acb622fff",
   "metadata": {},
   "outputs": [
    {
     "data": {
      "image/png": "[encoded data removed]",
      "text/plain": [
       "<Figure size 1080x576 with 1 Axes>"
      ]
     },
     "metadata": {
      "needs_background": "light"
     },
     "output_type": "display_data"
    }
   ],
   "source": [
    "plt.figure(figsize=(15,8))\n",
    "sns.barplot(y='CustomerID', x='DaySinceLastOrder', hue='Churn', data=group_by_DaySinceLastOrder)\n",
    "\n",
    "plt.title(\"Churn by DaySinceLastOrder\",color='black',fontsize=18,fontweight='bold')\n",
    "plt.ylabel('Total Unique Customer', fontsize=14) # y axis label\n",
    "plt.xlabel('DaySinceLastOrder', fontsize=14) # x axis label\n",
    "plt.tick_params(axis = 'both', which = 'major', labelsize = 14)\n",
    "\n",
    "plt.tight_layout()"
   ]
  },
  {
   "cell_type": "code",
   "execution_count": 473,
   "id": "0c084617-124a-4d11-8479-a4ec6e43d3db",
   "metadata": {},
   "outputs": [
    {
     "data": {
      "text/html": [
       "<div>\n",
       "<style scoped>\n",
       "    .dataframe tbody tr th:only-of-type {\n",
       "        vertical-align: middle;\n",
       "    }\n",
       "\n",
       "    .dataframe tbody tr th {\n",
       "        vertical-align: top;\n",
       "    }\n",
       "\n",
       "    .dataframe thead th {\n",
       "        text-align: right;\n",
       "    }\n",
       "</style>\n",
       "<table border=\"1\" class=\"dataframe\">\n",
       "  <thead>\n",
       "    <tr style=\"text-align: right;\">\n",
       "      <th></th>\n",
       "      <th>Churn</th>\n",
       "      <th>WarehouseToHome</th>\n",
       "      <th>CustomerID</th>\n",
       "    </tr>\n",
       "  </thead>\n",
       "  <tbody>\n",
       "    <tr>\n",
       "      <th>0</th>\n",
       "      <td>0</td>\n",
       "      <td>5</td>\n",
       "      <td>7</td>\n",
       "    </tr>\n",
       "    <tr>\n",
       "      <th>1</th>\n",
       "      <td>0</td>\n",
       "      <td>6</td>\n",
       "      <td>261</td>\n",
       "    </tr>\n",
       "    <tr>\n",
       "      <th>2</th>\n",
       "      <td>0</td>\n",
       "      <td>7</td>\n",
       "      <td>340</td>\n",
       "    </tr>\n",
       "    <tr>\n",
       "      <th>3</th>\n",
       "      <td>0</td>\n",
       "      <td>8</td>\n",
       "      <td>386</td>\n",
       "    </tr>\n",
       "    <tr>\n",
       "      <th>4</th>\n",
       "      <td>0</td>\n",
       "      <td>9</td>\n",
       "      <td>479</td>\n",
       "    </tr>\n",
       "    <tr>\n",
       "      <th>...</th>\n",
       "      <td>...</td>\n",
       "      <td>...</td>\n",
       "      <td>...</td>\n",
       "    </tr>\n",
       "    <tr>\n",
       "      <th>61</th>\n",
       "      <td>1</td>\n",
       "      <td>32</td>\n",
       "      <td>18</td>\n",
       "    </tr>\n",
       "    <tr>\n",
       "      <th>62</th>\n",
       "      <td>1</td>\n",
       "      <td>33</td>\n",
       "      <td>12</td>\n",
       "    </tr>\n",
       "    <tr>\n",
       "      <th>63</th>\n",
       "      <td>1</td>\n",
       "      <td>34</td>\n",
       "      <td>10</td>\n",
       "    </tr>\n",
       "    <tr>\n",
       "      <th>64</th>\n",
       "      <td>1</td>\n",
       "      <td>35</td>\n",
       "      <td>14</td>\n",
       "    </tr>\n",
       "    <tr>\n",
       "      <th>65</th>\n",
       "      <td>1</td>\n",
       "      <td>36</td>\n",
       "      <td>10</td>\n",
       "    </tr>\n",
       "  </tbody>\n",
       "</table>\n",
       "<p>66 rows × 3 columns</p>\n",
       "</div>"
      ],
      "text/plain": [
       "    Churn  WarehouseToHome  CustomerID\n",
       "0       0                5           7\n",
       "1       0                6         261\n",
       "2       0                7         340\n",
       "3       0                8         386\n",
       "4       0                9         479\n",
       "..    ...              ...         ...\n",
       "61      1               32          18\n",
       "62      1               33          12\n",
       "63      1               34          10\n",
       "64      1               35          14\n",
       "65      1               36          10\n",
       "\n",
       "[66 rows x 3 columns]"
      ]
     },
     "execution_count": 473,
     "metadata": {},
     "output_type": "execute_result"
    }
   ],
   "source": [
    "group_by_WarehouseToHome = df_featureinsight.groupby(['Churn','WarehouseToHome']).agg({'CustomerID':'nunique'}).reset_index()\n",
    "group_by_WarehouseToHome"
   ]
  },
  {
   "cell_type": "code",
   "execution_count": 474,
   "id": "f1583772-f47b-4f36-a9f7-6cb4b0bb8c3f",
   "metadata": {},
   "outputs": [
    {
     "data": {
      "image/png": "[encoded data removed]",
      "text/plain": [
       "<Figure size 1080x576 with 1 Axes>"
      ]
     },
     "metadata": {
      "needs_background": "light"
     },
     "output_type": "display_data"
    }
   ],
   "source": [
    "plt.figure(figsize=(15,8))\n",
    "sns.barplot(y='CustomerID', x='WarehouseToHome', hue='Churn', data=group_by_WarehouseToHome)\n",
    "\n",
    "plt.title(\"Churn by WarehouseToHome\",color='black',fontsize=18,fontweight='bold')\n",
    "plt.ylabel('Total Unique Customer', fontsize=14) # y axis label\n",
    "plt.xlabel('DaySinceLastOrder', fontsize=14) # x axis label\n",
    "plt.tick_params(axis = 'both', which = 'major', labelsize = 14)\n",
    "\n",
    "plt.tight_layout()"
   ]
  },
  {
   "cell_type": "code",
   "execution_count": 475,
   "id": "86417224-0ef7-4456-ac58-2c8fcdc541b5",
   "metadata": {},
   "outputs": [
    {
     "data": {
      "text/html": [
       "<div>\n",
       "<style scoped>\n",
       "    .dataframe tbody tr th:only-of-type {\n",
       "        vertical-align: middle;\n",
       "    }\n",
       "\n",
       "    .dataframe tbody tr th {\n",
       "        vertical-align: top;\n",
       "    }\n",
       "\n",
       "    .dataframe thead th {\n",
       "        text-align: right;\n",
       "    }\n",
       "</style>\n",
       "<table border=\"1\" class=\"dataframe\">\n",
       "  <thead>\n",
       "    <tr style=\"text-align: right;\">\n",
       "      <th></th>\n",
       "      <th>Churn</th>\n",
       "      <th>CityTier</th>\n",
       "      <th>CustomerID</th>\n",
       "    </tr>\n",
       "  </thead>\n",
       "  <tbody>\n",
       "    <tr>\n",
       "      <th>0</th>\n",
       "      <td>0</td>\n",
       "      <td>1</td>\n",
       "      <td>3134</td>\n",
       "    </tr>\n",
       "    <tr>\n",
       "      <th>1</th>\n",
       "      <td>0</td>\n",
       "      <td>2</td>\n",
       "      <td>194</td>\n",
       "    </tr>\n",
       "    <tr>\n",
       "      <th>2</th>\n",
       "      <td>0</td>\n",
       "      <td>3</td>\n",
       "      <td>1354</td>\n",
       "    </tr>\n",
       "    <tr>\n",
       "      <th>3</th>\n",
       "      <td>1</td>\n",
       "      <td>1</td>\n",
       "      <td>532</td>\n",
       "    </tr>\n",
       "    <tr>\n",
       "      <th>4</th>\n",
       "      <td>1</td>\n",
       "      <td>2</td>\n",
       "      <td>48</td>\n",
       "    </tr>\n",
       "    <tr>\n",
       "      <th>5</th>\n",
       "      <td>1</td>\n",
       "      <td>3</td>\n",
       "      <td>368</td>\n",
       "    </tr>\n",
       "  </tbody>\n",
       "</table>\n",
       "</div>"
      ],
      "text/plain": [
       "   Churn  CityTier  CustomerID\n",
       "0      0         1        3134\n",
       "1      0         2         194\n",
       "2      0         3        1354\n",
       "3      1         1         532\n",
       "4      1         2          48\n",
       "5      1         3         368"
      ]
     },
     "execution_count": 475,
     "metadata": {},
     "output_type": "execute_result"
    }
   ],
   "source": [
    "group_by_CityTier = df_featureinsight.groupby(['Churn','CityTier']).agg({'CustomerID':'nunique'}).reset_index()\n",
    "group_by_CityTier"
   ]
  },
  {
   "cell_type": "code",
   "execution_count": 476,
   "id": "89e50a30-56d6-41a0-b58e-334b7a2ab1ad",
   "metadata": {},
   "outputs": [
    {
     "data": {
      "image/png": "[encoded data removed]",
      "text/plain": [
       "<Figure size 1080x576 with 1 Axes>"
      ]
     },
     "metadata": {
      "needs_background": "light"
     },
     "output_type": "display_data"
    }
   ],
   "source": [
    "plt.figure(figsize=(15,8))\n",
    "sns.barplot(y='CustomerID', x='CityTier', hue='Churn', data=group_by_CityTier)\n",
    "\n",
    "plt.title(\"Churn by CityTier\",color='black',fontsize=18,fontweight='bold')\n",
    "plt.ylabel('Total Unique Customer', fontsize=14) # y axis label\n",
    "plt.xlabel('CityTier', fontsize=14) # x axis label\n",
    "plt.tick_params(axis = 'both', which = 'major', labelsize = 14)\n",
    "\n",
    "plt.tight_layout()"
   ]
  },
  {
   "cell_type": "code",
   "execution_count": 477,
   "id": "7221f55e-9dfd-42ef-b868-f77554b7662d",
   "metadata": {},
   "outputs": [
    {
     "data": {
      "text/html": [
       "<div>\n",
       "<style scoped>\n",
       "    .dataframe tbody tr th:only-of-type {\n",
       "        vertical-align: middle;\n",
       "    }\n",
       "\n",
       "    .dataframe tbody tr th {\n",
       "        vertical-align: top;\n",
       "    }\n",
       "\n",
       "    .dataframe thead th {\n",
       "        text-align: right;\n",
       "    }\n",
       "</style>\n",
       "<table border=\"1\" class=\"dataframe\">\n",
       "  <thead>\n",
       "    <tr style=\"text-align: right;\">\n",
       "      <th></th>\n",
       "      <th>Churn</th>\n",
       "      <th>SatisfactionScore</th>\n",
       "      <th>CustomerID</th>\n",
       "    </tr>\n",
       "  </thead>\n",
       "  <tbody>\n",
       "    <tr>\n",
       "      <th>0</th>\n",
       "      <td>0</td>\n",
       "      <td>1</td>\n",
       "      <td>1030</td>\n",
       "    </tr>\n",
       "    <tr>\n",
       "      <th>1</th>\n",
       "      <td>0</td>\n",
       "      <td>2</td>\n",
       "      <td>512</td>\n",
       "    </tr>\n",
       "    <tr>\n",
       "      <th>2</th>\n",
       "      <td>0</td>\n",
       "      <td>3</td>\n",
       "      <td>1406</td>\n",
       "    </tr>\n",
       "    <tr>\n",
       "      <th>3</th>\n",
       "      <td>0</td>\n",
       "      <td>4</td>\n",
       "      <td>890</td>\n",
       "    </tr>\n",
       "    <tr>\n",
       "      <th>4</th>\n",
       "      <td>0</td>\n",
       "      <td>5</td>\n",
       "      <td>844</td>\n",
       "    </tr>\n",
       "    <tr>\n",
       "      <th>5</th>\n",
       "      <td>1</td>\n",
       "      <td>1</td>\n",
       "      <td>134</td>\n",
       "    </tr>\n",
       "    <tr>\n",
       "      <th>6</th>\n",
       "      <td>1</td>\n",
       "      <td>2</td>\n",
       "      <td>74</td>\n",
       "    </tr>\n",
       "    <tr>\n",
       "      <th>7</th>\n",
       "      <td>1</td>\n",
       "      <td>3</td>\n",
       "      <td>292</td>\n",
       "    </tr>\n",
       "    <tr>\n",
       "      <th>8</th>\n",
       "      <td>1</td>\n",
       "      <td>4</td>\n",
       "      <td>184</td>\n",
       "    </tr>\n",
       "    <tr>\n",
       "      <th>9</th>\n",
       "      <td>1</td>\n",
       "      <td>5</td>\n",
       "      <td>264</td>\n",
       "    </tr>\n",
       "  </tbody>\n",
       "</table>\n",
       "</div>"
      ],
      "text/plain": [
       "   Churn  SatisfactionScore  CustomerID\n",
       "0      0                  1        1030\n",
       "1      0                  2         512\n",
       "2      0                  3        1406\n",
       "3      0                  4         890\n",
       "4      0                  5         844\n",
       "5      1                  1         134\n",
       "6      1                  2          74\n",
       "7      1                  3         292\n",
       "8      1                  4         184\n",
       "9      1                  5         264"
      ]
     },
     "execution_count": 477,
     "metadata": {},
     "output_type": "execute_result"
    }
   ],
   "source": [
    "group_by_SatisfactionScore = df_featureinsight.groupby(['Churn','SatisfactionScore']).agg({'CustomerID':'nunique'}).reset_index()\n",
    "group_by_SatisfactionScore"
   ]
  },
  {
   "cell_type": "code",
   "execution_count": 478,
   "id": "b9b491ec-5126-4231-aba2-98dd1763b600",
   "metadata": {},
   "outputs": [
    {
     "data": {
      "image/png": "[encoded data removed]",
      "text/plain": [
       "<Figure size 1080x576 with 1 Axes>"
      ]
     },
     "metadata": {
      "needs_background": "light"
     },
     "output_type": "display_data"
    }
   ],
   "source": [
    "plt.figure(figsize=(15,8))\n",
    "sns.barplot(y='CustomerID', x='SatisfactionScore', hue='Churn', data=group_by_SatisfactionScore)\n",
    "\n",
    "plt.title(\"Churn by SatisfactionScore\",color='black',fontsize=18,fontweight='bold')\n",
    "plt.ylabel('Total Unique Customer', fontsize=14) # y axis label\n",
    "plt.xlabel('SatisfactionScore', fontsize=14) # x axis label\n",
    "plt.tick_params(axis = 'both', which = 'major', labelsize = 14)\n",
    "\n",
    "plt.tight_layout()"
   ]
  },
  {
   "cell_type": "code",
   "execution_count": 484,
   "id": "f83b7f71-e558-431d-9451-613aa343094e",
   "metadata": {},
   "outputs": [
    {
     "data": {
      "text/html": [
       "<div>\n",
       "<style scoped>\n",
       "    .dataframe tbody tr th:only-of-type {\n",
       "        vertical-align: middle;\n",
       "    }\n",
       "\n",
       "    .dataframe tbody tr th {\n",
       "        vertical-align: top;\n",
       "    }\n",
       "\n",
       "    .dataframe thead th {\n",
       "        text-align: right;\n",
       "    }\n",
       "</style>\n",
       "<table border=\"1\" class=\"dataframe\">\n",
       "  <thead>\n",
       "    <tr style=\"text-align: right;\">\n",
       "      <th></th>\n",
       "      <th>Churn</th>\n",
       "      <th>HourSpendOnApp</th>\n",
       "      <th>CustomerID</th>\n",
       "    </tr>\n",
       "  </thead>\n",
       "  <tbody>\n",
       "    <tr>\n",
       "      <th>0</th>\n",
       "      <td>0</td>\n",
       "      <td>0</td>\n",
       "      <td>3</td>\n",
       "    </tr>\n",
       "    <tr>\n",
       "      <th>1</th>\n",
       "      <td>0</td>\n",
       "      <td>1</td>\n",
       "      <td>35</td>\n",
       "    </tr>\n",
       "    <tr>\n",
       "      <th>2</th>\n",
       "      <td>0</td>\n",
       "      <td>2</td>\n",
       "      <td>1239</td>\n",
       "    </tr>\n",
       "    <tr>\n",
       "      <th>3</th>\n",
       "      <td>0</td>\n",
       "      <td>3</td>\n",
       "      <td>2424</td>\n",
       "    </tr>\n",
       "    <tr>\n",
       "      <th>4</th>\n",
       "      <td>0</td>\n",
       "      <td>4</td>\n",
       "      <td>978</td>\n",
       "    </tr>\n",
       "    <tr>\n",
       "      <th>5</th>\n",
       "      <td>0</td>\n",
       "      <td>5</td>\n",
       "      <td>3</td>\n",
       "    </tr>\n",
       "    <tr>\n",
       "      <th>6</th>\n",
       "      <td>1</td>\n",
       "      <td>2</td>\n",
       "      <td>232</td>\n",
       "    </tr>\n",
       "    <tr>\n",
       "      <th>7</th>\n",
       "      <td>1</td>\n",
       "      <td>3</td>\n",
       "      <td>518</td>\n",
       "    </tr>\n",
       "    <tr>\n",
       "      <th>8</th>\n",
       "      <td>1</td>\n",
       "      <td>4</td>\n",
       "      <td>198</td>\n",
       "    </tr>\n",
       "  </tbody>\n",
       "</table>\n",
       "</div>"
      ],
      "text/plain": [
       "   Churn  HourSpendOnApp  CustomerID\n",
       "0      0               0           3\n",
       "1      0               1          35\n",
       "2      0               2        1239\n",
       "3      0               3        2424\n",
       "4      0               4         978\n",
       "5      0               5           3\n",
       "6      1               2         232\n",
       "7      1               3         518\n",
       "8      1               4         198"
      ]
     },
     "execution_count": 484,
     "metadata": {},
     "output_type": "execute_result"
    }
   ],
   "source": [
    "group_by_HourSpendOnApp = df_featureinsight.groupby(['Churn','HourSpendOnApp']).agg({'CustomerID':'nunique'}).reset_index()\n",
    "group_by_HourSpendOnApp"
   ]
  },
  {
   "cell_type": "code",
   "execution_count": 487,
   "id": "bf4f45c1-bb8d-44e0-92b0-ccb12083ac59",
   "metadata": {},
   "outputs": [
    {
     "data": {
      "image/png": "[encoded data removed]",
      "text/plain": [
       "<Figure size 1080x576 with 1 Axes>"
      ]
     },
     "metadata": {
      "needs_background": "light"
     },
     "output_type": "display_data"
    }
   ],
   "source": [
    "plt.figure(figsize=(15,8))\n",
    "sns.barplot(y='CustomerID', x='HourSpendOnApp', hue='Churn', data=group_by_HourSpendOnApp)\n",
    "\n",
    "plt.title(\"Churn by HourSpendOnApp\",color='black',fontsize=18,fontweight='bold')\n",
    "plt.ylabel('Total Unique Customer', fontsize=14) # y axis label\n",
    "plt.xlabel('HourSpendOnApp', fontsize=14) # x axis label\n",
    "plt.tick_params(axis = 'both', which = 'major', labelsize = 14)\n",
    "\n",
    "plt.tight_layout()"
   ]
  },
  {
   "cell_type": "code",
   "execution_count": 488,
   "id": "4a49c5a7-0f08-43c5-a296-c2f4d5afce90",
   "metadata": {},
   "outputs": [
    {
     "data": {
      "text/html": [
       "<div>\n",
       "<style scoped>\n",
       "    .dataframe tbody tr th:only-of-type {\n",
       "        vertical-align: middle;\n",
       "    }\n",
       "\n",
       "    .dataframe tbody tr th {\n",
       "        vertical-align: top;\n",
       "    }\n",
       "\n",
       "    .dataframe thead th {\n",
       "        text-align: right;\n",
       "    }\n",
       "</style>\n",
       "<table border=\"1\" class=\"dataframe\">\n",
       "  <thead>\n",
       "    <tr style=\"text-align: right;\">\n",
       "      <th></th>\n",
       "      <th>Churn</th>\n",
       "      <th>Gender</th>\n",
       "      <th>CustomerID</th>\n",
       "    </tr>\n",
       "  </thead>\n",
       "  <tbody>\n",
       "    <tr>\n",
       "      <th>0</th>\n",
       "      <td>0</td>\n",
       "      <td>Female</td>\n",
       "      <td>1898</td>\n",
       "    </tr>\n",
       "    <tr>\n",
       "      <th>1</th>\n",
       "      <td>0</td>\n",
       "      <td>Male</td>\n",
       "      <td>2784</td>\n",
       "    </tr>\n",
       "    <tr>\n",
       "      <th>2</th>\n",
       "      <td>1</td>\n",
       "      <td>Female</td>\n",
       "      <td>348</td>\n",
       "    </tr>\n",
       "    <tr>\n",
       "      <th>3</th>\n",
       "      <td>1</td>\n",
       "      <td>Male</td>\n",
       "      <td>600</td>\n",
       "    </tr>\n",
       "  </tbody>\n",
       "</table>\n",
       "</div>"
      ],
      "text/plain": [
       "   Churn  Gender  CustomerID\n",
       "0      0  Female        1898\n",
       "1      0    Male        2784\n",
       "2      1  Female         348\n",
       "3      1    Male         600"
      ]
     },
     "execution_count": 488,
     "metadata": {},
     "output_type": "execute_result"
    }
   ],
   "source": [
    "group_by_Gender = df_featureinsight.groupby(['Churn','Gender']).agg({'CustomerID':'nunique'}).reset_index()\n",
    "group_by_Gender"
   ]
  },
  {
   "cell_type": "code",
   "execution_count": 490,
   "id": "d449dffb-06ca-46a9-8c0d-9d917852d78a",
   "metadata": {},
   "outputs": [
    {
     "data": {
      "image/png": "[encoded data removed]",
      "text/plain": [
       "<Figure size 1080x576 with 1 Axes>"
      ]
     },
     "metadata": {
      "needs_background": "light"
     },
     "output_type": "display_data"
    }
   ],
   "source": [
    "plt.figure(figsize=(15,8))\n",
    "sns.barplot(y='CustomerID', x='Gender', hue='Churn', data=group_by_Gender)\n",
    "\n",
    "plt.title(\"Churn by Gender\",color='black',fontsize=18,fontweight='bold')\n",
    "plt.ylabel('Total Unique Customer', fontsize=14) # y axis label\n",
    "plt.xlabel('Gender', fontsize=14) # x axis label\n",
    "plt.tick_params(axis = 'both', which = 'major', labelsize = 14)\n",
    "\n",
    "plt.tight_layout()"
   ]
  },
  {
   "cell_type": "code",
   "execution_count": 495,
   "id": "0ac50815-cdb7-4a5c-9fc8-46caa41fe353",
   "metadata": {},
   "outputs": [
    {
     "data": {
      "text/html": [
       "<div>\n",
       "<style scoped>\n",
       "    .dataframe tbody tr th:only-of-type {\n",
       "        vertical-align: middle;\n",
       "    }\n",
       "\n",
       "    .dataframe tbody tr th {\n",
       "        vertical-align: top;\n",
       "    }\n",
       "\n",
       "    .dataframe thead th {\n",
       "        text-align: right;\n",
       "    }\n",
       "</style>\n",
       "<table border=\"1\" class=\"dataframe\">\n",
       "  <thead>\n",
       "    <tr style=\"text-align: right;\">\n",
       "      <th></th>\n",
       "      <th>Churn</th>\n",
       "      <th>PreferredPaymentMode</th>\n",
       "      <th>CustomerID</th>\n",
       "    </tr>\n",
       "  </thead>\n",
       "  <tbody>\n",
       "    <tr>\n",
       "      <th>0</th>\n",
       "      <td>0</td>\n",
       "      <td>Cash on Delivery</td>\n",
       "      <td>386</td>\n",
       "    </tr>\n",
       "    <tr>\n",
       "      <th>1</th>\n",
       "      <td>0</td>\n",
       "      <td>Credit Card</td>\n",
       "      <td>1522</td>\n",
       "    </tr>\n",
       "    <tr>\n",
       "      <th>2</th>\n",
       "      <td>0</td>\n",
       "      <td>Debit Card</td>\n",
       "      <td>1958</td>\n",
       "    </tr>\n",
       "    <tr>\n",
       "      <th>3</th>\n",
       "      <td>0</td>\n",
       "      <td>E wallet</td>\n",
       "      <td>474</td>\n",
       "    </tr>\n",
       "    <tr>\n",
       "      <th>4</th>\n",
       "      <td>0</td>\n",
       "      <td>UPI</td>\n",
       "      <td>342</td>\n",
       "    </tr>\n",
       "    <tr>\n",
       "      <th>5</th>\n",
       "      <td>1</td>\n",
       "      <td>Cash on Delivery</td>\n",
       "      <td>128</td>\n",
       "    </tr>\n",
       "    <tr>\n",
       "      <th>6</th>\n",
       "      <td>1</td>\n",
       "      <td>Credit Card</td>\n",
       "      <td>252</td>\n",
       "    </tr>\n",
       "    <tr>\n",
       "      <th>7</th>\n",
       "      <td>1</td>\n",
       "      <td>Debit Card</td>\n",
       "      <td>356</td>\n",
       "    </tr>\n",
       "    <tr>\n",
       "      <th>8</th>\n",
       "      <td>1</td>\n",
       "      <td>E wallet</td>\n",
       "      <td>140</td>\n",
       "    </tr>\n",
       "    <tr>\n",
       "      <th>9</th>\n",
       "      <td>1</td>\n",
       "      <td>UPI</td>\n",
       "      <td>72</td>\n",
       "    </tr>\n",
       "  </tbody>\n",
       "</table>\n",
       "</div>"
      ],
      "text/plain": [
       "   Churn PreferredPaymentMode  CustomerID\n",
       "0      0     Cash on Delivery         386\n",
       "1      0          Credit Card        1522\n",
       "2      0           Debit Card        1958\n",
       "3      0             E wallet         474\n",
       "4      0                  UPI         342\n",
       "5      1     Cash on Delivery         128\n",
       "6      1          Credit Card         252\n",
       "7      1           Debit Card         356\n",
       "8      1             E wallet         140\n",
       "9      1                  UPI          72"
      ]
     },
     "execution_count": 495,
     "metadata": {},
     "output_type": "execute_result"
    }
   ],
   "source": [
    "group_by_PreferredPaymentMode = df_featureinsight.groupby(['Churn','PreferredPaymentMode']).agg({'CustomerID':'nunique'}).reset_index()\n",
    "group_by_PreferredPaymentMode"
   ]
  },
  {
   "cell_type": "code",
   "execution_count": 496,
   "id": "de6fa137-b301-497e-b3cc-9b10f4fab620",
   "metadata": {},
   "outputs": [
    {
     "data": {
      "image/png": "[encoded data removed]",
      "text/plain": [
       "<Figure size 1080x576 with 1 Axes>"
      ]
     },
     "metadata": {
      "needs_background": "light"
     },
     "output_type": "display_data"
    }
   ],
   "source": [
    "plt.figure(figsize=(15,8))\n",
    "sns.barplot(y='CustomerID', x='PreferredPaymentMode', hue='Churn', data=group_by_PreferredPaymentMode)\n",
    "\n",
    "plt.title(\"Churn by PreferredPaymentMode\",color='black',fontsize=18,fontweight='bold')\n",
    "plt.ylabel('Total Unique Customer', fontsize=14) # y axis label\n",
    "plt.xlabel('PreferredPaymentMode', fontsize=14) # x axis label\n",
    "plt.tick_params(axis = 'both', which = 'major', labelsize = 14)\n",
    "\n",
    "plt.tight_layout()"
   ]
  },
  {
   "cell_type": "code",
   "execution_count": 498,
   "id": "6e2bb6b6-87c8-4876-b8df-19728d6850a6",
   "metadata": {},
   "outputs": [
    {
     "data": {
      "text/html": [
       "<div>\n",
       "<style scoped>\n",
       "    .dataframe tbody tr th:only-of-type {\n",
       "        vertical-align: middle;\n",
       "    }\n",
       "\n",
       "    .dataframe tbody tr th {\n",
       "        vertical-align: top;\n",
       "    }\n",
       "\n",
       "    .dataframe thead th {\n",
       "        text-align: right;\n",
       "    }\n",
       "</style>\n",
       "<table border=\"1\" class=\"dataframe\">\n",
       "  <thead>\n",
       "    <tr style=\"text-align: right;\">\n",
       "      <th></th>\n",
       "      <th>Churn</th>\n",
       "      <th>MaritalStatus</th>\n",
       "      <th>CustomerID</th>\n",
       "    </tr>\n",
       "  </thead>\n",
       "  <tbody>\n",
       "    <tr>\n",
       "      <th>0</th>\n",
       "      <td>0</td>\n",
       "      <td>Divorced</td>\n",
       "      <td>724</td>\n",
       "    </tr>\n",
       "    <tr>\n",
       "      <th>1</th>\n",
       "      <td>0</td>\n",
       "      <td>Married</td>\n",
       "      <td>2642</td>\n",
       "    </tr>\n",
       "    <tr>\n",
       "      <th>2</th>\n",
       "      <td>0</td>\n",
       "      <td>Single</td>\n",
       "      <td>1316</td>\n",
       "    </tr>\n",
       "    <tr>\n",
       "      <th>3</th>\n",
       "      <td>1</td>\n",
       "      <td>Divorced</td>\n",
       "      <td>124</td>\n",
       "    </tr>\n",
       "    <tr>\n",
       "      <th>4</th>\n",
       "      <td>1</td>\n",
       "      <td>Married</td>\n",
       "      <td>344</td>\n",
       "    </tr>\n",
       "    <tr>\n",
       "      <th>5</th>\n",
       "      <td>1</td>\n",
       "      <td>Single</td>\n",
       "      <td>480</td>\n",
       "    </tr>\n",
       "  </tbody>\n",
       "</table>\n",
       "</div>"
      ],
      "text/plain": [
       "   Churn MaritalStatus  CustomerID\n",
       "0      0      Divorced         724\n",
       "1      0       Married        2642\n",
       "2      0        Single        1316\n",
       "3      1      Divorced         124\n",
       "4      1       Married         344\n",
       "5      1        Single         480"
      ]
     },
     "execution_count": 498,
     "metadata": {},
     "output_type": "execute_result"
    }
   ],
   "source": [
    "group_by_MaritalStatus = df_featureinsight.groupby(['Churn','MaritalStatus']).agg({'CustomerID':'nunique'}).reset_index()\n",
    "group_by_MaritalStatus"
   ]
  },
  {
   "cell_type": "code",
   "execution_count": 499,
   "id": "3984d42c-e6d1-4d79-a75d-f678cc7c28e0",
   "metadata": {},
   "outputs": [
    {
     "data": {
      "image/png": "[encoded data removed]",
      "text/plain": [
       "<Figure size 1080x576 with 1 Axes>"
      ]
     },
     "metadata": {
      "needs_background": "light"
     },
     "output_type": "display_data"
    }
   ],
   "source": [
    "plt.figure(figsize=(15,8))\n",
    "sns.barplot(y='CustomerID', x='MaritalStatus', hue='Churn', data=group_by_MaritalStatus)\n",
    "\n",
    "plt.title(\"Churn by MaritalStatus\",color='black',fontsize=18,fontweight='bold')\n",
    "plt.ylabel('Total Unique Customer', fontsize=14) # y axis label\n",
    "plt.xlabel('MaritalStatus', fontsize=14) # x axis label\n",
    "plt.tick_params(axis = 'both', which = 'major', labelsize = 14)\n",
    "\n",
    "plt.tight_layout()"
   ]
  },
  {
   "cell_type": "code",
   "execution_count": 500,
   "id": "b5cc6e8a-892f-421d-a0c8-306f2cc9cd70",
   "metadata": {},
   "outputs": [
    {
     "data": {
      "text/html": [
       "<div>\n",
       "<style scoped>\n",
       "    .dataframe tbody tr th:only-of-type {\n",
       "        vertical-align: middle;\n",
       "    }\n",
       "\n",
       "    .dataframe tbody tr th {\n",
       "        vertical-align: top;\n",
       "    }\n",
       "\n",
       "    .dataframe thead th {\n",
       "        text-align: right;\n",
       "    }\n",
       "</style>\n",
       "<table border=\"1\" class=\"dataframe\">\n",
       "  <thead>\n",
       "    <tr style=\"text-align: right;\">\n",
       "      <th></th>\n",
       "      <th>Churn</th>\n",
       "      <th>CouponUsed</th>\n",
       "      <th>CustomerID</th>\n",
       "    </tr>\n",
       "  </thead>\n",
       "  <tbody>\n",
       "    <tr>\n",
       "      <th>0</th>\n",
       "      <td>0</td>\n",
       "      <td>0</td>\n",
       "      <td>844</td>\n",
       "    </tr>\n",
       "    <tr>\n",
       "      <th>1</th>\n",
       "      <td>0</td>\n",
       "      <td>1</td>\n",
       "      <td>1975</td>\n",
       "    </tr>\n",
       "    <tr>\n",
       "      <th>2</th>\n",
       "      <td>0</td>\n",
       "      <td>2</td>\n",
       "      <td>1061</td>\n",
       "    </tr>\n",
       "    <tr>\n",
       "      <th>3</th>\n",
       "      <td>0</td>\n",
       "      <td>3</td>\n",
       "      <td>281</td>\n",
       "    </tr>\n",
       "    <tr>\n",
       "      <th>4</th>\n",
       "      <td>0</td>\n",
       "      <td>4</td>\n",
       "      <td>167</td>\n",
       "    </tr>\n",
       "    <tr>\n",
       "      <th>5</th>\n",
       "      <td>0</td>\n",
       "      <td>5</td>\n",
       "      <td>106</td>\n",
       "    </tr>\n",
       "    <tr>\n",
       "      <th>6</th>\n",
       "      <td>0</td>\n",
       "      <td>6</td>\n",
       "      <td>90</td>\n",
       "    </tr>\n",
       "    <tr>\n",
       "      <th>7</th>\n",
       "      <td>0</td>\n",
       "      <td>7</td>\n",
       "      <td>71</td>\n",
       "    </tr>\n",
       "    <tr>\n",
       "      <th>8</th>\n",
       "      <td>0</td>\n",
       "      <td>8</td>\n",
       "      <td>33</td>\n",
       "    </tr>\n",
       "    <tr>\n",
       "      <th>9</th>\n",
       "      <td>0</td>\n",
       "      <td>9</td>\n",
       "      <td>11</td>\n",
       "    </tr>\n",
       "    <tr>\n",
       "      <th>10</th>\n",
       "      <td>0</td>\n",
       "      <td>10</td>\n",
       "      <td>11</td>\n",
       "    </tr>\n",
       "    <tr>\n",
       "      <th>11</th>\n",
       "      <td>0</td>\n",
       "      <td>11</td>\n",
       "      <td>10</td>\n",
       "    </tr>\n",
       "    <tr>\n",
       "      <th>12</th>\n",
       "      <td>0</td>\n",
       "      <td>12</td>\n",
       "      <td>8</td>\n",
       "    </tr>\n",
       "    <tr>\n",
       "      <th>13</th>\n",
       "      <td>0</td>\n",
       "      <td>13</td>\n",
       "      <td>8</td>\n",
       "    </tr>\n",
       "    <tr>\n",
       "      <th>14</th>\n",
       "      <td>0</td>\n",
       "      <td>14</td>\n",
       "      <td>5</td>\n",
       "    </tr>\n",
       "    <tr>\n",
       "      <th>15</th>\n",
       "      <td>0</td>\n",
       "      <td>16</td>\n",
       "      <td>1</td>\n",
       "    </tr>\n",
       "    <tr>\n",
       "      <th>16</th>\n",
       "      <td>1</td>\n",
       "      <td>0</td>\n",
       "      <td>186</td>\n",
       "    </tr>\n",
       "    <tr>\n",
       "      <th>17</th>\n",
       "      <td>1</td>\n",
       "      <td>1</td>\n",
       "      <td>386</td>\n",
       "    </tr>\n",
       "    <tr>\n",
       "      <th>18</th>\n",
       "      <td>1</td>\n",
       "      <td>2</td>\n",
       "      <td>222</td>\n",
       "    </tr>\n",
       "    <tr>\n",
       "      <th>19</th>\n",
       "      <td>1</td>\n",
       "      <td>3</td>\n",
       "      <td>46</td>\n",
       "    </tr>\n",
       "    <tr>\n",
       "      <th>20</th>\n",
       "      <td>1</td>\n",
       "      <td>4</td>\n",
       "      <td>30</td>\n",
       "    </tr>\n",
       "    <tr>\n",
       "      <th>21</th>\n",
       "      <td>1</td>\n",
       "      <td>5</td>\n",
       "      <td>23</td>\n",
       "    </tr>\n",
       "    <tr>\n",
       "      <th>22</th>\n",
       "      <td>1</td>\n",
       "      <td>6</td>\n",
       "      <td>18</td>\n",
       "    </tr>\n",
       "    <tr>\n",
       "      <th>23</th>\n",
       "      <td>1</td>\n",
       "      <td>7</td>\n",
       "      <td>18</td>\n",
       "    </tr>\n",
       "    <tr>\n",
       "      <th>24</th>\n",
       "      <td>1</td>\n",
       "      <td>8</td>\n",
       "      <td>9</td>\n",
       "    </tr>\n",
       "    <tr>\n",
       "      <th>25</th>\n",
       "      <td>1</td>\n",
       "      <td>9</td>\n",
       "      <td>2</td>\n",
       "    </tr>\n",
       "    <tr>\n",
       "      <th>26</th>\n",
       "      <td>1</td>\n",
       "      <td>10</td>\n",
       "      <td>3</td>\n",
       "    </tr>\n",
       "    <tr>\n",
       "      <th>27</th>\n",
       "      <td>1</td>\n",
       "      <td>11</td>\n",
       "      <td>2</td>\n",
       "    </tr>\n",
       "    <tr>\n",
       "      <th>28</th>\n",
       "      <td>1</td>\n",
       "      <td>12</td>\n",
       "      <td>1</td>\n",
       "    </tr>\n",
       "    <tr>\n",
       "      <th>29</th>\n",
       "      <td>1</td>\n",
       "      <td>15</td>\n",
       "      <td>1</td>\n",
       "    </tr>\n",
       "    <tr>\n",
       "      <th>30</th>\n",
       "      <td>1</td>\n",
       "      <td>16</td>\n",
       "      <td>1</td>\n",
       "    </tr>\n",
       "  </tbody>\n",
       "</table>\n",
       "</div>"
      ],
      "text/plain": [
       "    Churn  CouponUsed  CustomerID\n",
       "0       0           0         844\n",
       "1       0           1        1975\n",
       "2       0           2        1061\n",
       "3       0           3         281\n",
       "4       0           4         167\n",
       "5       0           5         106\n",
       "6       0           6          90\n",
       "7       0           7          71\n",
       "8       0           8          33\n",
       "9       0           9          11\n",
       "10      0          10          11\n",
       "11      0          11          10\n",
       "12      0          12           8\n",
       "13      0          13           8\n",
       "14      0          14           5\n",
       "15      0          16           1\n",
       "16      1           0         186\n",
       "17      1           1         386\n",
       "18      1           2         222\n",
       "19      1           3          46\n",
       "20      1           4          30\n",
       "21      1           5          23\n",
       "22      1           6          18\n",
       "23      1           7          18\n",
       "24      1           8           9\n",
       "25      1           9           2\n",
       "26      1          10           3\n",
       "27      1          11           2\n",
       "28      1          12           1\n",
       "29      1          15           1\n",
       "30      1          16           1"
      ]
     },
     "execution_count": 500,
     "metadata": {},
     "output_type": "execute_result"
    }
   ],
   "source": [
    "group_by_CouponUsed = df_featureinsight.groupby(['Churn','CouponUsed']).agg({'CustomerID':'nunique'}).reset_index()\n",
    "group_by_CouponUsed"
   ]
  },
  {
   "cell_type": "code",
   "execution_count": 501,
   "id": "8cb49230-0719-44d8-89af-e5a0b7e064f1",
   "metadata": {},
   "outputs": [
    {
     "data": {
      "image/png": "[encoded data removed]",
      "text/plain": [
       "<Figure size 1080x576 with 1 Axes>"
      ]
     },
     "metadata": {
      "needs_background": "light"
     },
     "output_type": "display_data"
    }
   ],
   "source": [
    "plt.figure(figsize=(15,8))\n",
    "sns.barplot(y='CustomerID', x='CouponUsed', hue='Churn', data=group_by_CouponUsed)\n",
    "\n",
    "plt.title(\"Churn by CouponUsed\",color='black',fontsize=18,fontweight='bold')\n",
    "plt.ylabel('Total Unique Customer', fontsize=14) # y axis label\n",
    "plt.xlabel('CouponUsed', fontsize=14) # x axis label\n",
    "plt.tick_params(axis = 'both', which = 'major', labelsize = 14)\n",
    "\n",
    "plt.tight_layout()"
   ]
  },
  {
   "cell_type": "code",
   "execution_count": 503,
   "id": "06b78d50-0671-4f3a-a970-54c31475ff63",
   "metadata": {},
   "outputs": [
    {
     "data": {
      "text/html": [
       "<div>\n",
       "<style scoped>\n",
       "    .dataframe tbody tr th:only-of-type {\n",
       "        vertical-align: middle;\n",
       "    }\n",
       "\n",
       "    .dataframe tbody tr th {\n",
       "        vertical-align: top;\n",
       "    }\n",
       "\n",
       "    .dataframe thead th {\n",
       "        text-align: right;\n",
       "    }\n",
       "</style>\n",
       "<table border=\"1\" class=\"dataframe\">\n",
       "  <thead>\n",
       "    <tr style=\"text-align: right;\">\n",
       "      <th></th>\n",
       "      <th>Churn</th>\n",
       "      <th>OrderCount</th>\n",
       "      <th>CustomerID</th>\n",
       "    </tr>\n",
       "  </thead>\n",
       "  <tbody>\n",
       "    <tr>\n",
       "      <th>0</th>\n",
       "      <td>0</td>\n",
       "      <td>1</td>\n",
       "      <td>1435</td>\n",
       "    </tr>\n",
       "    <tr>\n",
       "      <th>1</th>\n",
       "      <td>0</td>\n",
       "      <td>2</td>\n",
       "      <td>1895</td>\n",
       "    </tr>\n",
       "    <tr>\n",
       "      <th>2</th>\n",
       "      <td>0</td>\n",
       "      <td>3</td>\n",
       "      <td>303</td>\n",
       "    </tr>\n",
       "    <tr>\n",
       "      <th>3</th>\n",
       "      <td>0</td>\n",
       "      <td>4</td>\n",
       "      <td>176</td>\n",
       "    </tr>\n",
       "    <tr>\n",
       "      <th>4</th>\n",
       "      <td>0</td>\n",
       "      <td>5</td>\n",
       "      <td>167</td>\n",
       "    </tr>\n",
       "    <tr>\n",
       "      <th>5</th>\n",
       "      <td>0</td>\n",
       "      <td>6</td>\n",
       "      <td>121</td>\n",
       "    </tr>\n",
       "    <tr>\n",
       "      <th>6</th>\n",
       "      <td>0</td>\n",
       "      <td>7</td>\n",
       "      <td>164</td>\n",
       "    </tr>\n",
       "    <tr>\n",
       "      <th>7</th>\n",
       "      <td>0</td>\n",
       "      <td>8</td>\n",
       "      <td>140</td>\n",
       "    </tr>\n",
       "    <tr>\n",
       "      <th>8</th>\n",
       "      <td>0</td>\n",
       "      <td>9</td>\n",
       "      <td>54</td>\n",
       "    </tr>\n",
       "    <tr>\n",
       "      <th>9</th>\n",
       "      <td>0</td>\n",
       "      <td>10</td>\n",
       "      <td>28</td>\n",
       "    </tr>\n",
       "    <tr>\n",
       "      <th>10</th>\n",
       "      <td>0</td>\n",
       "      <td>11</td>\n",
       "      <td>45</td>\n",
       "    </tr>\n",
       "    <tr>\n",
       "      <th>11</th>\n",
       "      <td>0</td>\n",
       "      <td>12</td>\n",
       "      <td>52</td>\n",
       "    </tr>\n",
       "    <tr>\n",
       "      <th>12</th>\n",
       "      <td>0</td>\n",
       "      <td>13</td>\n",
       "      <td>28</td>\n",
       "    </tr>\n",
       "    <tr>\n",
       "      <th>13</th>\n",
       "      <td>0</td>\n",
       "      <td>14</td>\n",
       "      <td>30</td>\n",
       "    </tr>\n",
       "    <tr>\n",
       "      <th>14</th>\n",
       "      <td>0</td>\n",
       "      <td>15</td>\n",
       "      <td>27</td>\n",
       "    </tr>\n",
       "    <tr>\n",
       "      <th>15</th>\n",
       "      <td>0</td>\n",
       "      <td>16</td>\n",
       "      <td>17</td>\n",
       "    </tr>\n",
       "    <tr>\n",
       "      <th>16</th>\n",
       "      <td>1</td>\n",
       "      <td>1</td>\n",
       "      <td>316</td>\n",
       "    </tr>\n",
       "    <tr>\n",
       "      <th>17</th>\n",
       "      <td>1</td>\n",
       "      <td>2</td>\n",
       "      <td>388</td>\n",
       "    </tr>\n",
       "    <tr>\n",
       "      <th>18</th>\n",
       "      <td>1</td>\n",
       "      <td>3</td>\n",
       "      <td>68</td>\n",
       "    </tr>\n",
       "    <tr>\n",
       "      <th>19</th>\n",
       "      <td>1</td>\n",
       "      <td>4</td>\n",
       "      <td>28</td>\n",
       "    </tr>\n",
       "    <tr>\n",
       "      <th>20</th>\n",
       "      <td>1</td>\n",
       "      <td>5</td>\n",
       "      <td>14</td>\n",
       "    </tr>\n",
       "    <tr>\n",
       "      <th>21</th>\n",
       "      <td>1</td>\n",
       "      <td>6</td>\n",
       "      <td>16</td>\n",
       "    </tr>\n",
       "    <tr>\n",
       "      <th>22</th>\n",
       "      <td>1</td>\n",
       "      <td>7</td>\n",
       "      <td>42</td>\n",
       "    </tr>\n",
       "    <tr>\n",
       "      <th>23</th>\n",
       "      <td>1</td>\n",
       "      <td>8</td>\n",
       "      <td>32</td>\n",
       "    </tr>\n",
       "    <tr>\n",
       "      <th>24</th>\n",
       "      <td>1</td>\n",
       "      <td>9</td>\n",
       "      <td>8</td>\n",
       "    </tr>\n",
       "    <tr>\n",
       "      <th>25</th>\n",
       "      <td>1</td>\n",
       "      <td>10</td>\n",
       "      <td>8</td>\n",
       "    </tr>\n",
       "    <tr>\n",
       "      <th>26</th>\n",
       "      <td>1</td>\n",
       "      <td>11</td>\n",
       "      <td>6</td>\n",
       "    </tr>\n",
       "    <tr>\n",
       "      <th>27</th>\n",
       "      <td>1</td>\n",
       "      <td>12</td>\n",
       "      <td>2</td>\n",
       "    </tr>\n",
       "    <tr>\n",
       "      <th>28</th>\n",
       "      <td>1</td>\n",
       "      <td>13</td>\n",
       "      <td>2</td>\n",
       "    </tr>\n",
       "    <tr>\n",
       "      <th>29</th>\n",
       "      <td>1</td>\n",
       "      <td>14</td>\n",
       "      <td>6</td>\n",
       "    </tr>\n",
       "    <tr>\n",
       "      <th>30</th>\n",
       "      <td>1</td>\n",
       "      <td>15</td>\n",
       "      <td>6</td>\n",
       "    </tr>\n",
       "    <tr>\n",
       "      <th>31</th>\n",
       "      <td>1</td>\n",
       "      <td>16</td>\n",
       "      <td>6</td>\n",
       "    </tr>\n",
       "  </tbody>\n",
       "</table>\n",
       "</div>"
      ],
      "text/plain": [
       "    Churn  OrderCount  CustomerID\n",
       "0       0           1        1435\n",
       "1       0           2        1895\n",
       "2       0           3         303\n",
       "3       0           4         176\n",
       "4       0           5         167\n",
       "5       0           6         121\n",
       "6       0           7         164\n",
       "7       0           8         140\n",
       "8       0           9          54\n",
       "9       0          10          28\n",
       "10      0          11          45\n",
       "11      0          12          52\n",
       "12      0          13          28\n",
       "13      0          14          30\n",
       "14      0          15          27\n",
       "15      0          16          17\n",
       "16      1           1         316\n",
       "17      1           2         388\n",
       "18      1           3          68\n",
       "19      1           4          28\n",
       "20      1           5          14\n",
       "21      1           6          16\n",
       "22      1           7          42\n",
       "23      1           8          32\n",
       "24      1           9           8\n",
       "25      1          10           8\n",
       "26      1          11           6\n",
       "27      1          12           2\n",
       "28      1          13           2\n",
       "29      1          14           6\n",
       "30      1          15           6\n",
       "31      1          16           6"
      ]
     },
     "execution_count": 503,
     "metadata": {},
     "output_type": "execute_result"
    }
   ],
   "source": [
    "group_by_OrderCount = df_featureinsight.groupby(['Churn','OrderCount']).agg({'CustomerID':'nunique'}).reset_index()\n",
    "group_by_OrderCount"
   ]
  },
  {
   "cell_type": "code",
   "execution_count": 504,
   "id": "a285e48b-15cd-4a44-b3e7-3e0076d131ab",
   "metadata": {},
   "outputs": [
    {
     "data": {
      "image/png": "[encoded data removed]",
      "text/plain": [
       "<Figure size 1080x576 with 1 Axes>"
      ]
     },
     "metadata": {
      "needs_background": "light"
     },
     "output_type": "display_data"
    }
   ],
   "source": [
    "plt.figure(figsize=(15,8))\n",
    "sns.barplot(y='CustomerID', x='OrderCount', hue='Churn', data=group_by_OrderCount)\n",
    "\n",
    "plt.title(\"Churn by OrderCount\",color='black',fontsize=18,fontweight='bold')\n",
    "plt.ylabel('Total Unique Customer', fontsize=14) # y axis label\n",
    "plt.xlabel('OrderCount', fontsize=14) # x axis label\n",
    "plt.tick_params(axis = 'both', which = 'major', labelsize = 14)\n",
    "\n",
    "plt.tight_layout()"
   ]
  },
  {
   "cell_type": "code",
   "execution_count": 507,
   "id": "ab1b09e0-cbdb-4f0a-9ccc-9faa5a1fae2b",
   "metadata": {},
   "outputs": [
    {
     "data": {
      "text/html": [
       "<div>\n",
       "<style scoped>\n",
       "    .dataframe tbody tr th:only-of-type {\n",
       "        vertical-align: middle;\n",
       "    }\n",
       "\n",
       "    .dataframe tbody tr th {\n",
       "        vertical-align: top;\n",
       "    }\n",
       "\n",
       "    .dataframe thead th {\n",
       "        text-align: right;\n",
       "    }\n",
       "</style>\n",
       "<table border=\"1\" class=\"dataframe\">\n",
       "  <thead>\n",
       "    <tr style=\"text-align: right;\">\n",
       "      <th></th>\n",
       "      <th>Churn</th>\n",
       "      <th>NumberOfDeviceRegistered</th>\n",
       "      <th>CustomerID</th>\n",
       "    </tr>\n",
       "  </thead>\n",
       "  <tbody>\n",
       "    <tr>\n",
       "      <th>0</th>\n",
       "      <td>0</td>\n",
       "      <td>1</td>\n",
       "      <td>213</td>\n",
       "    </tr>\n",
       "    <tr>\n",
       "      <th>1</th>\n",
       "      <td>0</td>\n",
       "      <td>2</td>\n",
       "      <td>250</td>\n",
       "    </tr>\n",
       "    <tr>\n",
       "      <th>2</th>\n",
       "      <td>0</td>\n",
       "      <td>3</td>\n",
       "      <td>1445</td>\n",
       "    </tr>\n",
       "    <tr>\n",
       "      <th>3</th>\n",
       "      <td>0</td>\n",
       "      <td>4</td>\n",
       "      <td>1985</td>\n",
       "    </tr>\n",
       "    <tr>\n",
       "      <th>4</th>\n",
       "      <td>0</td>\n",
       "      <td>5</td>\n",
       "      <td>683</td>\n",
       "    </tr>\n",
       "    <tr>\n",
       "      <th>5</th>\n",
       "      <td>0</td>\n",
       "      <td>6</td>\n",
       "      <td>106</td>\n",
       "    </tr>\n",
       "    <tr>\n",
       "      <th>6</th>\n",
       "      <td>1</td>\n",
       "      <td>1</td>\n",
       "      <td>22</td>\n",
       "    </tr>\n",
       "    <tr>\n",
       "      <th>7</th>\n",
       "      <td>1</td>\n",
       "      <td>2</td>\n",
       "      <td>26</td>\n",
       "    </tr>\n",
       "    <tr>\n",
       "      <th>8</th>\n",
       "      <td>1</td>\n",
       "      <td>3</td>\n",
       "      <td>254</td>\n",
       "    </tr>\n",
       "    <tr>\n",
       "      <th>9</th>\n",
       "      <td>1</td>\n",
       "      <td>4</td>\n",
       "      <td>392</td>\n",
       "    </tr>\n",
       "    <tr>\n",
       "      <th>10</th>\n",
       "      <td>1</td>\n",
       "      <td>5</td>\n",
       "      <td>198</td>\n",
       "    </tr>\n",
       "    <tr>\n",
       "      <th>11</th>\n",
       "      <td>1</td>\n",
       "      <td>6</td>\n",
       "      <td>56</td>\n",
       "    </tr>\n",
       "  </tbody>\n",
       "</table>\n",
       "</div>"
      ],
      "text/plain": [
       "    Churn  NumberOfDeviceRegistered  CustomerID\n",
       "0       0                         1         213\n",
       "1       0                         2         250\n",
       "2       0                         3        1445\n",
       "3       0                         4        1985\n",
       "4       0                         5         683\n",
       "5       0                         6         106\n",
       "6       1                         1          22\n",
       "7       1                         2          26\n",
       "8       1                         3         254\n",
       "9       1                         4         392\n",
       "10      1                         5         198\n",
       "11      1                         6          56"
      ]
     },
     "execution_count": 507,
     "metadata": {},
     "output_type": "execute_result"
    }
   ],
   "source": [
    "group_by_NumberOfDeviceRegistered   = df_featureinsight.groupby(['Churn','NumberOfDeviceRegistered']).agg({'CustomerID':'nunique'}).reset_index()\n",
    "group_by_NumberOfDeviceRegistered  "
   ]
  },
  {
   "cell_type": "code",
   "execution_count": 508,
   "id": "c44a544f-e4c2-4a18-853c-9e3bf5fd819d",
   "metadata": {},
   "outputs": [
    {
     "data": {
      "image/png": "[encoded data removed]",
      "text/plain": [
       "<Figure size 1080x576 with 1 Axes>"
      ]
     },
     "metadata": {
      "needs_background": "light"
     },
     "output_type": "display_data"
    }
   ],
   "source": [
    "plt.figure(figsize=(15,8))\n",
    "sns.barplot(y='CustomerID', x='NumberOfDeviceRegistered', hue='Churn', data=group_by_NumberOfDeviceRegistered  )\n",
    "\n",
    "plt.title(\"Churn by NumberOfDeviceRegistered\",color='black',fontsize=18,fontweight='bold')\n",
    "plt.ylabel('Total Unique Customer', fontsize=14) # y axis label\n",
    "plt.xlabel('NumberOfDeviceRegistered ', fontsize=14) # x axis label\n",
    "plt.tick_params(axis = 'both', which = 'major', labelsize = 14)\n",
    "\n",
    "plt.tight_layout()"
   ]
  },
  {
   "cell_type": "code",
   "execution_count": 511,
   "id": "f030fc99-1aa3-44bc-b257-54d2af961818",
   "metadata": {},
   "outputs": [
    {
     "data": {
      "text/html": [
       "<div>\n",
       "<style scoped>\n",
       "    .dataframe tbody tr th:only-of-type {\n",
       "        vertical-align: middle;\n",
       "    }\n",
       "\n",
       "    .dataframe tbody tr th {\n",
       "        vertical-align: top;\n",
       "    }\n",
       "\n",
       "    .dataframe thead th {\n",
       "        text-align: right;\n",
       "    }\n",
       "</style>\n",
       "<table border=\"1\" class=\"dataframe\">\n",
       "  <thead>\n",
       "    <tr style=\"text-align: right;\">\n",
       "      <th></th>\n",
       "      <th>Churn</th>\n",
       "      <th>PreferredLoginDevice</th>\n",
       "      <th>CustomerID</th>\n",
       "    </tr>\n",
       "  </thead>\n",
       "  <tbody>\n",
       "    <tr>\n",
       "      <th>0</th>\n",
       "      <td>0</td>\n",
       "      <td>Computer</td>\n",
       "      <td>1310</td>\n",
       "    </tr>\n",
       "    <tr>\n",
       "      <th>1</th>\n",
       "      <td>0</td>\n",
       "      <td>Mobile Phone</td>\n",
       "      <td>3372</td>\n",
       "    </tr>\n",
       "    <tr>\n",
       "      <th>2</th>\n",
       "      <td>1</td>\n",
       "      <td>Computer</td>\n",
       "      <td>324</td>\n",
       "    </tr>\n",
       "    <tr>\n",
       "      <th>3</th>\n",
       "      <td>1</td>\n",
       "      <td>Mobile Phone</td>\n",
       "      <td>624</td>\n",
       "    </tr>\n",
       "  </tbody>\n",
       "</table>\n",
       "</div>"
      ],
      "text/plain": [
       "   Churn PreferredLoginDevice  CustomerID\n",
       "0      0             Computer        1310\n",
       "1      0         Mobile Phone        3372\n",
       "2      1             Computer         324\n",
       "3      1         Mobile Phone         624"
      ]
     },
     "execution_count": 511,
     "metadata": {},
     "output_type": "execute_result"
    }
   ],
   "source": [
    "group_by_PreferredLoginDevice  = df_featureinsight.groupby(['Churn','PreferredLoginDevice']).agg({'CustomerID':'nunique'}).reset_index()\n",
    "group_by_PreferredLoginDevice "
   ]
  },
  {
   "cell_type": "code",
   "execution_count": 512,
   "id": "085e8e04-abc8-4ec5-8133-6450637863ab",
   "metadata": {},
   "outputs": [
    {
     "data": {
      "image/png": "[encoded data removed]",
      "text/plain": [
       "<Figure size 1080x576 with 1 Axes>"
      ]
     },
     "metadata": {
      "needs_background": "light"
     },
     "output_type": "display_data"
    }
   ],
   "source": [
    "plt.figure(figsize=(15,8))\n",
    "sns.barplot(y='CustomerID', x='PreferredLoginDevice', hue='Churn', data=group_by_PreferredLoginDevice )\n",
    "\n",
    "plt.title(\"Churn by PreferredLoginDevice\",color='black',fontsize=18,fontweight='bold')\n",
    "plt.ylabel('Total Unique Customer', fontsize=14) # y axis label\n",
    "plt.xlabel('PreferredLoginDevice', fontsize=14) # x axis label\n",
    "plt.tick_params(axis = 'both', which = 'major', labelsize = 14)\n",
    "\n",
    "plt.tight_layout()"
   ]
  },
  {
   "cell_type": "code",
   "execution_count": 513,
   "id": "bb372148-0989-4694-a756-efc9fe1a42c3",
   "metadata": {},
   "outputs": [
    {
     "data": {
      "text/html": [
       "<div>\n",
       "<style scoped>\n",
       "    .dataframe tbody tr th:only-of-type {\n",
       "        vertical-align: middle;\n",
       "    }\n",
       "\n",
       "    .dataframe tbody tr th {\n",
       "        vertical-align: top;\n",
       "    }\n",
       "\n",
       "    .dataframe thead th {\n",
       "        text-align: right;\n",
       "    }\n",
       "</style>\n",
       "<table border=\"1\" class=\"dataframe\">\n",
       "  <thead>\n",
       "    <tr style=\"text-align: right;\">\n",
       "      <th></th>\n",
       "      <th>Churn</th>\n",
       "      <th>OrderAmountHikeFromlastYear</th>\n",
       "      <th>CustomerID</th>\n",
       "    </tr>\n",
       "  </thead>\n",
       "  <tbody>\n",
       "    <tr>\n",
       "      <th>0</th>\n",
       "      <td>0</td>\n",
       "      <td>11</td>\n",
       "      <td>309</td>\n",
       "    </tr>\n",
       "    <tr>\n",
       "      <th>1</th>\n",
       "      <td>0</td>\n",
       "      <td>12</td>\n",
       "      <td>584</td>\n",
       "    </tr>\n",
       "    <tr>\n",
       "      <th>2</th>\n",
       "      <td>0</td>\n",
       "      <td>13</td>\n",
       "      <td>613</td>\n",
       "    </tr>\n",
       "    <tr>\n",
       "      <th>3</th>\n",
       "      <td>0</td>\n",
       "      <td>14</td>\n",
       "      <td>634</td>\n",
       "    </tr>\n",
       "    <tr>\n",
       "      <th>4</th>\n",
       "      <td>0</td>\n",
       "      <td>15</td>\n",
       "      <td>711</td>\n",
       "    </tr>\n",
       "    <tr>\n",
       "      <th>5</th>\n",
       "      <td>0</td>\n",
       "      <td>16</td>\n",
       "      <td>269</td>\n",
       "    </tr>\n",
       "    <tr>\n",
       "      <th>6</th>\n",
       "      <td>0</td>\n",
       "      <td>17</td>\n",
       "      <td>243</td>\n",
       "    </tr>\n",
       "    <tr>\n",
       "      <th>7</th>\n",
       "      <td>0</td>\n",
       "      <td>18</td>\n",
       "      <td>267</td>\n",
       "    </tr>\n",
       "    <tr>\n",
       "      <th>8</th>\n",
       "      <td>0</td>\n",
       "      <td>19</td>\n",
       "      <td>267</td>\n",
       "    </tr>\n",
       "    <tr>\n",
       "      <th>9</th>\n",
       "      <td>0</td>\n",
       "      <td>20</td>\n",
       "      <td>211</td>\n",
       "    </tr>\n",
       "    <tr>\n",
       "      <th>10</th>\n",
       "      <td>0</td>\n",
       "      <td>21</td>\n",
       "      <td>166</td>\n",
       "    </tr>\n",
       "    <tr>\n",
       "      <th>11</th>\n",
       "      <td>0</td>\n",
       "      <td>22</td>\n",
       "      <td>150</td>\n",
       "    </tr>\n",
       "    <tr>\n",
       "      <th>12</th>\n",
       "      <td>0</td>\n",
       "      <td>23</td>\n",
       "      <td>108</td>\n",
       "    </tr>\n",
       "    <tr>\n",
       "      <th>13</th>\n",
       "      <td>0</td>\n",
       "      <td>24</td>\n",
       "      <td>60</td>\n",
       "    </tr>\n",
       "    <tr>\n",
       "      <th>14</th>\n",
       "      <td>0</td>\n",
       "      <td>25</td>\n",
       "      <td>59</td>\n",
       "    </tr>\n",
       "    <tr>\n",
       "      <th>15</th>\n",
       "      <td>0</td>\n",
       "      <td>26</td>\n",
       "      <td>31</td>\n",
       "    </tr>\n",
       "    <tr>\n",
       "      <th>16</th>\n",
       "      <td>1</td>\n",
       "      <td>11</td>\n",
       "      <td>82</td>\n",
       "    </tr>\n",
       "    <tr>\n",
       "      <th>17</th>\n",
       "      <td>1</td>\n",
       "      <td>12</td>\n",
       "      <td>144</td>\n",
       "    </tr>\n",
       "    <tr>\n",
       "      <th>18</th>\n",
       "      <td>1</td>\n",
       "      <td>13</td>\n",
       "      <td>128</td>\n",
       "    </tr>\n",
       "    <tr>\n",
       "      <th>19</th>\n",
       "      <td>1</td>\n",
       "      <td>14</td>\n",
       "      <td>116</td>\n",
       "    </tr>\n",
       "    <tr>\n",
       "      <th>20</th>\n",
       "      <td>1</td>\n",
       "      <td>15</td>\n",
       "      <td>96</td>\n",
       "    </tr>\n",
       "    <tr>\n",
       "      <th>21</th>\n",
       "      <td>1</td>\n",
       "      <td>16</td>\n",
       "      <td>64</td>\n",
       "    </tr>\n",
       "    <tr>\n",
       "      <th>22</th>\n",
       "      <td>1</td>\n",
       "      <td>17</td>\n",
       "      <td>54</td>\n",
       "    </tr>\n",
       "    <tr>\n",
       "      <th>23</th>\n",
       "      <td>1</td>\n",
       "      <td>18</td>\n",
       "      <td>54</td>\n",
       "    </tr>\n",
       "    <tr>\n",
       "      <th>24</th>\n",
       "      <td>1</td>\n",
       "      <td>19</td>\n",
       "      <td>44</td>\n",
       "    </tr>\n",
       "    <tr>\n",
       "      <th>25</th>\n",
       "      <td>1</td>\n",
       "      <td>20</td>\n",
       "      <td>32</td>\n",
       "    </tr>\n",
       "    <tr>\n",
       "      <th>26</th>\n",
       "      <td>1</td>\n",
       "      <td>21</td>\n",
       "      <td>24</td>\n",
       "    </tr>\n",
       "    <tr>\n",
       "      <th>27</th>\n",
       "      <td>1</td>\n",
       "      <td>22</td>\n",
       "      <td>34</td>\n",
       "    </tr>\n",
       "    <tr>\n",
       "      <th>28</th>\n",
       "      <td>1</td>\n",
       "      <td>23</td>\n",
       "      <td>36</td>\n",
       "    </tr>\n",
       "    <tr>\n",
       "      <th>29</th>\n",
       "      <td>1</td>\n",
       "      <td>24</td>\n",
       "      <td>24</td>\n",
       "    </tr>\n",
       "    <tr>\n",
       "      <th>30</th>\n",
       "      <td>1</td>\n",
       "      <td>25</td>\n",
       "      <td>14</td>\n",
       "    </tr>\n",
       "    <tr>\n",
       "      <th>31</th>\n",
       "      <td>1</td>\n",
       "      <td>26</td>\n",
       "      <td>2</td>\n",
       "    </tr>\n",
       "  </tbody>\n",
       "</table>\n",
       "</div>"
      ],
      "text/plain": [
       "    Churn  OrderAmountHikeFromlastYear  CustomerID\n",
       "0       0                           11         309\n",
       "1       0                           12         584\n",
       "2       0                           13         613\n",
       "3       0                           14         634\n",
       "4       0                           15         711\n",
       "5       0                           16         269\n",
       "6       0                           17         243\n",
       "7       0                           18         267\n",
       "8       0                           19         267\n",
       "9       0                           20         211\n",
       "10      0                           21         166\n",
       "11      0                           22         150\n",
       "12      0                           23         108\n",
       "13      0                           24          60\n",
       "14      0                           25          59\n",
       "15      0                           26          31\n",
       "16      1                           11          82\n",
       "17      1                           12         144\n",
       "18      1                           13         128\n",
       "19      1                           14         116\n",
       "20      1                           15          96\n",
       "21      1                           16          64\n",
       "22      1                           17          54\n",
       "23      1                           18          54\n",
       "24      1                           19          44\n",
       "25      1                           20          32\n",
       "26      1                           21          24\n",
       "27      1                           22          34\n",
       "28      1                           23          36\n",
       "29      1                           24          24\n",
       "30      1                           25          14\n",
       "31      1                           26           2"
      ]
     },
     "execution_count": 513,
     "metadata": {},
     "output_type": "execute_result"
    }
   ],
   "source": [
    "group_by_OrderAmountHikeFromlastYear  = df_featureinsight.groupby(['Churn','OrderAmountHikeFromlastYear']).agg({'CustomerID':'nunique'}).reset_index()\n",
    "group_by_OrderAmountHikeFromlastYear "
   ]
  },
  {
   "cell_type": "code",
   "execution_count": 514,
   "id": "fc6c29c2-cfb5-458d-9fd7-958dd7ba3293",
   "metadata": {},
   "outputs": [
    {
     "data": {
      "image/png": "[encoded data removed]",
      "text/plain": [
       "<Figure size 1080x576 with 1 Axes>"
      ]
     },
     "metadata": {
      "needs_background": "light"
     },
     "output_type": "display_data"
    }
   ],
   "source": [
    "plt.figure(figsize=(15,8))\n",
    "sns.barplot(y='CustomerID', x='OrderAmountHikeFromlastYear', hue='Churn', data=group_by_OrderAmountHikeFromlastYear)\n",
    "\n",
    "plt.title(\"Churn by OrderAmountHikeFromlastYear\",color='black',fontsize=18,fontweight='bold')\n",
    "plt.ylabel('Total Unique Customer', fontsize=14) # y axis label\n",
    "plt.xlabel('OrderAmountHikeFromlastYear', fontsize=14) # x axis label\n",
    "plt.tick_params(axis = 'both', which = 'major', labelsize = 14)\n",
    "\n",
    "plt.tight_layout()"
   ]
  },
  {
   "cell_type": "code",
   "execution_count": null,
   "id": "60176ce0-4d78-40c5-832a-aa876c8e81e5",
   "metadata": {},
   "outputs": [],
   "source": []
  }
 ],
 "metadata": {
  "kernelspec": {
   "display_name": "Python 3 (ipykernel)",
   "language": "python",
   "name": "python3"
  },
  "language_info": {
   "codemirror_mode": {
    "name": "ipython",
    "version": 3
   },
   "file_extension": ".py",
   "mimetype": "text/x-python",
   "name": "python",
   "nbconvert_exporter": "python",
   "pygments_lexer": "ipython3",
   "version": "3.9.12"
  }
 },
 "nbformat": 4,
 "nbformat_minor": 5
}
